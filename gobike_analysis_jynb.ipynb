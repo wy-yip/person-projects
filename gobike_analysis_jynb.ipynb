{
 "cells": [
  {
   "cell_type": "markdown",
   "metadata": {},
   "source": [
    "# GoBike scheme analysis\n",
    "\n",
    "Date created: 3 Oct 2022\n",
    "\n",
    "This is a preliminary analysis on the acquisition and expansion strategies for the Ford GoBike scheme. GoBike is a regional bike share scheme in the San Francisco Bay Area. The scheme is operated by Motivate and has been rebranded as Bay Wheels since 2019 after acquisition by Lyft. The dataset is available as a [Google Big Query public dataset](https://console.cloud.google.com/bigquery?p=bigquery-public-data&d=san_francisco_bikeshare&page=dataset).\n",
    "\n",
    "Although the dataset has multiple tables, this analysis is focused on the bikeshare_trips table. The bike availability table (bikeshare_station_status) is real time and thus exists in a different market context. \n",
    "\n",
    "Since the trips table only records trips dated 2013-2018, this analysis will be based on the market context in the period, specifically from 2016 to 2018. "
   ]
  },
  {
   "cell_type": "code",
   "execution_count": 1,
   "metadata": {},
   "outputs": [
    {
     "name": "stdout",
     "output_type": "stream",
     "text": [
      "<Scheduler: \"tcp://127.0.0.1:53723\" processes: 8 cores: 8>\n"
     ]
    }
   ],
   "source": [
    "from dask.distributed import Client, TimeoutError, LocalCluster\n",
    "\n",
    "# spin up local cluster to use all cores on your local machine\n",
    "\n",
    "cluster = LocalCluster(n_workers=8, threads_per_worker=1, memory_limit = '64GB')\n",
    "\n",
    "client = Client(cluster)\n",
    "\n",
    "print(cluster.scheduler)"
   ]
  },
  {
   "cell_type": "code",
   "execution_count": 13,
   "metadata": {},
   "outputs": [],
   "source": [
    "# analysis \n",
    "\n",
    "#analysis period: 2016-06-01 - 2018-05-01 (24 months)\n",
    "\n",
    "import os\n",
    "from google.cloud import bigquery\n",
    "import modin.pandas as mpd\n",
    "import pandas_gbq\n",
    "from google.oauth2 import service_account\n",
    "from shapely.geometry import Point\n",
    "import time\n",
    "import googlemaps\n",
    "import datetime\n",
    "import numpy as np\n",
    "import time\n",
    "import seaborn as sns\n",
    "import matplotlib.pyplot as plt\n",
    "\n",
    "import multiprocess as mp\n",
    "\n",
    "import plotly.graph_objects as go\n",
    "from matplotlib.ticker import FuncFormatter\n",
    "\n",
    "# to display figure while offline\n",
    "from plotly.offline import iplot\n",
    "\n",
    "# authenticate\n",
    "\n",
    "credentials = service_account.Credentials.from_service_account_file('bikeshare_service_key.json')\n",
    "pandas_gbq.context.credentials = credentials\n",
    "\n",
    "pandas_gbq.context.project = None # to be filled in\n",
    "\n",
    "map_api_key = None # to be filled\n",
    "\n",
    "gmaps = googlemaps.Client(key=map_api_key)\n"
   ]
  },
  {
   "cell_type": "markdown",
   "metadata": {},
   "source": [
    "### Getting data from Big Query\n",
    "\n",
    "Since processing 5 years of bike trip data imposes a high demand on memory, I queried 24 months of data as if this analysis was done in mid-2018. The resulting dataset is still quite big for a single machine (~1 million). I used modin and the multiprocess library throughout for parallel processing (need to spin up a cluster on local machine)."
   ]
  },
  {
   "cell_type": "code",
   "execution_count": 165,
   "metadata": {},
   "outputs": [
    {
     "name": "stdout",
     "output_type": "stream",
     "text": [
      "Time taken: 7min 12sec\n"
     ]
    }
   ],
   "source": [
    "# all trips dataaset\n",
    "\n",
    "t1 = time.time()\n",
    "\n",
    "all_trips = mpd.read_gbq(\"\"\"\n",
    "SELECT t.*\n",
    "FROM `moonlit-web-230506.san_francisco_ford_gobike_share.bikeshare_trips` t\n",
    "WHERE t.start_date >= '2016-05-01' AND t.start_date < '2018-05-01'\n",
    "\"\"\")\n",
    "\n",
    "t_query = time.time() - t1\n",
    "\n",
    "print('Time taken: {:.0f}min {:.0f}sec'.format(t_query//60, t_query%60))\n",
    "\n"
   ]
  },
  {
   "cell_type": "code",
   "execution_count": 79,
   "metadata": {},
   "outputs": [
    {
     "name": "stdout",
     "output_type": "stream",
     "text": [
      "No. of trips within the period: 1,049,693\n"
     ]
    }
   ],
   "source": [
    "print('No. of trips within the period: {:,}'.format(len(set(all_trips.trip_id))))"
   ]
  },
  {
   "cell_type": "code",
   "execution_count": 6,
   "metadata": {},
   "outputs": [
    {
     "name": "stdout",
     "output_type": "stream",
     "text": [
      "No. of trips without either one of station coordinates: 114,244\n"
     ]
    }
   ],
   "source": [
    "print('No. of trips without either one of station coordinates: {:,}'.format(all_trips[(all_trips['start_station_latitude'].isna()) | (all_trips['end_station_latitude'].isna())].trip_id.nunique()))"
   ]
  },
  {
   "cell_type": "markdown",
   "metadata": {},
   "source": [
    "### Data preprocessing\n",
    "\n",
    "1. Coordinates \n",
    "- Around 10% of stations do not have a coordinate. However, the bikeshare_station_info (station) table and the bikeshare_trips (trips) table cannot be joined by station_id as they have different formats. While many names coincide, some names in the trips table cannot be found in the station table. I fill in the missing coordinates in the trips table whenever the station is found in the station table. \n",
    "\n",
    "2. Calculate duration \n",
    "\n",
    "3. Calculate distance \n",
    "- By calling the Google distance matrix API, set _mode_ as 'bicycling' to get the most probable bike route between two points.\n",
    "- Beware of charges of API calls, I learnt the hard way!\n",
    "\n",
    "4. Clean subscriber columns \n",
    "- For some reason, the two columns, subscriber_type and c_subscription_type, each contains the subscriber value when the other column is null. Need to unify these two columns to get one subscriber value."
   ]
  },
  {
   "cell_type": "code",
   "execution_count": 80,
   "metadata": {},
   "outputs": [
    {
     "name": "stderr",
     "output_type": "stream",
     "text": [
      "c:\\Users\\WingyanYip\\anaconda3\\lib\\site-packages\\modin\\error_message.py:64: UserWarning:\n",
      "\n",
      "`read_gbq` defaulting to pandas implementation.\n",
      "\n"
     ]
    },
    {
     "name": "stdout",
     "output_type": "stream",
     "text": [
      "Time taken: 0min 2sec\n"
     ]
    }
   ],
   "source": [
    "# station table\n",
    "\n",
    "t1 = time.time()\n",
    "\n",
    "station_info = mpd.read_gbq(\"\"\"\n",
    "SELECT *\n",
    "FROM `moonlit-web-230506.san_francisco_ford_gobike_share.bikeshare_station_info` \n",
    "WHERE name in ('Cyril Magnin St at Ellis St', 'San Pedro Square', 'San Jose City Hall', 'Ryland Park')\n",
    "\"\"\")\n",
    "\n",
    "t_query = time.time() - t1\n",
    "\n",
    "print('Time taken: {:.0f}min {:.0f}sec'.format(t_query//60, t_query%60))"
   ]
  },
  {
   "cell_type": "code",
   "execution_count": null,
   "metadata": {},
   "outputs": [],
   "source": [
    "# join the two tables \n",
    "\n",
    "trips_df = all_trips.merge(station_info[['name', 'lat', 'lon']], how='left', left_on='start_station_name', right_on='name', copy=False, validate='many_to_one')\n",
    "trips_df.rename(columns={'lat':'start_lat', 'lon':'start_lon'}, inplace=True)\n",
    "trips_df.drop(columns='name', inplace=True)\n",
    "\n",
    "trips_df = trips_df.merge(station_info[['name', 'lat', 'lon']], how='left', left_on='end_station_name', right_on='name', copy=False, validate='many_to_one')\n",
    "trips_df.rename(columns={'lat':'end_lat', 'lon':'end_lon'}, inplace=True)\n",
    "trips_df.drop(columns='name', inplace=True)\n",
    "\n",
    "# fill the missing lon/ lat with coordinates from the station table. \n",
    "\n",
    "trips_df['clean_start_lat'] = np.where(((trips_df['start_station_latitude'].isna()) & (~trips_df['start_lat'].isna())), trips_df['start_lat'], trips_df['start_station_latitude'])\n",
    "trips_df['clean_start_lon'] = np.where(((trips_df['start_station_longitude'].isna()) & (~trips_df['start_lon'].isna())), trips_df['start_lon'], trips_df['start_station_longitude'])\n",
    "\n",
    "trips_df['clean_end_lat'] = np.where(((trips_df['end_station_latitude'].isna()) & (~trips_df['end_lat'].isna())), trips_df['end_lat'], trips_df['end_station_latitude'])\n",
    "trips_df['clean_end_lon'] = np.where(((trips_df['end_station_longitude'].isna()) & (~trips_df['end_lon'].isna())), trips_df['end_lon'], trips_df['end_station_longitude'])\n",
    "\n"
   ]
  },
  {
   "cell_type": "code",
   "execution_count": 172,
   "metadata": {},
   "outputs": [],
   "source": [
    "# calculate duration \n",
    "\n",
    "trips_df['duration_min'] = trips_df['end_date'] - trips_df['start_date']\n",
    "trips_df['duration_min'] = trips_df['duration_min'].astype('timedelta64[m]')"
   ]
  },
  {
   "cell_type": "code",
   "execution_count": 173,
   "metadata": {},
   "outputs": [
    {
     "data": {
      "text/plain": [
       "(25077, 6)"
      ]
     },
     "execution_count": 173,
     "metadata": {},
     "output_type": "execute_result"
    }
   ],
   "source": [
    "# calculate distance\n",
    "# step 1: get a set of unique start-end station combo so to reduce the calls to the distance matrix API\n",
    "start_end_coords = trips_df.groupby(['start_station_name', 'end_station_name'], as_index=False).agg(\n",
    "                                                                                clean_start_lat = ('clean_start_lat', 'mean'), \n",
    "                                                                                clean_start_lon = ('clean_start_lon', 'mean'),\n",
    "                                                                                clean_end_lat = ('clean_end_lat', 'mean'),\n",
    "                                                                                clean_end_lon = ('clean_end_lon', 'mean'))\n",
    "\n",
    "start_end_coords = start_end_coords[~start_end_coords['clean_start_lat'].isna()]\n",
    "\n",
    "start_end_coords.shape"
   ]
  },
  {
   "cell_type": "code",
   "execution_count": 174,
   "metadata": {},
   "outputs": [],
   "source": [
    "startcoord = [(lat, lon) for lat, lon in zip(start_end_coords['clean_start_lat'], start_end_coords['clean_start_lon'])]\n",
    "endcoord = [(lat, lon) for lat, lon in zip(start_end_coords['clean_end_lat'], start_end_coords['clean_end_lon'])]"
   ]
  },
  {
   "cell_type": "code",
   "execution_count": 175,
   "metadata": {},
   "outputs": [],
   "source": [
    "# step 2: a function to calculate distance\n",
    "\n",
    "def cal_dist(start_lst, end_lst):\n",
    "    import googlemaps, numpy as np\n",
    "    map_api_key = None # to be filled in \n",
    "    gmaps = googlemaps.Client(key=map_api_key)\n",
    "    result = gmaps.distance_matrix(start_lst, end_lst, mode='bicycling', units='metric')\n",
    "    if 'distance' in result['rows'][0]['elements'][0].keys():\n",
    "        return result['rows'][0]['elements'][0]['distance']['value']\n",
    "    else: \n",
    "        return np.nan"
   ]
  },
  {
   "cell_type": "code",
   "execution_count": null,
   "metadata": {},
   "outputs": [],
   "source": [
    "cur_results = []"
   ]
  },
  {
   "cell_type": "code",
   "execution_count": null,
   "metadata": {},
   "outputs": [],
   "source": [
    "# step 3: call the distance matrix api\n",
    "# put small set of coordinates in each call to prevent authentication error. \n",
    "\n",
    "results = []\n",
    "\n",
    "start_time = time.time()\n",
    "\n",
    "tot = len(startcoord)\n",
    "step = 500\n",
    "last_end = len(cur_results)\n",
    "\n",
    "# for pos in range(0, len(endcoord), 100):\n",
    "for pos in range(last_end, tot, step):\n",
    "\n",
    "    start = time.time()\n",
    "\n",
    "    with mp.Pool(processes=7) as pool:\n",
    "        results.extend(pool.starmap(cal_dist, zip(startcoord[pos:pos + step], endcoord[pos:pos + step])))\n",
    "\n",
    "    time_taken = time.time() - start\n",
    "\n",
    "    print('Time taken: {:.0f}min {:.0f}sec'.format(time_taken//60, time_taken%60))\n",
    "\n",
    "total_time = time.time() - start_time\n",
    "\n",
    "print('finished, total time :{:.0f}min {:.0f}sec'.format(total_time//60, total_time%60))"
   ]
  },
  {
   "cell_type": "code",
   "execution_count": 178,
   "metadata": {},
   "outputs": [
    {
     "data": {
      "text/plain": [
       "25077"
      ]
     },
     "execution_count": 178,
     "metadata": {},
     "output_type": "execute_result"
    }
   ],
   "source": [
    "len(results)"
   ]
  },
  {
   "cell_type": "code",
   "execution_count": 181,
   "metadata": {},
   "outputs": [],
   "source": [
    "# step 4: add the distance column to the original dataframe (trips_df)\n",
    "\n",
    "start_end_coords['distance_m'] = results\n",
    "\n",
    "trips_df= trips_df.merge(start_end_coords[['start_station_name', 'end_station_name', 'distance_m']], how='left', \n",
    "                on=['start_station_name', 'end_station_name'], copy=False, validate='m:1')"
   ]
  },
  {
   "cell_type": "code",
   "execution_count": 47,
   "metadata": {},
   "outputs": [
    {
     "data": {
      "text/plain": [
       "(1268, 31)"
      ]
     },
     "execution_count": 47,
     "metadata": {},
     "output_type": "execute_result"
    }
   ],
   "source": [
    "# 1,268 trips travelled more than 8km\n",
    "\n",
    "trips_df[trips_df['distance_m']>8000].shape"
   ]
  },
  {
   "cell_type": "code",
   "execution_count": 49,
   "metadata": {},
   "outputs": [
    {
     "data": {
      "text/plain": [
       "5797.0"
      ]
     },
     "execution_count": 49,
     "metadata": {},
     "output_type": "execute_result"
    }
   ],
   "source": [
    "# 99% of trips were under 5,797 m\n",
    "\n",
    "np.nanpercentile(trips_df['distance_m'], 99)"
   ]
  },
  {
   "cell_type": "code",
   "execution_count": null,
   "metadata": {},
   "outputs": [],
   "source": [
    "# combine two columns to get a clean subscriber type\n",
    "\n",
    "trips_df['clean_subscriber'] = np.where(trips_df['subscriber_type']=='nan', trips_df['c_subscription_type'], trips_df['subscriber_type'])"
   ]
  },
  {
   "cell_type": "code",
   "execution_count": 56,
   "metadata": {},
   "outputs": [
    {
     "name": "stderr",
     "output_type": "stream",
     "text": [
      "UserWarning: sort_values defaulting to pandas implementation.\n"
     ]
    },
    {
     "data": {
      "text/plain": [
       "Subscriber    864014\n",
       "Customer      185679\n",
       "Name: clean_subscriber, dtype: int64"
      ]
     },
     "execution_count": 56,
     "metadata": {},
     "output_type": "execute_result"
    }
   ],
   "source": [
    "trips_df['clean_subscriber'].value_counts(dropna=False)"
   ]
  },
  {
   "cell_type": "markdown",
   "metadata": {},
   "source": [
    "### Visualisation\n",
    "\n",
    "1. Distribution of distance travelled by bikers (general and by type)\n",
    "2. Distribution of duration travelled by bikers (general and by type)\n",
    "3. Station locations\n",
    "4. Most popular routes by region (San Francisco, Oakland, San Jose)\n",
    "5. No. of trips by subscriber type\n",
    "6. No. of trips by day of the week\n",
    "7. No. of trips by month of the year"
   ]
  },
  {
   "cell_type": "code",
   "execution_count": 182,
   "metadata": {},
   "outputs": [
    {
     "data": {
      "text/plain": [
       "<Figure size 576x576 with 0 Axes>"
      ]
     },
     "metadata": {},
     "output_type": "display_data"
    },
    {
     "data": {
      "image/png": "[encoded data removed]",
      "text/plain": [
       "<Figure size 360x360 with 1 Axes>"
      ]
     },
     "metadata": {
      "needs_background": "light"
     },
     "output_type": "display_data"
    }
   ],
   "source": [
    "plt.figure(figsize=(8,8))\n",
    "\n",
    "sns.displot(data=trips_df[trips_df['distance_m'] < np.nanpercentile(trips_df['distance_m'], 99)], x='distance_m', kind='kde')\n",
    "\n",
    "plt.xlabel('Distance (m)')\n",
    "plt.title('Distance distribution (all subscription type,\\ncut off at 99th percentile)')\n",
    "\n",
    "plt.show()"
   ]
  },
  {
   "cell_type": "code",
   "execution_count": 187,
   "metadata": {},
   "outputs": [
    {
     "data": {
      "text/plain": [
       "<Figure size 576x576 with 0 Axes>"
      ]
     },
     "metadata": {},
     "output_type": "display_data"
    },
    {
     "data": {
      "image/png": "[encoded data removed]",
      "text/plain": [
       "<Figure size 452.125x360 with 1 Axes>"
      ]
     },
     "metadata": {
      "needs_background": "light"
     },
     "output_type": "display_data"
    }
   ],
   "source": [
    "# distribution of distance\n",
    "# kde tells you the probability of a particular type of subscriber\n",
    "\n",
    "plt.figure(figsize=(8,8))\n",
    "\n",
    "g = sns.displot(data=trips_df[trips_df['distance_m'] < np.nanpercentile(trips_df['distance_m'], 99)], x='distance_m', kind='kde', hue='clean_subscriber')\n",
    "g._legend.set_title('Subscriber type')\n",
    "plt.title('Distribution of distance by subscriber type\\n(cut off at 99th percentile)')\n",
    "plt.xlabel('Distance (m)')\n",
    "\n",
    "plt.show()\n",
    "\n"
   ]
  },
  {
   "cell_type": "code",
   "execution_count": 67,
   "metadata": {},
   "outputs": [
    {
     "name": "stdout",
     "output_type": "stream",
     "text": [
      "No. of trips that started and ended at the same stop: 30,128\n"
     ]
    }
   ],
   "source": [
    "# understand why so many 0s\n",
    "\n",
    "print('No. of trips that started and ended at the same stop: {:,}'.format(trips_df[trips_df['distance_m'] == 0].trip_id.nunique()))"
   ]
  },
  {
   "cell_type": "code",
   "execution_count": 89,
   "metadata": {},
   "outputs": [
    {
     "data": {
      "text/html": [
       "<div>\n",
       "<style scoped>\n",
       "    .dataframe tbody tr th:only-of-type {\n",
       "        vertical-align: middle;\n",
       "    }\n",
       "\n",
       "    .dataframe tbody tr th {\n",
       "        vertical-align: top;\n",
       "    }\n",
       "\n",
       "    .dataframe thead th {\n",
       "        text-align: right;\n",
       "    }\n",
       "</style>\n",
       "<table border=\"1\" class=\"dataframe\">\n",
       "  <thead>\n",
       "    <tr style=\"text-align: right;\">\n",
       "      <th></th>\n",
       "      <th>trip_id</th>\n",
       "      <th>duration_sec</th>\n",
       "      <th>start_date</th>\n",
       "      <th>start_station_name</th>\n",
       "      <th>start_station_id</th>\n",
       "      <th>end_date</th>\n",
       "      <th>end_station_name</th>\n",
       "      <th>end_station_id</th>\n",
       "      <th>bike_number</th>\n",
       "      <th>zip_code</th>\n",
       "      <th>subscriber_type</th>\n",
       "      <th>c_subscription_type</th>\n",
       "      <th>start_station_latitude</th>\n",
       "      <th>start_station_longitude</th>\n",
       "      <th>end_station_latitude</th>\n",
       "      <th>end_station_longitude</th>\n",
       "      <th>member_birth_year</th>\n",
       "      <th>member_gender</th>\n",
       "      <th>bike_share_for_all_trip</th>\n",
       "      <th>start_station_geom</th>\n",
       "      <th>end_station_geom</th>\n",
       "      <th>start_lat</th>\n",
       "      <th>start_lon</th>\n",
       "      <th>end_lat</th>\n",
       "      <th>end_lon</th>\n",
       "      <th>clean_start_lat</th>\n",
       "      <th>clean_start_lon</th>\n",
       "      <th>clean_end_lat</th>\n",
       "      <th>clean_end_lon</th>\n",
       "      <th>duration_min</th>\n",
       "      <th>distance_m</th>\n",
       "      <th>clean_subscriber</th>\n",
       "    </tr>\n",
       "  </thead>\n",
       "  <tbody>\n",
       "    <tr>\n",
       "      <th>381268</th>\n",
       "      <td>20171110140206.7310001842</td>\n",
       "      <td>27166</td>\n",
       "      <td>2017-11-10 14:02:06.731000+00:00</td>\n",
       "      <td>Santa Clara St at Almaden Blvd</td>\n",
       "      <td>314</td>\n",
       "      <td>2017-11-10 21:34:53.109000+00:00</td>\n",
       "      <td>Laguna St at McAllister St</td>\n",
       "      <td>40</td>\n",
       "      <td>1842</td>\n",
       "      <td>None</td>\n",
       "      <td>Customer</td>\n",
       "      <td>None</td>\n",
       "      <td>37.333988</td>\n",
       "      <td>-121.894902</td>\n",
       "      <td>37.779208</td>\n",
       "      <td>-122.426829</td>\n",
       "      <td>&lt;NA&gt;</td>\n",
       "      <td>None</td>\n",
       "      <td>None</td>\n",
       "      <td>POINT(-121.894902 37.333988)</td>\n",
       "      <td>POINT(-122.4268287 37.7792082)</td>\n",
       "      <td>NaN</td>\n",
       "      <td>NaN</td>\n",
       "      <td>NaN</td>\n",
       "      <td>NaN</td>\n",
       "      <td>37.333988</td>\n",
       "      <td>-121.894902</td>\n",
       "      <td>37.779208</td>\n",
       "      <td>-122.426829</td>\n",
       "      <td>452.0</td>\n",
       "      <td>88991.0</td>\n",
       "      <td>Customer</td>\n",
       "    </tr>\n",
       "  </tbody>\n",
       "</table>\n",
       "</div>"
      ],
      "text/plain": [
       "                          trip_id  duration_sec  \\\n",
       "381268  20171110140206.7310001842         27166   \n",
       "\n",
       "                             start_date              start_station_name  \\\n",
       "381268 2017-11-10 14:02:06.731000+00:00  Santa Clara St at Almaden Blvd   \n",
       "\n",
       "        start_station_id                         end_date  \\\n",
       "381268               314 2017-11-10 21:34:53.109000+00:00   \n",
       "\n",
       "                  end_station_name  end_station_id  bike_number zip_code  \\\n",
       "381268  Laguna St at McAllister St              40         1842     None   \n",
       "\n",
       "       subscriber_type c_subscription_type  start_station_latitude  \\\n",
       "381268        Customer                None               37.333988   \n",
       "\n",
       "        start_station_longitude  end_station_latitude  end_station_longitude  \\\n",
       "381268              -121.894902             37.779208            -122.426829   \n",
       "\n",
       "        member_birth_year member_gender bike_share_for_all_trip  \\\n",
       "381268               <NA>          None                    None   \n",
       "\n",
       "                  start_station_geom                end_station_geom  \\\n",
       "381268  POINT(-121.894902 37.333988)  POINT(-122.4268287 37.7792082)   \n",
       "\n",
       "        start_lat  start_lon  end_lat  end_lon  clean_start_lat  \\\n",
       "381268        NaN        NaN      NaN      NaN        37.333988   \n",
       "\n",
       "        clean_start_lon  clean_end_lat  clean_end_lon  duration_min  \\\n",
       "381268      -121.894902      37.779208    -122.426829         452.0   \n",
       "\n",
       "        distance_m clean_subscriber  \n",
       "381268     88991.0         Customer  "
      ]
     },
     "execution_count": 89,
     "metadata": {},
     "output_type": "execute_result"
    }
   ],
   "source": [
    "# the biker with the longest distance - 89 km!\n",
    "\n",
    "trips_df[trips_df['distance_m'] == trips_df['distance_m'].max()]"
   ]
  },
  {
   "cell_type": "code",
   "execution_count": 71,
   "metadata": {},
   "outputs": [
    {
     "data": {
      "text/plain": [
       "32.0"
      ]
     },
     "execution_count": 71,
     "metadata": {},
     "output_type": "execute_result"
    }
   ],
   "source": [
    "# 95% of bikers biked <= 32 mins\n",
    "\n",
    "np.nanpercentile(trips_df['duration_min'], 95)"
   ]
  },
  {
   "cell_type": "code",
   "execution_count": 188,
   "metadata": {},
   "outputs": [
    {
     "data": {
      "text/plain": [
       "<Figure size 576x576 with 0 Axes>"
      ]
     },
     "metadata": {},
     "output_type": "display_data"
    },
    {
     "data": {
      "image/png": "[encoded data removed]",
      "text/plain": [
       "<Figure size 360x360 with 1 Axes>"
      ]
     },
     "metadata": {
      "needs_background": "light"
     },
     "output_type": "display_data"
    }
   ],
   "source": [
    "# kde on duration - took out <0 and cut at 95th percentile\n",
    "\n",
    "plt.figure(figsize=(8,8))\n",
    "\n",
    "# sns.displot(data=trips_df, x='duration_min', kind='kde')\n",
    "\n",
    "sns.displot(data=trips_df[(trips_df['duration_min'] < np.nanpercentile(trips_df['duration_min'], 95)) &\n",
    "                           (trips_df['duration_min'] >0)], x='duration_min', kind='kde')\n",
    "\n",
    "plt.xlabel('Duration (min)')\n",
    "plt.title('Duration distribution (all\\nsubscription types, cleaned)')\n",
    "\n",
    "plt.show()"
   ]
  },
  {
   "cell_type": "code",
   "execution_count": 189,
   "metadata": {},
   "outputs": [
    {
     "data": {
      "text/plain": [
       "<Figure size 576x576 with 0 Axes>"
      ]
     },
     "metadata": {},
     "output_type": "display_data"
    },
    {
     "data": {
      "image/png": "[encoded data removed]",
      "text/plain": [
       "<Figure size 452.125x360 with 1 Axes>"
      ]
     },
     "metadata": {
      "needs_background": "light"
     },
     "output_type": "display_data"
    }
   ],
   "source": [
    "# kde on duration separated by subscription type\n",
    "\n",
    "plt.figure(figsize=(8,8))\n",
    "\n",
    "# sns.displot(data=trips_df, x='duration_min', kind='kde', hue='clean_subscriber')\n",
    "\n",
    "sns.displot(data=trips_df[(trips_df['duration_min'] < np.nanpercentile(trips_df['duration_min'], 95)) &\n",
    "                        (trips_df['duration_min'] >0)], x='duration_min', hue='clean_subscriber', kind='kde')\n",
    "\n",
    "plt.xlabel('Duration (min)')\n",
    "plt.title('Duration distribution (by\\nsubscription type, cleaned)')\n",
    "\n",
    "plt.show()"
   ]
  },
  {
   "cell_type": "code",
   "execution_count": 8,
   "metadata": {},
   "outputs": [],
   "source": [
    "# get unique set of stations\n",
    "\n",
    "start_stations = trips_df.groupby(['start_station_name'], as_index=False).agg(lat = ('clean_start_lat', 'mean'), \n",
    "                                                                            lon = ('clean_start_lon', 'mean'))\n",
    "start_stations = start_stations[~start_stations['lat'].isna()]\n",
    "start_stations.rename(columns={'start_station_name':'station_name'}, inplace=True)\n",
    "end_stations = trips_df.groupby(['end_station_name'], as_index=False).agg(lat = ('clean_end_lat', 'mean'), \n",
    "                                                                        lon = ('clean_end_lon', 'mean'))\n",
    "end_stations.rename(columns={'end_station_name':'station_name'}, inplace=True)\n",
    "end_stations = end_stations[~end_stations['lat'].isna()]\n",
    "                            \n",
    "station_coords = mpd.concat([start_stations, end_stations])\n",
    "station_coords.drop_duplicates(inplace=True)"
   ]
  },
  {
   "cell_type": "code",
   "execution_count": 191,
   "metadata": {},
   "outputs": [
    {
     "data": {
      "text/html": [
       "<div>\n",
       "<style scoped>\n",
       "    .dataframe tbody tr th:only-of-type {\n",
       "        vertical-align: middle;\n",
       "    }\n",
       "\n",
       "    .dataframe tbody tr th {\n",
       "        vertical-align: top;\n",
       "    }\n",
       "\n",
       "    .dataframe thead th {\n",
       "        text-align: right;\n",
       "    }\n",
       "</style>\n",
       "<table border=\"1\" class=\"dataframe\">\n",
       "  <thead>\n",
       "    <tr style=\"text-align: right;\">\n",
       "      <th></th>\n",
       "      <th>station_name</th>\n",
       "      <th>lat</th>\n",
       "      <th>lon</th>\n",
       "    </tr>\n",
       "  </thead>\n",
       "  <tbody>\n",
       "    <tr>\n",
       "      <th>0</th>\n",
       "      <td>10th Ave at E 15th St</td>\n",
       "      <td>37.792714</td>\n",
       "      <td>-122.248780</td>\n",
       "    </tr>\n",
       "    <tr>\n",
       "      <th>1</th>\n",
       "      <td>10th St at Fallon St</td>\n",
       "      <td>37.797673</td>\n",
       "      <td>-122.262997</td>\n",
       "    </tr>\n",
       "    <tr>\n",
       "      <th>2</th>\n",
       "      <td>11th St at Bryant St</td>\n",
       "      <td>37.770030</td>\n",
       "      <td>-122.411726</td>\n",
       "    </tr>\n",
       "    <tr>\n",
       "      <th>3</th>\n",
       "      <td>11th St at Natoma St</td>\n",
       "      <td>37.773507</td>\n",
       "      <td>-122.416040</td>\n",
       "    </tr>\n",
       "    <tr>\n",
       "      <th>4</th>\n",
       "      <td>12th St at 4th Ave</td>\n",
       "      <td>37.795812</td>\n",
       "      <td>-122.255555</td>\n",
       "    </tr>\n",
       "    <tr>\n",
       "      <th>...</th>\n",
       "      <td>...</td>\n",
       "      <td>...</td>\n",
       "      <td>...</td>\n",
       "    </tr>\n",
       "    <tr>\n",
       "      <th>350</th>\n",
       "      <td>Valencia St at Cesar Chavez St</td>\n",
       "      <td>37.747998</td>\n",
       "      <td>-122.420219</td>\n",
       "    </tr>\n",
       "    <tr>\n",
       "      <th>354</th>\n",
       "      <td>W St John St at Guadalupe River Trail</td>\n",
       "      <td>37.335388</td>\n",
       "      <td>-121.897920</td>\n",
       "    </tr>\n",
       "    <tr>\n",
       "      <th>359</th>\n",
       "      <td>Webster St at 19th St</td>\n",
       "      <td>37.806970</td>\n",
       "      <td>-122.266588</td>\n",
       "    </tr>\n",
       "    <tr>\n",
       "      <th>363</th>\n",
       "      <td>West Oakland BART Station</td>\n",
       "      <td>37.805318</td>\n",
       "      <td>-122.294837</td>\n",
       "    </tr>\n",
       "    <tr>\n",
       "      <th>367</th>\n",
       "      <td>Woolsey St at Sacramento St</td>\n",
       "      <td>37.850578</td>\n",
       "      <td>-122.278175</td>\n",
       "    </tr>\n",
       "  </tbody>\n",
       "</table>\n",
       "<p>407 rows x 3 columns</p>\n",
       "</div>"
      ],
      "text/plain": [
       "                              station_name        lat         lon\n",
       "0                    10th Ave at E 15th St  37.792714 -122.248780\n",
       "1                     10th St at Fallon St  37.797673 -122.262997\n",
       "2                     11th St at Bryant St  37.770030 -122.411726\n",
       "3                     11th St at Natoma St  37.773507 -122.416040\n",
       "4                       12th St at 4th Ave  37.795812 -122.255555\n",
       "..                                     ...        ...         ...\n",
       "350         Valencia St at Cesar Chavez St  37.747998 -122.420219\n",
       "354  W St John St at Guadalupe River Trail  37.335388 -121.897920\n",
       "359                  Webster St at 19th St  37.806970 -122.266588\n",
       "363              West Oakland BART Station  37.805318 -122.294837\n",
       "367            Woolsey St at Sacramento St  37.850578 -122.278175\n",
       "\n",
       "[407 rows x 3 columns]"
      ]
     },
     "execution_count": 191,
     "metadata": {},
     "output_type": "execute_result"
    }
   ],
   "source": [
    "station_coords"
   ]
  },
  {
   "cell_type": "code",
   "execution_count": 6,
   "metadata": {},
   "outputs": [],
   "source": [
    "# calculate how many trips per start end combo\n",
    "\n",
    "start_end_coords = trips_df.groupby(['start_station_name', 'end_station_name'], as_index=False).agg(\n",
    "                                                                                cnt_trip = ('trip_id', 'nunique'),\n",
    "                                                                                start_lat = ('clean_start_lat', 'mean'), \n",
    "                                                                                start_lon = ('clean_start_lon', 'mean'),\n",
    "                                                                                end_lat = ('clean_end_lat', 'mean'),\n",
    "                                                                                end_lon = ('clean_end_lon', 'mean')\n",
    "                                                                                )\n",
    "\n"
   ]
  },
  {
   "cell_type": "code",
   "execution_count": 15,
   "metadata": {},
   "outputs": [
    {
     "data": {
      "application/vnd.plotly.v1+json": {
       "config": {
        "linkText": "Export to plot.ly",
        "plotlyServerURL": "https://plot.ly",
        "showLink": false
       },
       "data": [
        {
         "hoverinfo": "text",
         "lat": [
          37.7927143,
          37.7976728,
          37.7700298,
          37.7735069,
          37.7958125,
          37.7943532,
          37.80318908113163,
          37.80874983465997,
          37.8107432,
          37.7682646,
          37.766349,
          37.76471008581914,
          37.7647652154977,
          37.764285,
          37.7637085,
          37.7630152,
          37.7633158,
          37.76104709999999,
          37.7604469,
          37.760299,
          37.8090126,
          37.78729,
          37.7592005,
          37.7851566,
          37.75736899005735,
          37.7851915,
          37.7518194,
          37.8160598,
          37.781123,
          37.8170154,
          37.7436839,
          37.7440667,
          37.8002135669698,
          37.78499972833808,
          37.782411189735896,
          37.780526,
          37.780526,
          37.7423139,
          37.8238474,
          37.8225475,
          37.8266962,
          37.77874161153677,
          37.8335577,
          37.8332935222321,
          37.83563220458518,
          37.8359455,
          37.78095459960753,
          37.7704074,
          37.8361823,
          37.8401858,
          37.8409452,
          37.7767539,
          37.781752,
          37.33203868095132,
          37.3510173,
          37.3259984,
          37.78014570345598,
          37.8467842,
          37.7734919,
          37.77452040113685,
          37.3383952,
          37.866249,
          37.8312769,
          37.849594967776646,
          37.32673,
          37.331415,
          37.8524766,
          37.3413348,
          37.8693603,
          37.8688126,
          37.81231409135146,
          37.7880593,
          37.8690599,
          37.77588,
          37.3236779,
          37.8193814,
          37.8277573,
          37.79857210846256,
          37.8357883,
          37.79801364395978,
          37.7730627,
          37.7671004,
          37.783171989315306,
          37.775910222333366,
          37.8465156,
          37.32911866814779,
          37.87055532905745,
          37.77331087889723,
          37.7478584,
          37.8628271,
          37.8658466,
          37.7700831,
          37.7810737,
          37.795001,
          37.781382819628725,
          37.8513755,
          37.8381269,
          37.848152,
          37.8417999,
          37.794231,
          37.78588054928165,
          37.79728,
          37.8123315,
          37.3302641,
          37.8618037,
          37.76921786152374,
          37.7662102,
          37.754795,
          37.8426295,
          37.8703477,
          37.8419238,
          37.7692005,
          37.8088479,
          37.85749021457153,
          37.792251,
          37.84052116694969,
          37.8312752,
          37.3448821,
          37.7616343,
          37.7591769,
          37.7839879,
          37.7670373,
          37.7605936,
          37.78383,
          37.7737172,
          37.7757452,
          37.7837569,
          37.77993,
          37.33618830029063,
          37.8045623549303,
          37.764555,
          37.8037651,
          37.8005161,
          37.7776818,
          37.7752321,
          37.85557366182879,
          37.8677892,
          37.7510171,
          37.8396488,
          37.3477319,
          37.7816495,
          37.78127,
          37.80889393398715,
          37.8127441,
          37.8113768,
          37.775946,
          37.849735,
          37.7638471,
          37.75886200000001,
          37.8660431,
          37.87511169286445,
          37.8297046,
          37.787521780456245,
          37.7765126,
          37.789756,
          37.76647421515012,
          37.7668828,
          37.81498823042416,
          37.796248,
          37.7650259,
          37.80000163118878,
          37.8018575,
          37.3487586867448,
          37.750506,
          37.7509004,
          37.3429973,
          37.3322326,
          37.77341396997343,
          37.776434819204745,
          37.7792082,
          37.7973195,
          37.8110807,
          37.8013189,
          37.3229796,
          37.8061628,
          37.8717192,
          37.82840997305853,
          37.8262863,
          37.776619,
          37.8305452,
          37.834174,
          37.8036865,
          37.8233214,
          37.7693053,
          37.7737932060887,
          37.332426301252056,
          37.8098236,
          37.7774157,
          37.77166246221617,
          37.7913,
          37.86012459911685,
          37.7614205,
          37.7592103,
          37.3509643,
          37.7648022,
          37.7896254,
          37.3336577,
          37.8249311,
          37.8534894,
          37.8588682,
          37.8740141,
          37.7824046019341,
          37.322124625448566,
          37.8575672,
          37.772406,
          37.3172979,
          37.8624644,
          37.33379800000001,
          37.327581,
          37.7717933,
          37.788975,
          37.76328094058097,
          37.78637526861584,
          37.78389935708493,
          37.7472996,
          37.78381270927812,
          37.7644783,
          37.84427875399067,
          37.8584732,
          37.342725,
          37.7807601,
          37.774814,
          37.33283577967246,
          37.332692,
          37.339301,
          37.79013985185364,
          37.76600774273675,
          37.3364659,
          37.330698,
          37.335885,
          37.337246,
          37.776598,
          37.7766392,
          37.77865,
          37.795392,
          37.7787677,
          37.337391,
          37.329732,
          37.8178269,
          37.8113514,
          37.85578332030199,
          37.336802,
          37.352601,
          37.330165,
          37.333955,
          37.7662185,
          37.7632417,
          37.3391456,
          37.333988,
          37.778999400000004,
          37.8379469,
          37.8368013,
          37.8403643,
          37.8737917,
          37.8332786,
          37.80781318217903,
          37.7896767,
          37.8384435,
          37.79413,
          37.31285404293261,
          37.8087021,
          37.8126783,
          37.816073115011406,
          37.8444927,
          37.85022187449679,
          37.8559558,
          37.8623199,
          37.3319323,
          37.78716801474665,
          37.80477,
          37.791464,
          37.799953,
          37.7753058,
          37.771058,
          37.788299978150825,
          37.8072393,
          37.8723555,
          37.765052,
          37.7567083,
          37.7552126,
          37.7524278,
          37.7479981,
          37.77779057034257,
          37.88022244590679,
          37.87657254910685,
          37.3353879,
          37.8007544,
          37.79539293725452,
          37.80583,
          37.80696976095594,
          37.795194764385954,
          37.7770527,
          37.78352083526095,
          37.8053183,
          37.8302232,
          37.3327938,
          37.3184498,
          37.850577684047856,
          37.78487208436062,
          37.7927143,
          37.7735069,
          37.7958125,
          37.7943532,
          37.80318908113163,
          37.8107432,
          37.7647652154977,
          37.764285,
          37.7630152,
          37.7610471,
          37.8090126,
          37.7851915,
          37.7518194,
          37.8170154,
          37.7440667,
          37.78499972833808,
          37.782411189735896,
          37.780526,
          37.7423139,
          37.8266962,
          37.83563220458518,
          37.78095459960753,
          37.8401858,
          37.7767539,
          37.3259984,
          37.7734919,
          37.849594967776646,
          37.7880593,
          37.77588,
          37.8193814,
          37.8277573,
          37.79801364395978,
          37.7671004,
          37.783171989315306,
          37.8513755,
          37.794231,
          37.78588055112638,
          37.79728,
          37.7662102,
          37.8426295,
          37.8419238,
          37.8088479,
          37.84052116694969,
          37.7616343,
          37.7605936,
          37.78383,
          37.77993,
          37.764555,
          37.8005161,
          37.7752321,
          37.3477319,
          37.7816495,
          37.78127,
          37.8127441,
          37.8113768,
          37.849735,
          37.75886199999999,
          37.7765126,
          37.789756,
          37.7650259,
          37.8018575,
          37.3429973,
          37.8110807,
          37.3229796,
          37.8717192,
          37.8305452,
          37.8036865,
          37.7693053,
          37.8098236,
          37.7896254,
          37.8249311,
          37.8534894,
          37.8588682,
          37.8740141,
          37.8575672,
          37.772406,
          37.3172979,
          37.86246439999999,
          37.333798,
          37.76328094058097,
          37.783899357084934,
          37.8584732,
          37.339301,
          37.3364659,
          37.337246,
          37.77659799999999,
          37.7766392,
          37.337391,
          37.855783320301995,
          37.336802,
          37.330165,
          37.7662185,
          37.7789994,
          37.8737917,
          37.7896767,
          37.8384435,
          37.79413000000001,
          37.31285404293261,
          37.8623199,
          37.3319323,
          37.78716801474664,
          37.8072393,
          37.8723555,
          37.7479981,
          37.3353879,
          37.80696976095594,
          37.8053183,
          37.850577684047856
         ],
         "lon": [
          -122.24877959999999,
          -122.2629973,
          -122.4117258,
          -122.4160402,
          -122.2555549,
          -122.2538745,
          -122.27057933807372,
          -122.28328227996823,
          -122.29141529999998,
          -122.4201102,
          -122.396289,
          -122.4199569225311,
          -122.42009103298186,
          -122.4318042,
          -122.4152042,
          -122.42649680000001,
          -122.4219039,
          -122.4326417,
          -122.410807,
          -122.418892,
          -122.2682473,
          -122.39438,
          -122.40985099999999,
          -122.2389151,
          -122.3920565843582,
          -122.2343822,
          -122.4266139,
          -122.2782444,
          -122.2329915,
          -122.2717615,
          -122.4268059,
          -122.4214722,
          -122.25381016731262,
          -122.3959356174964,
          -122.39270595839116,
          -122.390288,
          -122.39028800000001,
          -122.4231805,
          -122.2811926,
          -122.26631790000002,
          -122.27179549999998,
          -122.39274082710836,
          -122.2674183,
          -122.25622415542604,
          -122.28105068206789,
          -122.2623663,
          -122.3997491598129,
          -122.3911984,
          -122.2871801,
          -122.2618225,
          -122.2913604,
          -122.39901759999998,
          -122.405127,
          -121.8817663192749,
          -121.8959209,
          -121.87712000000002,
          -122.40307085237872,
          -122.2913761,
          -122.4036725,
          -122.40944936871531,
          -121.8807965,
          -122.2993708,
          -122.2782669,
          -122.26556897163393,
          -121.8892731,
          -121.8932,
          -122.2702132,
          -121.9031829,
          -122.2543374,
          -122.258764,
          -122.26077854633331,
          -122.3918648,
          -122.270556,
          -122.39317,
          -121.8741186,
          -122.26192839999999,
          -122.2567156,
          -122.40086898207666,
          -122.2516207,
          -122.40595042705534,
          -122.4390777,
          -122.41066200000002,
          -122.39357203245166,
          -122.40257500673576,
          -122.2653043,
          -121.90457582473756,
          -122.27972030639648,
          -122.44429260492323,
          -122.4249863,
          -122.2902305,
          -122.2674431,
          -122.4291557,
          -122.4117382,
          -122.39997,
          -122.38984107971189,
          -122.25252329999998,
          -122.2512714,
          -122.2521599,
          -122.2515349,
          -122.40292299999999,
          -122.40891513417216,
          -122.398436,
          -122.2851712,
          -121.8977018,
          -122.2535687,
          -122.40764558315274,
          -122.4266136,
          -122.425649,
          -122.26773799999998,
          -122.2677637,
          -122.2880451,
          -122.4338119,
          -122.24967989999999,
          -122.26157784461978,
          -122.397086,
          -122.29352831840517,
          -122.2856333,
          -121.8969655,
          -122.39064769999999,
          -122.4369431,
          -122.412408,
          -122.4154425,
          -122.4148171,
          -122.39887,
          -122.4116467,
          -122.2130372,
          -122.2226033,
          -122.2177284,
          -121.8892765045166,
          -122.27173805236816,
          -122.41034499999999,
          -122.2699884,
          -122.27207989999998,
          -122.225771,
          -122.22449820000001,
          -122.2635653614998,
          -122.2658964,
          -122.4119009,
          -122.2717561,
          -121.899464,
          -122.41540770000002,
          -122.41873999999999,
          -122.25646018981932,
          -122.2472152,
          -122.26519250000001,
          -122.4377775,
          -122.27058199999999,
          -122.4130036,
          -122.412544,
          -122.2588044,
          -122.26055324077606,
          -122.2876102,
          -122.39740490913394,
          -122.4113061,
          -122.394643,
          -122.39829540252686,
          -122.3995794,
          -122.27484405040738,
          -122.279352,
          -122.3987734,
          -122.26643800735472,
          -122.26536759999999,
          -121.89479783177376,
          -122.43394960000002,
          -122.4274114,
          -121.88888909999999,
          -121.9125165,
          -122.427316904068,
          -122.42624402046204,
          -122.4268287,
          -122.2653199,
          -122.24326769999999,
          -122.2626418,
          -121.88793120000001,
          -122.2760402,
          -122.27306770000001,
          -122.26631462574004,
          -122.2651002,
          -122.417385,
          -122.27393669999998,
          -122.27296800000002,
          -122.28249700000002,
          -122.27573250000002,
          -122.4268256,
          -122.42123901844025,
          -121.89034938812256,
          -122.2801923,
          -122.4418376,
          -122.42242321372034,
          -122.399051,
          -122.2693844139576,
          -122.4264353,
          -122.4213392,
          -121.9020161,
          -122.3947713,
          -122.400811,
          -121.9085859,
          -122.2604787,
          -122.28941540000001,
          -122.29120950000001,
          -122.283019,
          -122.43944585323337,
          -121.88109040260316,
          -122.26755830000002,
          -122.4356498,
          -121.88499500000002,
          -122.2647911,
          -121.886943,
          -121.884559,
          -122.4337079,
          -122.403452,
          -122.4073773622513,
          -122.40490436553952,
          -122.4084448814392,
          -122.4114029,
          -122.4345588684082,
          -122.4025701,
          -122.251900434494,
          -122.25325290000002,
          -121.895617,
          -122.3949894,
          -122.418954,
          -121.88391208648682,
          -121.900084,
          -121.889937,
          -122.24237322807312,
          -122.40567684173584,
          -121.87661320000001,
          -121.888979,
          -121.88566,
          -121.88307390000001,
          -122.395282,
          -122.39552630000001,
          -122.41822999999998,
          -122.394203,
          -122.4159292,
          -121.886995,
          -121.901782,
          -122.2756976,
          -122.2734217,
          -122.28312671184538,
          -121.8940901,
          -121.905733,
          -121.885831,
          -121.877349,
          -122.43105970000002,
          -122.4306746,
          -121.8841054,
          -121.894902,
          -122.43686079999999,
          -122.25724269999999,
          -122.2640037,
          -122.2644881,
          -122.26861760000001,
          -122.2634901,
          -122.26449608802795,
          -122.3904285,
          -122.28866470000001,
          -122.39443,
          -121.88294112682344,
          -122.2699271,
          -122.2687726,
          -122.26788640022278,
          -122.261351,
          -122.26017236709598,
          -122.2597949,
          -122.258801,
          -121.90488820000002,
          -122.38809792330358,
          -122.403234,
          -122.391034,
          -122.39852500000002,
          -122.39738,
          -122.402717,
          -122.40853071212769,
          -122.2893702,
          -122.26644670000002,
          -122.4218661,
          -122.421025,
          -122.4209752,
          -122.4206278,
          -122.4202187,
          -122.40643188357352,
          -122.26959228515624,
          -122.26952791213988,
          -121.89792049999998,
          -122.2748943,
          -122.4047702550888,
          -122.2673076,
          -122.26658821105954,
          -122.27396965026855,
          -122.4295585,
          -122.43115782737732,
          -122.29483649999999,
          -122.2709501,
          -121.87592630000002,
          -121.8831724,
          -122.27817535400389,
          -122.40087568759915,
          -122.2487796,
          -122.41604020000001,
          -122.25555489999999,
          -122.25387450000001,
          -122.2705793380737,
          -122.2914153,
          -122.42009103298184,
          -122.43180420000002,
          -122.42649679999998,
          -122.43264170000002,
          -122.26824729999998,
          -122.23438219999998,
          -122.42661389999999,
          -122.27176149999998,
          -122.42147220000001,
          -122.39593561749643,
          -122.39270595839118,
          -122.390288,
          -122.42318049999999,
          -122.2717955,
          -122.2810506820679,
          -122.39974915981291,
          -122.26182250000001,
          -122.3990176,
          -121.87712,
          -122.40367249999998,
          -122.26556897163394,
          -122.39186480000001,
          -122.39317000000001,
          -122.2619284,
          -122.25671560000002,
          -122.40595042705533,
          -122.410662,
          -122.39357203245164,
          -122.25252330000001,
          -122.402923,
          -122.40891513118531,
          -122.39843599999999,
          -122.42661359999998,
          -122.267738,
          -122.28804510000002,
          -122.2496799,
          -122.29352831840518,
          -122.39064770000002,
          -122.41481710000001,
          -122.39887000000002,
          -122.21772839999998,
          -122.410345,
          -122.2720799,
          -122.22449819999999,
          -121.89946400000001,
          -122.41540769999999,
          -122.41874,
          -122.24721519999999,
          -122.2651925,
          -122.270582,
          -122.412544,
          -122.41130609999999,
          -122.39464300000002,
          -122.39877340000001,
          -122.2653676,
          -121.8888891,
          -122.2432677,
          -121.8879312,
          -122.2730677,
          -122.2739367,
          -122.28249699999999,
          -122.42682560000002,
          -122.28019230000001,
          -122.40081100000002,
          -122.26047870000001,
          -122.2894154,
          -122.2912095,
          -122.28301900000001,
          -122.2675583,
          -122.43564979999998,
          -121.884995,
          -122.2647911,
          -121.886943,
          -122.40737736225131,
          -122.4084448814392,
          -122.25325289999999,
          -121.88993699999999,
          -121.8766132,
          -121.88307389999999,
          -122.39528200000001,
          -122.39552629999999,
          -121.88699499999998,
          -122.28312671184538,
          -121.89409010000001,
          -121.88583099999998,
          -122.4310597,
          -122.4368608,
          -122.2686176,
          -122.39042849999998,
          -122.28866469999998,
          -122.39443,
          -121.88294112682345,
          -122.25880099999999,
          -121.9048882,
          -122.38809792330358,
          -122.28937020000001,
          -122.2664467,
          -122.42021869999999,
          -121.8979205,
          -122.26658821105956,
          -122.29483650000002,
          -122.27817535400388
         ],
         "marker": {
          "color": "rgb(53, 94, 59)",
          "line": {
           "color": "rgba(68, 68, 68, 0)",
           "width": 3
          },
          "opacity": 0.8,
          "size": 2
         },
         "mode": "markers",
         "text": [
          "10th Ave at E 15th St",
          "10th St at Fallon St",
          "11th St at Bryant St",
          "11th St at Natoma St",
          "12th St at 4th Ave",
          "12th St at 6th Ave",
          "13th St at Franklin St",
          "14th St at Filbert St",
          "14th St at Mandela Pkwy",
          "14th St at Mission St",
          "16th St Depot",
          "16th St Mission BART",
          "16th St Mission BART Station 2",
          "16th St at Prosper St",
          "17th & Folsom Street Park (17th St at Folsom St)",
          "17th St at Dolores St",
          "17th St at Valencia St",
          "18th St at Noe St",
          "19th St at Florida St",
          "19th St at Mission St",
          "19th Street BART Station",
          "1st St at Folsom St",
          "20th St at Bryant St",
          "21st Ave at International Blvd",
          "22nd St Caltrain Station",
          "23rd Ave at Foothill Blvd",
          "24th St at Chattanooga St",
          "24th St at Market St",
          "26th Ave at International Blvd",
          "27th St at MLK Jr Way",
          "29th St at Church St",
          "29th St at Tiffany Ave",
          "2nd Ave at E 18th St",
          "2nd St at Folsom St",
          "2nd St at S Park St",
          "2nd St at Townsend St",
          "2nd St at Townsend St - Coming Soon",
          "30th St at San Jose Ave",
          "32nd St at Adeline St",
          "34th St at Telegraph Ave",
          "37th St at West St",
          "3rd St at Townsend St",
          "45th St at MLK Jr Way",
          "45th St at Manila",
          "47th St at San Pablo Ave",
          "49th St at Telegraph Ave",
          "4th St at Harrison St",
          "4th St at Mission Bay Blvd S",
          "53rd St at Hollis St",
          "55th St at Telegraph Ave",
          "59th St at Horton St",
          "5th St at Brannan St",
          "5th St at Howard St",
          "5th St at San Salvador St",
          "5th St at Taylor St",
          "5th St at Virginia St",
          "5th at Folsom",
          "65th St at Hollis St",
          "7th St at Brannan St",
          "8th St at Ringold St",
          "9th St at San Fernando",
          "Addison St at Fourth St",
          "Adeline St at 40th St",
          "Alcatraz Ave at Shattuck Ave",
          "Almaden Blvd at Balbach St",
          "Almaden Blvd at San Fernando St",
          "Ashby BART Station",
          "Autumn Parkway at Coleman Ave",
          "Bancroft Way at College Ave",
          "Bancroft Way at Telegraph Ave",
          "Bay Pl at Vernon St",
          "Beale St at Harrison St",
          "Berkeley Civic Center",
          "Berry St at 4th St",
          "Bestor Art Park",
          "Broadway at 30th St",
          "Broadway at 40th St",
          "Broadway at Battery St",
          "Broadway at Coronado Ave",
          "Broadway at Kearny",
          "Broderick St at Oak St",
          "Bryant St at 15th St",
          "Bryant St at 2nd St",
          "Bryant St at 6th St",
          "Bushrod Park",
          "Cahill Park",
          "California St at University Ave",
          "Central Ave at Fell St",
          "Cesar Chavez St at Dolores St",
          "Channing Way at San Pablo Ave",
          "Channing Way at Shattuck Ave",
          "Church St at Duboce Ave",
          "Civic Center/UN Plaza BART Station (Market St at McAllister St)",
          "Clay St at Battery St",
          "Colin P Kelly Jr St at Townsend St (Temporary Site)",
          "College Ave at Alcatraz Ave",
          "College Ave at Bryant Ave",
          "College Ave at Harwood Ave",
          "College Ave at Taft Ave",
          "Commercial St at Montgomery St",
          "Cyril Magnin St at Ellis St",
          "Davis St at Jackson St",
          "DeFremery Park",
          "Delmas Ave and San Fernando St",
          "Derby St at College Ave",
          "Division St at Potrero Ave",
          "Dolores St at 15th St",
          "Dolores St at 22nd St",
          "Dover St at 57th St",
          "Downtown Berkeley BART",
          "Doyle St at 59th St",
          "Duboce Park",
          "El Embarcadero at Grand Ave",
          "Ellsworth St at Russell St",
          "Embarcadero BART Station (Beale St at Market St)",
          "Emeryville Public Market",
          "Emeryville Town Hall",
          "Empire St at 1st St",
          "Esprit Park",
          "Eureka Valley Recreation Center",
          "Father Alfred E Boeddeker Park",
          "Folsom St at 15th St",
          "Folsom St at 19th St",
          "Folsom St at 3rd St",
          "Folsom St at 9th St",
          "Foothill Blvd at 42nd Ave",
          "Foothill Blvd at Fruitvale Ave",
          "Foothill Blvd at Harrington Ave",
          "Fountain Alley at S 2nd St",
          "Frank H Ogawa Plaza",
          "Franklin Square",
          "Franklin St at 14th St",
          "Franklin St at 9th St",
          "Fruitvale Ave at International Blvd",
          "Fruitvale BART Station",
          "Fulton St at Ashby Ave",
          "Fulton St at Bancroft Way",
          "Garfield Square (25th St at Harrison St)",
          "Genoa St at 55th St",
          "George St at 1st St",
          "Golden Gate Ave at Hyde St",
          "Golden Gate Ave at Polk St",
          "Grand Ave at Perkins St",
          "Grand Ave at Santa Clara Ave",
          "Grand Ave at Webster St",
          "Grove St at Divisadero",
          "Harmon St at Adeline St",
          "Harrison St at 17th St",
          "Harrison St at 20th St",
          "Haste St at Telegraph Ave",
          "Hearst Ave at Euclid Ave",
          "Horton St at 40th St",
          "Howard St at 2nd St",
          "Howard St at 8th St",
          "Howard St at Beale St",
          "Hubbell St at 16th St",
          "Irwin St at 8th St",
          "Isabella St at San Pablo Ave",
          "Jack London Square",
          "Jackson Playground",
          "Jackson St at 11th St",
          "Jackson St at 14th St",
          "Jackson St at 5th St",
          "Jersey St at Castro St",
          "Jersey St at Church St",
          "Julian St at 6th St",
          "Julian St at The Alameda",
          "Koshland Park",
          "Laguna St at Hayes St",
          "Laguna St at McAllister St",
          "Lake Merritt BART Station",
          "Lakeshore Ave at Trestle Glen Rd",
          "Lakeside Dr at 14th St",
          "Locust St at Grant St",
          "MLK Jr Way at 14th St",
          "MLK Jr Way at University Ave",
          "MacArthur BART Station",
          "MacArthur Blvd at Telegraph Ave",
          "Market St at 10th St",
          "Market St at 40th St",
          "Market St at 45th St",
          "Market St at 8th St",
          "Market St at Brockhurst St",
          "Market St at Dolores St",
          "Market St at Franklin St",
          "Market St at Park St",
          "Marston Campbell Park",
          "McAllister St at Baker St",
          "McCoppin St at Valencia St",
          "Mechanics Monument Plaza (Market St at Bush St)",
          "Milvia St at Derby St",
          "Mission Dolores Park",
          "Mission Playground",
          "Mission St at 1st St",
          "Mississippi St at 17th St",
          "Montgomery St BART Station (Market St at 2nd St)",
          "Morrison Ave at Julian St",
          "Mosswood Park",
          "Ninth St at Heinz Ave",
          "Ninth St at Parker St",
          "North Berkeley BART Station",
          "O'Farrell St at Divisadero St",
          "Oak St at 1st St",
          "Oregon St at Adeline St",
          "Page St at Scott St",
          "Palm St at Willow St",
          "Parker St at Fulton St",
          "Paseo De San Antonio at 2nd St",
          "Pierce Ave at Market St",
          "Pierce St at Haight St",
          "Post St at Kearny St",
          "Potrero Ave and Mariposa St",
          "Powell St BART Station (Market St at 4th St)",
          "Powell St BART Station (Market St at 5th St)",
          "Precita Park",
          "Raymond Kimbell Playground",
          "Rhode Island St at 17th St",
          "Rockridge BART Station",
          "Russell St at College Ave",
          "Ryland Park",
          "S Park St at 3rd St",
          "S Van Ness Ave at Market St",
          "S. 4th St at San Carlos St",
          "SAP Center",
          "Saint James Park",
          "San Antonio Park",
          "San Bruno Ave at 16th St",
          "San Carlos St at 11th St",
          "San Carlos St at Market St",
          "San Fernando St at 4th St",
          "San Fernando at 7th St",
          "San Francisco Caltrain (Townsend St at 4th St)",
          "San Francisco Caltrain Station 2  (Townsend St at 4th St)",
          "San Francisco City Hall (Polk St at Grove St)",
          "San Francisco Ferry Building (Harry Bridges Plaza)",
          "San Francisco Public Library (Grove St at Hyde St)",
          "San Jose City Hall",
          "San Jose Diridon Station",
          "San Pablo Ave at 27th St",
          "San Pablo Ave at MLK Jr Way",
          "San Pablo Park",
          "San Pedro Square",
          "San Pedro St at Hedding St",
          "San Salvador St at 1st St",
          "San Salvador St at 9th St",
          "Sanchez St at 15th St",
          "Sanchez St at 17th St",
          "Santa Clara St at 7th St",
          "Santa Clara St at Almaden Blvd",
          "Scott St at Golden Gate Ave",
          "Shafter Ave at Cavour St",
          "Shattuck Ave at 51st St",
          "Shattuck Ave at 55th Ave",
          "Shattuck Ave at Hearst Ave",
          "Shattuck Ave at Telegraph Ave",
          "Snow Park",
          "Spear St at Folsom St",
          "Stanford Ave at Hollis St",
          "Steuart St at Market St",
          "Tamien Station",
          "Telegraph Ave at 19th St",
          "Telegraph Ave at 23rd St",
          "Telegraph Ave at 27th St",
          "Telegraph Ave at 58th St",
          "Telegraph Ave at Alcatraz Ave",
          "Telegraph Ave at Ashby Ave",
          "Telegraph Ave at Carleton St",
          "The Alameda at Bush St",
          "The Embarcadero at Bryant St",
          "The Embarcadero at Sansome St",
          "The Embarcadero at Steuart St",
          "The Embarcadero at Vallejo St",
          "Townsend St at 5th St",
          "Townsend St at 7th St",
          "Union Square (Powell St at Post St)",
          "Union St at 10th St",
          "University Ave at Oxford St",
          "Valencia St at 16th St",
          "Valencia St at 21st St",
          "Valencia St at 22nd St",
          "Valencia St at 24th St",
          "Valencia St at Cesar Chavez St",
          "Victoria Manalo Draves Park",
          "Vine St at Shattuck Ave",
          "Virginia St at Shattuck Ave",
          "W St John St at Guadalupe River Trail",
          "Washington St at 8th St",
          "Washington St at Kearny St",
          "Webster St at 17th St",
          "Webster St at 19th St",
          "Webster St at 2nd St",
          "Webster St at Grove St",
          "Webster St at O'Farrell St",
          "West Oakland BART Station",
          "West St at 40th St",
          "William St at 10th St",
          "Willow St at Vine St",
          "Woolsey St at Sacramento St",
          "Yerba Buena Center for the Arts (Howard St at 3rd St)",
          "10th Ave at E 15th St",
          "11th St at Natoma St",
          "12th St at 4th Ave",
          "12th St at 6th Ave",
          "13th St at Franklin St",
          "14th St at Mandela Pkwy",
          "16th St Mission BART Station 2",
          "16th St at Prosper St",
          "17th St at Dolores St",
          "18th St at Noe St",
          "19th Street BART Station",
          "23rd Ave at Foothill Blvd",
          "24th St at Chattanooga St",
          "27th St at MLK Jr Way",
          "29th St at Tiffany Ave",
          "2nd St at Folsom St",
          "2nd St at S Park St",
          "2nd St at Townsend St - Coming Soon",
          "30th St at San Jose Ave",
          "37th St at West St",
          "47th St at San Pablo Ave",
          "4th St at Harrison St",
          "55th St at Telegraph Ave",
          "5th St at Brannan St",
          "5th St at Virginia St",
          "7th St at Brannan St",
          "Alcatraz Ave at Shattuck Ave",
          "Beale St at Harrison St",
          "Berry St at 4th St",
          "Broadway at 30th St",
          "Broadway at 40th St",
          "Broadway at Kearny",
          "Bryant St at 15th St",
          "Bryant St at 2nd St",
          "College Ave at Alcatraz Ave",
          "Commercial St at Montgomery St",
          "Cyril Magnin St at Ellis St",
          "Davis St at Jackson St",
          "Dolores St at 15th St",
          "Dover St at 57th St",
          "Doyle St at 59th St",
          "El Embarcadero at Grand Ave",
          "Emeryville Public Market",
          "Esprit Park",
          "Folsom St at 19th St",
          "Folsom St at 3rd St",
          "Foothill Blvd at Harrington Ave",
          "Franklin Square",
          "Franklin St at 9th St",
          "Fruitvale BART Station",
          "George St at 1st St",
          "Golden Gate Ave at Hyde St",
          "Golden Gate Ave at Polk St",
          "Grand Ave at Santa Clara Ave",
          "Grand Ave at Webster St",
          "Harmon St at Adeline St",
          "Harrison St at 20th St",
          "Howard St at 8th St",
          "Howard St at Beale St",
          "Jackson Playground",
          "Jackson St at 14th St",
          "Julian St at 6th St",
          "Lakeshore Ave at Trestle Glen Rd",
          "Locust St at Grant St",
          "MLK Jr Way at University Ave",
          "Market St at 40th St",
          "Market St at 8th St",
          "Market St at Dolores St",
          "Marston Campbell Park",
          "Montgomery St BART Station (Market St at 2nd St)",
          "Mosswood Park",
          "Ninth St at Heinz Ave",
          "Ninth St at Parker St",
          "North Berkeley BART Station",
          "Oregon St at Adeline St",
          "Page St at Scott St",
          "Palm St at Willow St",
          "Parker St at Fulton St",
          "Paseo De San Antonio at 2nd St",
          "Potrero Ave and Mariposa St",
          "Powell St BART Station (Market St at 5th St)",
          "Russell St at College Ave",
          "Saint James Park",
          "San Carlos St at 11th St",
          "San Fernando at 7th St",
          "San Francisco Caltrain (Townsend St at 4th St)",
          "San Francisco Caltrain Station 2  (Townsend St at 4th St)",
          "San Jose City Hall",
          "San Pablo Park",
          "San Pedro Square",
          "San Salvador St at 1st St",
          "Sanchez St at 15th St",
          "Scott St at Golden Gate Ave",
          "Shattuck Ave at Hearst Ave",
          "Spear St at Folsom St",
          "Stanford Ave at Hollis St",
          "Steuart St at Market St",
          "Tamien Station",
          "Telegraph Ave at Carleton St",
          "The Alameda at Bush St",
          "The Embarcadero at Bryant St",
          "Union St at 10th St",
          "University Ave at Oxford St",
          "Valencia St at Cesar Chavez St",
          "W St John St at Guadalupe River Trail",
          "Webster St at 19th St",
          "West Oakland BART Station",
          "Woolsey St at Sacramento St"
         ],
         "type": "scattergeo"
        }
       ],
       "layout": {
        "geo": {
         "coastlinewidth": 2,
         "countrycolor": "rgb(204, 204, 204)",
         "lakecolor": "rgb(255, 255, 255)",
         "landcolor": "rgb(204, 204, 204)",
         "lataxis": {
          "dtick": 10,
          "range": [
           37.30285404293261,
           37.89022244590679
          ],
          "showgrid": true
         },
         "lonaxis": {
          "dtick": 20,
          "range": [
           -122.45429260492324,
           -121.8641186
          ],
          "showgrid": true
         },
         "projection": {
          "type": "equirectangular"
         },
         "resolution": 50,
         "showlakes": true,
         "showland": true
        },
        "showlegend": false,
        "template": {
         "data": {
          "bar": [
           {
            "error_x": {
             "color": "#2a3f5f"
            },
            "error_y": {
             "color": "#2a3f5f"
            },
            "marker": {
             "line": {
              "color": "#E5ECF6",
              "width": 0.5
             },
             "pattern": {
              "fillmode": "overlay",
              "size": 10,
              "solidity": 0.2
             }
            },
            "type": "bar"
           }
          ],
          "barpolar": [
           {
            "marker": {
             "line": {
              "color": "#E5ECF6",
              "width": 0.5
             },
             "pattern": {
              "fillmode": "overlay",
              "size": 10,
              "solidity": 0.2
             }
            },
            "type": "barpolar"
           }
          ],
          "carpet": [
           {
            "aaxis": {
             "endlinecolor": "#2a3f5f",
             "gridcolor": "white",
             "linecolor": "white",
             "minorgridcolor": "white",
             "startlinecolor": "#2a3f5f"
            },
            "baxis": {
             "endlinecolor": "#2a3f5f",
             "gridcolor": "white",
             "linecolor": "white",
             "minorgridcolor": "white",
             "startlinecolor": "#2a3f5f"
            },
            "type": "carpet"
           }
          ],
          "choropleth": [
           {
            "colorbar": {
             "outlinewidth": 0,
             "ticks": ""
            },
            "type": "choropleth"
           }
          ],
          "contour": [
           {
            "colorbar": {
             "outlinewidth": 0,
             "ticks": ""
            },
            "colorscale": [
             [
              0,
              "#0d0887"
             ],
             [
              0.1111111111111111,
              "#46039f"
             ],
             [
              0.2222222222222222,
              "#7201a8"
             ],
             [
              0.3333333333333333,
              "#9c179e"
             ],
             [
              0.4444444444444444,
              "#bd3786"
             ],
             [
              0.5555555555555556,
              "#d8576b"
             ],
             [
              0.6666666666666666,
              "#ed7953"
             ],
             [
              0.7777777777777778,
              "#fb9f3a"
             ],
             [
              0.8888888888888888,
              "#fdca26"
             ],
             [
              1,
              "#f0f921"
             ]
            ],
            "type": "contour"
           }
          ],
          "contourcarpet": [
           {
            "colorbar": {
             "outlinewidth": 0,
             "ticks": ""
            },
            "type": "contourcarpet"
           }
          ],
          "heatmap": [
           {
            "colorbar": {
             "outlinewidth": 0,
             "ticks": ""
            },
            "colorscale": [
             [
              0,
              "#0d0887"
             ],
             [
              0.1111111111111111,
              "#46039f"
             ],
             [
              0.2222222222222222,
              "#7201a8"
             ],
             [
              0.3333333333333333,
              "#9c179e"
             ],
             [
              0.4444444444444444,
              "#bd3786"
             ],
             [
              0.5555555555555556,
              "#d8576b"
             ],
             [
              0.6666666666666666,
              "#ed7953"
             ],
             [
              0.7777777777777778,
              "#fb9f3a"
             ],
             [
              0.8888888888888888,
              "#fdca26"
             ],
             [
              1,
              "#f0f921"
             ]
            ],
            "type": "heatmap"
           }
          ],
          "heatmapgl": [
           {
            "colorbar": {
             "outlinewidth": 0,
             "ticks": ""
            },
            "colorscale": [
             [
              0,
              "#0d0887"
             ],
             [
              0.1111111111111111,
              "#46039f"
             ],
             [
              0.2222222222222222,
              "#7201a8"
             ],
             [
              0.3333333333333333,
              "#9c179e"
             ],
             [
              0.4444444444444444,
              "#bd3786"
             ],
             [
              0.5555555555555556,
              "#d8576b"
             ],
             [
              0.6666666666666666,
              "#ed7953"
             ],
             [
              0.7777777777777778,
              "#fb9f3a"
             ],
             [
              0.8888888888888888,
              "#fdca26"
             ],
             [
              1,
              "#f0f921"
             ]
            ],
            "type": "heatmapgl"
           }
          ],
          "histogram": [
           {
            "marker": {
             "pattern": {
              "fillmode": "overlay",
              "size": 10,
              "solidity": 0.2
             }
            },
            "type": "histogram"
           }
          ],
          "histogram2d": [
           {
            "colorbar": {
             "outlinewidth": 0,
             "ticks": ""
            },
            "colorscale": [
             [
              0,
              "#0d0887"
             ],
             [
              0.1111111111111111,
              "#46039f"
             ],
             [
              0.2222222222222222,
              "#7201a8"
             ],
             [
              0.3333333333333333,
              "#9c179e"
             ],
             [
              0.4444444444444444,
              "#bd3786"
             ],
             [
              0.5555555555555556,
              "#d8576b"
             ],
             [
              0.6666666666666666,
              "#ed7953"
             ],
             [
              0.7777777777777778,
              "#fb9f3a"
             ],
             [
              0.8888888888888888,
              "#fdca26"
             ],
             [
              1,
              "#f0f921"
             ]
            ],
            "type": "histogram2d"
           }
          ],
          "histogram2dcontour": [
           {
            "colorbar": {
             "outlinewidth": 0,
             "ticks": ""
            },
            "colorscale": [
             [
              0,
              "#0d0887"
             ],
             [
              0.1111111111111111,
              "#46039f"
             ],
             [
              0.2222222222222222,
              "#7201a8"
             ],
             [
              0.3333333333333333,
              "#9c179e"
             ],
             [
              0.4444444444444444,
              "#bd3786"
             ],
             [
              0.5555555555555556,
              "#d8576b"
             ],
             [
              0.6666666666666666,
              "#ed7953"
             ],
             [
              0.7777777777777778,
              "#fb9f3a"
             ],
             [
              0.8888888888888888,
              "#fdca26"
             ],
             [
              1,
              "#f0f921"
             ]
            ],
            "type": "histogram2dcontour"
           }
          ],
          "mesh3d": [
           {
            "colorbar": {
             "outlinewidth": 0,
             "ticks": ""
            },
            "type": "mesh3d"
           }
          ],
          "parcoords": [
           {
            "line": {
             "colorbar": {
              "outlinewidth": 0,
              "ticks": ""
             }
            },
            "type": "parcoords"
           }
          ],
          "pie": [
           {
            "automargin": true,
            "type": "pie"
           }
          ],
          "scatter": [
           {
            "marker": {
             "colorbar": {
              "outlinewidth": 0,
              "ticks": ""
             }
            },
            "type": "scatter"
           }
          ],
          "scatter3d": [
           {
            "line": {
             "colorbar": {
              "outlinewidth": 0,
              "ticks": ""
             }
            },
            "marker": {
             "colorbar": {
              "outlinewidth": 0,
              "ticks": ""
             }
            },
            "type": "scatter3d"
           }
          ],
          "scattercarpet": [
           {
            "marker": {
             "colorbar": {
              "outlinewidth": 0,
              "ticks": ""
             }
            },
            "type": "scattercarpet"
           }
          ],
          "scattergeo": [
           {
            "marker": {
             "colorbar": {
              "outlinewidth": 0,
              "ticks": ""
             }
            },
            "type": "scattergeo"
           }
          ],
          "scattergl": [
           {
            "marker": {
             "colorbar": {
              "outlinewidth": 0,
              "ticks": ""
             }
            },
            "type": "scattergl"
           }
          ],
          "scattermapbox": [
           {
            "marker": {
             "colorbar": {
              "outlinewidth": 0,
              "ticks": ""
             }
            },
            "type": "scattermapbox"
           }
          ],
          "scatterpolar": [
           {
            "marker": {
             "colorbar": {
              "outlinewidth": 0,
              "ticks": ""
             }
            },
            "type": "scatterpolar"
           }
          ],
          "scatterpolargl": [
           {
            "marker": {
             "colorbar": {
              "outlinewidth": 0,
              "ticks": ""
             }
            },
            "type": "scatterpolargl"
           }
          ],
          "scatterternary": [
           {
            "marker": {
             "colorbar": {
              "outlinewidth": 0,
              "ticks": ""
             }
            },
            "type": "scatterternary"
           }
          ],
          "surface": [
           {
            "colorbar": {
             "outlinewidth": 0,
             "ticks": ""
            },
            "colorscale": [
             [
              0,
              "#0d0887"
             ],
             [
              0.1111111111111111,
              "#46039f"
             ],
             [
              0.2222222222222222,
              "#7201a8"
             ],
             [
              0.3333333333333333,
              "#9c179e"
             ],
             [
              0.4444444444444444,
              "#bd3786"
             ],
             [
              0.5555555555555556,
              "#d8576b"
             ],
             [
              0.6666666666666666,
              "#ed7953"
             ],
             [
              0.7777777777777778,
              "#fb9f3a"
             ],
             [
              0.8888888888888888,
              "#fdca26"
             ],
             [
              1,
              "#f0f921"
             ]
            ],
            "type": "surface"
           }
          ],
          "table": [
           {
            "cells": {
             "fill": {
              "color": "#EBF0F8"
             },
             "line": {
              "color": "white"
             }
            },
            "header": {
             "fill": {
              "color": "#C8D4E3"
             },
             "line": {
              "color": "white"
             }
            },
            "type": "table"
           }
          ]
         },
         "layout": {
          "annotationdefaults": {
           "arrowcolor": "#2a3f5f",
           "arrowhead": 0,
           "arrowwidth": 1
          },
          "autotypenumbers": "strict",
          "coloraxis": {
           "colorbar": {
            "outlinewidth": 0,
            "ticks": ""
           }
          },
          "colorscale": {
           "diverging": [
            [
             0,
             "#8e0152"
            ],
            [
             0.1,
             "#c51b7d"
            ],
            [
             0.2,
             "#de77ae"
            ],
            [
             0.3,
             "#f1b6da"
            ],
            [
             0.4,
             "#fde0ef"
            ],
            [
             0.5,
             "#f7f7f7"
            ],
            [
             0.6,
             "#e6f5d0"
            ],
            [
             0.7,
             "#b8e186"
            ],
            [
             0.8,
             "#7fbc41"
            ],
            [
             0.9,
             "#4d9221"
            ],
            [
             1,
             "#276419"
            ]
           ],
           "sequential": [
            [
             0,
             "#0d0887"
            ],
            [
             0.1111111111111111,
             "#46039f"
            ],
            [
             0.2222222222222222,
             "#7201a8"
            ],
            [
             0.3333333333333333,
             "#9c179e"
            ],
            [
             0.4444444444444444,
             "#bd3786"
            ],
            [
             0.5555555555555556,
             "#d8576b"
            ],
            [
             0.6666666666666666,
             "#ed7953"
            ],
            [
             0.7777777777777778,
             "#fb9f3a"
            ],
            [
             0.8888888888888888,
             "#fdca26"
            ],
            [
             1,
             "#f0f921"
            ]
           ],
           "sequentialminus": [
            [
             0,
             "#0d0887"
            ],
            [
             0.1111111111111111,
             "#46039f"
            ],
            [
             0.2222222222222222,
             "#7201a8"
            ],
            [
             0.3333333333333333,
             "#9c179e"
            ],
            [
             0.4444444444444444,
             "#bd3786"
            ],
            [
             0.5555555555555556,
             "#d8576b"
            ],
            [
             0.6666666666666666,
             "#ed7953"
            ],
            [
             0.7777777777777778,
             "#fb9f3a"
            ],
            [
             0.8888888888888888,
             "#fdca26"
            ],
            [
             1,
             "#f0f921"
            ]
           ]
          },
          "colorway": [
           "#636efa",
           "#EF553B",
           "#00cc96",
           "#ab63fa",
           "#FFA15A",
           "#19d3f3",
           "#FF6692",
           "#B6E880",
           "#FF97FF",
           "#FECB52"
          ],
          "font": {
           "color": "#2a3f5f"
          },
          "geo": {
           "bgcolor": "white",
           "lakecolor": "white",
           "landcolor": "#E5ECF6",
           "showlakes": true,
           "showland": true,
           "subunitcolor": "white"
          },
          "hoverlabel": {
           "align": "left"
          },
          "hovermode": "closest",
          "mapbox": {
           "style": "light"
          },
          "paper_bgcolor": "white",
          "plot_bgcolor": "#E5ECF6",
          "polar": {
           "angularaxis": {
            "gridcolor": "white",
            "linecolor": "white",
            "ticks": ""
           },
           "bgcolor": "#E5ECF6",
           "radialaxis": {
            "gridcolor": "white",
            "linecolor": "white",
            "ticks": ""
           }
          },
          "scene": {
           "xaxis": {
            "backgroundcolor": "#E5ECF6",
            "gridcolor": "white",
            "gridwidth": 2,
            "linecolor": "white",
            "showbackground": true,
            "ticks": "",
            "zerolinecolor": "white"
           },
           "yaxis": {
            "backgroundcolor": "#E5ECF6",
            "gridcolor": "white",
            "gridwidth": 2,
            "linecolor": "white",
            "showbackground": true,
            "ticks": "",
            "zerolinecolor": "white"
           },
           "zaxis": {
            "backgroundcolor": "#E5ECF6",
            "gridcolor": "white",
            "gridwidth": 2,
            "linecolor": "white",
            "showbackground": true,
            "ticks": "",
            "zerolinecolor": "white"
           }
          },
          "shapedefaults": {
           "line": {
            "color": "#2a3f5f"
           }
          },
          "ternary": {
           "aaxis": {
            "gridcolor": "white",
            "linecolor": "white",
            "ticks": ""
           },
           "baxis": {
            "gridcolor": "white",
            "linecolor": "white",
            "ticks": ""
           },
           "bgcolor": "#E5ECF6",
           "caxis": {
            "gridcolor": "white",
            "linecolor": "white",
            "ticks": ""
           }
          },
          "title": {
           "x": 0.05
          },
          "xaxis": {
           "automargin": true,
           "gridcolor": "white",
           "linecolor": "white",
           "ticks": "",
           "title": {
            "standoff": 15
           },
           "zerolinecolor": "white",
           "zerolinewidth": 2
          },
          "yaxis": {
           "automargin": true,
           "gridcolor": "white",
           "linecolor": "white",
           "ticks": "",
           "title": {
            "standoff": 15
           },
           "zerolinecolor": "white",
           "zerolinewidth": 2
          }
         }
        },
        "title": {
         "text": "Stations used in 2016 May - 2018 Apr (Hover to see station names)"
        }
       }
      }
     },
     "metadata": {},
     "output_type": "display_data"
    }
   ],
   "source": [
    "# plot stations on map\n",
    "\n",
    "fig = go.Figure()\n",
    "\n",
    "fig.add_trace(go.Scattergeo(\n",
    "    lon = station_coords['lon'],\n",
    "    lat = station_coords['lat'],\n",
    "    hoverinfo = 'text',\n",
    "    text = station_coords['station_name'],\n",
    "    mode = 'markers',\n",
    "    marker = dict(\n",
    "        size = 2,\n",
    "        color = 'rgb(53, 94, 59)',\n",
    "        opacity = .8,\n",
    "        line = dict(\n",
    "            width = 3,\n",
    "            color = 'rgba(68, 68, 68, 0)'\n",
    "        )\n",
    "    )))\n",
    "\n",
    "\n",
    "fig.update_layout(\n",
    "    title_text = 'Stations used in 2016 May - 2018 Apr (Hover to see station names)',\n",
    "    showlegend = False,\n",
    "    geo = dict(\n",
    "        projection_type = \"equirectangular\",\n",
    "        coastlinewidth = 2,\n",
    "        resolution = 50,\n",
    "        showland = True,\n",
    "        showlakes = True,\n",
    "        landcolor = 'rgb(204, 204, 204)',\n",
    "        countrycolor = 'rgb(204, 204, 204)',\n",
    "        lakecolor = 'rgb(255, 255, 255)',\n",
    "        lataxis = dict(\n",
    "            range = [station_coords['lat'].min()-0.01, station_coords['lat'].max()+0.01],\n",
    "            showgrid = True,\n",
    "            dtick = 10\n",
    "        ),\n",
    "        lonaxis = dict(\n",
    "            range = [station_coords['lon'].min()-0.01, station_coords['lon'].max()+0.01],\n",
    "            showgrid = True,\n",
    "            dtick = 20\n",
    "        ),\n",
    "    ),\n",
    ")\n",
    "\n",
    "\n",
    "# fig.show()\n",
    "iplot(fig)"
   ]
  },
  {
   "cell_type": "markdown",
   "metadata": {},
   "source": [
    "#### Visualisation: Given four data points that define the quadrilateral of an area, find stations that fall within this rectangle.\n",
    "\n",
    "This step involves manually defining the four points which form a quadrilateral for each of the three areas on the map: Oakland, San Jose and San Francisco. The station table contains region_id of the station and might save the manual definition. However, the station table and trips table do not have a field which they can join directly. "
   ]
  },
  {
   "cell_type": "code",
   "execution_count": 16,
   "metadata": {},
   "outputs": [],
   "source": [
    "# function to get stops which fall within the quadrilateral \n",
    "\n",
    "def find_pts(top,down,left,right):\n",
    "    return start_end_coords[(start_end_coords['start_lat'] < top) & (start_end_coords['start_lat'] > down) & \\\n",
    "                (start_end_coords['start_lon'] < right) & (start_end_coords['start_lon'] > left)]\n",
    "\n"
   ]
  },
  {
   "cell_type": "code",
   "execution_count": 17,
   "metadata": {},
   "outputs": [],
   "source": [
    "# find unique stations within the set\n",
    "\n",
    "def unique_station(frame):\n",
    "    start_stations = frame.groupby(['start_station_name'], as_index=False).agg(lat = ('start_lat', 'mean'), \n",
    "                                                                                lon = ('start_lon', 'mean'))\n",
    "    start_stations = start_stations[~start_stations['lat'].isna()]\n",
    "    start_stations.rename(columns={'start_station_name':'station_name'}, inplace=True)\n",
    "    end_stations = frame.groupby(['end_station_name'], as_index=False).agg(lat = ('end_lat', 'mean'), \n",
    "                                                                            lon = ('end_lon', 'mean'))\n",
    "    end_stations.rename(columns={'end_station_name':'station_name'}, inplace=True)\n",
    "    end_stations = end_stations[~end_stations['lat'].isna()]\n",
    "                                \n",
    "    station_coords = mpd.concat([start_stations, end_stations])\n",
    "    station_coords.drop_duplicates(inplace=True)\n",
    "\n",
    "    return station_coords"
   ]
  },
  {
   "cell_type": "code",
   "execution_count": 21,
   "metadata": {},
   "outputs": [],
   "source": [
    "# visualise the trips\n",
    "\n",
    "def visualise_trip(frame, station_frame, locale):\n",
    "    import plotly.graph_objects as go\n",
    "\n",
    "    fig = go.Figure()\n",
    "    \n",
    "    for i in range(len(frame)):\n",
    "        fig.add_trace(\n",
    "            go.Scattergeo(\n",
    "                lon = [frame['start_lon'][i], frame['end_lon'][i]],\n",
    "                lat = [frame['start_lat'][i], frame['end_lat'][i]],\n",
    "                mode = 'lines',\n",
    "                line = dict(width = 1,color = 'rgb(6,78,64)'),\n",
    "                opacity = float(frame['cnt_trip'][i]) / float(frame['cnt_trip'].max()),\n",
    "            )\n",
    "        )\n",
    "\n",
    "    fig.add_trace(go.Scattergeo(\n",
    "    lon = station_frame['lon'],\n",
    "    lat = station_frame['lat'],\n",
    "    hoverinfo = 'text',\n",
    "    text = station_frame['station_name'],\n",
    "    mode = 'markers',\n",
    "    marker = dict(\n",
    "        size = 2,\n",
    "        color = 'rgb(53, 94, 59)',\n",
    "        opacity = .8,\n",
    "        line = dict(\n",
    "            width = 3,\n",
    "            color = 'rgba(68, 68, 68, 0)'\n",
    "        )\n",
    "    )))\n",
    "\n",
    "    fig.update_layout(\n",
    "        title_text = f'Top 100 trips done in {locale} during 2016 May - 2018 Apr (Hover to see station names)',\n",
    "        showlegend = False,\n",
    "        geo = dict(\n",
    "            projection_type = \"equirectangular\",\n",
    "            coastlinewidth = 2,\n",
    "            resolution = 50,\n",
    "            showland = True,\n",
    "            showlakes = True,\n",
    "            landcolor = 'rgb(204, 204, 204)',\n",
    "            countrycolor = 'rgb(204, 204, 204)',\n",
    "            lakecolor = 'rgb(255, 255, 255)',\n",
    "            lataxis = dict(\n",
    "                range = [station_frame['lat'].min()-0.01, station_frame['lat'].max()+0.01],\n",
    "                showgrid = True,\n",
    "                dtick = 10\n",
    "            ),\n",
    "            lonaxis = dict(\n",
    "                range = [station_frame['lon'].min()-0.01, station_frame['lon'].max()+0.01],\n",
    "                showgrid = True,\n",
    "                dtick = 20\n",
    "            ),\n",
    "        ),\n",
    "    )\n",
    "\n",
    "    iplot(fig)"
   ]
  },
  {
   "cell_type": "code",
   "execution_count": 22,
   "metadata": {},
   "outputs": [
    {
     "name": "stderr",
     "output_type": "stream",
     "text": [
      "c:\\Users\\WingyanYip\\anaconda3\\lib\\site-packages\\modin\\error_message.py:64: UserWarning:\n",
      "\n",
      "sort_values defaulting to pandas implementation.\n",
      "\n"
     ]
    }
   ],
   "source": [
    "# Oakland\n",
    "\n",
    "oakland = find_pts(37.88,37.77,-122.29,-122.21)\n",
    "\n",
    "oakland = oakland.sort_values('cnt_trip', ascending=False).head(100)\n",
    "\n",
    "oakland_stations = unique_station(oakland)"
   ]
  },
  {
   "cell_type": "code",
   "execution_count": 23,
   "metadata": {},
   "outputs": [
    {
     "data": {
      "application/vnd.plotly.v1+json": {
       "config": {
        "linkText": "Export to plot.ly",
        "plotlyServerURL": "https://plot.ly",
        "showLink": false
       },
       "data": [
        {
         "lat": [
          37.8090126,
          37.80889393398715
         ],
         "line": {
          "color": "rgb(6,78,64)",
          "width": 1
         },
         "lon": [
          -122.2682473,
          -122.25646018981931
         ],
         "mode": "lines",
         "opacity": 1,
         "type": "scattergeo"
        },
        {
         "lat": [
          37.80889393398715,
          37.8090126
         ],
         "line": {
          "color": "rgb(6,78,64)",
          "width": 1
         },
         "lon": [
          -122.25646018981932,
          -122.2682473
         ],
         "mode": "lines",
         "opacity": 0.8739460370994941,
         "type": "scattergeo"
        },
        {
         "lat": [
          37.81231409135146,
          37.80901260000001
         ],
         "line": {
          "color": "rgb(6,78,64)",
          "width": 1
         },
         "lon": [
          -122.26077854633331,
          -122.2682473
         ],
         "mode": "lines",
         "opacity": 0.8296795952782462,
         "type": "scattergeo"
        },
        {
         "lat": [
          37.8090126,
          37.81231409135146
         ],
         "line": {
          "color": "rgb(6,78,64)",
          "width": 1
         },
         "lon": [
          -122.2682473,
          -122.26077854633331
         ],
         "mode": "lines",
         "opacity": 0.6475548060708263,
         "type": "scattergeo"
        },
        {
         "lat": [
          37.8693603,
          37.8703477
         ],
         "line": {
          "color": "rgb(6,78,64)",
          "width": 1
         },
         "lon": [
          -122.25433740000001,
          -122.26776369999999
         ],
         "mode": "lines",
         "opacity": 0.565345699831366,
         "type": "scattergeo"
        },
        {
         "lat": [
          37.7973195,
          37.8002135669698
         ],
         "line": {
          "color": "rgb(6,78,64)",
          "width": 1
         },
         "lon": [
          -122.2653199,
          -122.25381016731262
         ],
         "mode": "lines",
         "opacity": 0.49704890387858347,
         "type": "scattergeo"
        },
        {
         "lat": [
          37.8693603,
          37.8688126
         ],
         "line": {
          "color": "rgb(6,78,64)",
          "width": 1
         },
         "lon": [
          -122.25433740000001,
          -122.258764
         ],
         "mode": "lines",
         "opacity": 0.4565767284991568,
         "type": "scattergeo"
        },
        {
         "lat": [
          37.8090126,
          37.8127441
         ],
         "line": {
          "color": "rgb(6,78,64)",
          "width": 1
         },
         "lon": [
          -122.2682473,
          -122.2472152
         ],
         "mode": "lines",
         "opacity": 0.40978077571669475,
         "type": "scattergeo"
        },
        {
         "lat": [
          37.8002135669698,
          37.7976728
         ],
         "line": {
          "color": "rgb(6,78,64)",
          "width": 1
         },
         "lon": [
          -122.25381016731262,
          -122.2629973
         ],
         "mode": "lines",
         "opacity": 0.40472175379426645,
         "type": "scattergeo"
        },
        {
         "lat": [
          37.8002135669698,
          37.7973195
         ],
         "line": {
          "color": "rgb(6,78,64)",
          "width": 1
         },
         "lon": [
          -122.25381016731262,
          -122.2653199
         ],
         "mode": "lines",
         "opacity": 0.4043001686340641,
         "type": "scattergeo"
        },
        {
         "lat": [
          37.82840997305853,
          37.8277573
         ],
         "line": {
          "color": "rgb(6,78,64)",
          "width": 1
         },
         "lon": [
          -122.26631462574004,
          -122.2567156
         ],
         "mode": "lines",
         "opacity": 0.39586846543001686,
         "type": "scattergeo"
        },
        {
         "lat": [
          37.8277573,
          37.82840997305853
         ],
         "line": {
          "color": "rgb(6,78,64)",
          "width": 1
         },
         "lon": [
          -122.2567156,
          -122.26631462574004
         ],
         "mode": "lines",
         "opacity": 0.3891231028667791,
         "type": "scattergeo"
        },
        {
         "lat": [
          37.8688126,
          37.8703477
         ],
         "line": {
          "color": "rgb(6,78,64)",
          "width": 1
         },
         "lon": [
          -122.258764,
          -122.2677637
         ],
         "mode": "lines",
         "opacity": 0.3849072512647555,
         "type": "scattergeo"
        },
        {
         "lat": [
          37.8126783,
          37.8090126
         ],
         "line": {
          "color": "rgb(6,78,64)",
          "width": 1
         },
         "lon": [
          -122.2687726,
          -122.2682473
         ],
         "mode": "lines",
         "opacity": 0.3752107925801012,
         "type": "scattergeo"
        },
        {
         "lat": [
          37.8088479,
          37.8088479
         ],
         "line": {
          "color": "rgb(6,78,64)",
          "width": 1
         },
         "lon": [
          -122.24967989999999,
          -122.24967989999999
         ],
         "mode": "lines",
         "opacity": 0.3642495784148398,
         "type": "scattergeo"
        },
        {
         "lat": [
          37.8088479,
          37.8002135669698
         ],
         "line": {
          "color": "rgb(6,78,64)",
          "width": 1
         },
         "lon": [
          -122.24967989999999,
          -122.25381016731262
         ],
         "mode": "lines",
         "opacity": 0.3634064080944351,
         "type": "scattergeo"
        },
        {
         "lat": [
          37.82840997305853,
          37.8249311
         ],
         "line": {
          "color": "rgb(6,78,64)",
          "width": 1
         },
         "lon": [
          -122.26631462574004,
          -122.2604787
         ],
         "mode": "lines",
         "opacity": 0.3545531197301855,
         "type": "scattergeo"
        },
        {
         "lat": [
          37.8090126,
          37.8088479
         ],
         "line": {
          "color": "rgb(6,78,64)",
          "width": 1
         },
         "lon": [
          -122.2682473,
          -122.2496799
         ],
         "mode": "lines",
         "opacity": 0.3427487352445194,
         "type": "scattergeo"
        },
        {
         "lat": [
          37.8090126,
          37.8126783
         ],
         "line": {
          "color": "rgb(6,78,64)",
          "width": 1
         },
         "lon": [
          -122.26824729999998,
          -122.26877259999999
         ],
         "mode": "lines",
         "opacity": 0.3081787521079258,
         "type": "scattergeo"
        },
        {
         "lat": [
          37.8396488,
          37.82840997305853
         ],
         "line": {
          "color": "rgb(6,78,64)",
          "width": 1
         },
         "lon": [
          -122.2717561,
          -122.26631462574004
         ],
         "mode": "lines",
         "opacity": 0.301433389544688,
         "type": "scattergeo"
        },
        {
         "lat": [
          37.8127441,
          37.8090126
         ],
         "line": {
          "color": "rgb(6,78,64)",
          "width": 1
         },
         "lon": [
          -122.24721520000001,
          -122.26824730000001
         ],
         "mode": "lines",
         "opacity": 0.2942664418212479,
         "type": "scattergeo"
        },
        {
         "lat": [
          37.8002135669698,
          37.8088479
         ],
         "line": {
          "color": "rgb(6,78,64)",
          "width": 1
         },
         "lon": [
          -122.25381016731262,
          -122.24967989999999
         ],
         "mode": "lines",
         "opacity": 0.29215851602023607,
         "type": "scattergeo"
        },
        {
         "lat": [
          37.8249311,
          37.82840997305853
         ],
         "line": {
          "color": "rgb(6,78,64)",
          "width": 1
         },
         "lon": [
          -122.2604787,
          -122.26631462574002
         ],
         "mode": "lines",
         "opacity": 0.28499156829679595,
         "type": "scattergeo"
        },
        {
         "lat": [
          37.8359455,
          37.82840997305853
         ],
         "line": {
          "color": "rgb(6,78,64)",
          "width": 1
         },
         "lon": [
          -122.26236629999998,
          -122.26631462574002
         ],
         "mode": "lines",
         "opacity": 0.2774030354131535,
         "type": "scattergeo"
        },
        {
         "lat": [
          37.7958125,
          37.7976728
         ],
         "line": {
          "color": "rgb(6,78,64)",
          "width": 1
         },
         "lon": [
          -122.2555549,
          -122.2629973
         ],
         "mode": "lines",
         "opacity": 0.2740303541315346,
         "type": "scattergeo"
        },
        {
         "lat": [
          37.82840997305853,
          37.8233214
         ],
         "line": {
          "color": "rgb(6,78,64)",
          "width": 1
         },
         "lon": [
          -122.26631462574002,
          -122.2757325
         ],
         "mode": "lines",
         "opacity": 0.2702360876897133,
         "type": "scattergeo"
        },
        {
         "lat": [
          37.8113768,
          37.80889393398715
         ],
         "line": {
          "color": "rgb(6,78,64)",
          "width": 1
         },
         "lon": [
          -122.26519249999998,
          -122.25646018981931
         ],
         "mode": "lines",
         "opacity": 0.26981450252951095,
         "type": "scattergeo"
        },
        {
         "lat": [
          37.8332935222321,
          37.82840997305853
         ],
         "line": {
          "color": "rgb(6,78,64)",
          "width": 1
         },
         "lon": [
          -122.25622415542605,
          -122.26631462574002
         ],
         "mode": "lines",
         "opacity": 0.2693929173693086,
         "type": "scattergeo"
        },
        {
         "lat": [
          37.8113768,
          37.8090126
         ],
         "line": {
          "color": "rgb(6,78,64)",
          "width": 1
         },
         "lon": [
          -122.2651925,
          -122.2682473
         ],
         "mode": "lines",
         "opacity": 0.26559865092748736,
         "type": "scattergeo"
        },
        {
         "lat": [
          37.8233214,
          37.82840997305853
         ],
         "line": {
          "color": "rgb(6,78,64)",
          "width": 1
         },
         "lon": [
          -122.27573250000002,
          -122.26631462574002
         ],
         "mode": "lines",
         "opacity": 0.26475548060708265,
         "type": "scattergeo"
        },
        {
         "lat": [
          37.82840997305853,
          37.8359455
         ],
         "line": {
          "color": "rgb(6,78,64)",
          "width": 1
         },
         "lon": [
          -122.26631462574002,
          -122.26236630000001
         ],
         "mode": "lines",
         "opacity": 0.2622259696458685,
         "type": "scattergeo"
        },
        {
         "lat": [
          37.7973195,
          37.8013189
         ],
         "line": {
          "color": "rgb(6,78,64)",
          "width": 1
         },
         "lon": [
          -122.2653199,
          -122.26264180000001
         ],
         "mode": "lines",
         "opacity": 0.2622259696458685,
         "type": "scattergeo"
        },
        {
         "lat": [
          37.8693603,
          37.8677892
         ],
         "line": {
          "color": "rgb(6,78,64)",
          "width": 1
         },
         "lon": [
          -122.2543374,
          -122.2658964
         ],
         "mode": "lines",
         "opacity": 0.24915682967959527,
         "type": "scattergeo"
        },
        {
         "lat": [
          37.82840997305853,
          37.8396488
         ],
         "line": {
          "color": "rgb(6,78,64)",
          "width": 1
         },
         "lon": [
          -122.26631462574002,
          -122.27175610000002
         ],
         "mode": "lines",
         "opacity": 0.24451939291736932,
         "type": "scattergeo"
        },
        {
         "lat": [
          37.7976728,
          37.8002135669698
         ],
         "line": {
          "color": "rgb(6,78,64)",
          "width": 1
         },
         "lon": [
          -122.2629973,
          -122.25381016731262
         ],
         "mode": "lines",
         "opacity": 0.2381956155143339,
         "type": "scattergeo"
        },
        {
         "lat": [
          37.8193814,
          37.8090126
         ],
         "line": {
          "color": "rgb(6,78,64)",
          "width": 1
         },
         "lon": [
          -122.2619284,
          -122.26824729999998
         ],
         "mode": "lines",
         "opacity": 0.23524451939291738,
         "type": "scattergeo"
        },
        {
         "lat": [
          37.8703477,
          37.8693603
         ],
         "line": {
          "color": "rgb(6,78,64)",
          "width": 1
         },
         "lon": [
          -122.2677637,
          -122.2543374
         ],
         "mode": "lines",
         "opacity": 0.234822934232715,
         "type": "scattergeo"
        },
        {
         "lat": [
          37.8090126,
          37.8110807
         ],
         "line": {
          "color": "rgb(6,78,64)",
          "width": 1
         },
         "lon": [
          -122.2682473,
          -122.2432677
         ],
         "mode": "lines",
         "opacity": 0.22554806070826308,
         "type": "scattergeo"
        },
        {
         "lat": [
          37.816073115011406,
          37.8090126
         ],
         "line": {
          "color": "rgb(6,78,64)",
          "width": 1
         },
         "lon": [
          -122.26788640022278,
          -122.2682473
         ],
         "mode": "lines",
         "opacity": 0.22259696458684655,
         "type": "scattergeo"
        },
        {
         "lat": [
          37.8403643,
          37.82840997305853
         ],
         "line": {
          "color": "rgb(6,78,64)",
          "width": 1
         },
         "lon": [
          -122.2644881,
          -122.26631462574004
         ],
         "mode": "lines",
         "opacity": 0.21290050590219226,
         "type": "scattergeo"
        },
        {
         "lat": [
          37.8090126,
          37.8193814
         ],
         "line": {
          "color": "rgb(6,78,64)",
          "width": 1
         },
         "lon": [
          -122.2682473,
          -122.2619284
         ],
         "mode": "lines",
         "opacity": 0.20826306913996628,
         "type": "scattergeo"
        },
        {
         "lat": [
          37.7976728,
          37.7958125
         ],
         "line": {
          "color": "rgb(6,78,64)",
          "width": 1
         },
         "lon": [
          -122.2629973,
          -122.2555549
         ],
         "mode": "lines",
         "opacity": 0.17706576728499157,
         "type": "scattergeo"
        },
        {
         "lat": [
          37.80889393398715,
          37.81137679999999
         ],
         "line": {
          "color": "rgb(6,78,64)",
          "width": 1
         },
         "lon": [
          -122.25646018981932,
          -122.2651925
         ],
         "mode": "lines",
         "opacity": 0.20278246205733558,
         "type": "scattergeo"
        },
        {
         "lat": [
          37.8013189,
          37.7973195
         ],
         "line": {
          "color": "rgb(6,78,64)",
          "width": 1
         },
         "lon": [
          -122.2626418,
          -122.2653199
         ],
         "mode": "lines",
         "opacity": 0.20193929173693087,
         "type": "scattergeo"
        },
        {
         "lat": [
          37.7973195,
          37.8110807
         ],
         "line": {
          "color": "rgb(6,78,64)",
          "width": 1
         },
         "lon": [
          -122.2653199,
          -122.2432677
         ],
         "mode": "lines",
         "opacity": 0.19983136593591905,
         "type": "scattergeo"
        },
        {
         "lat": [
          37.8045623549303,
          37.8002135669698
         ],
         "line": {
          "color": "rgb(6,78,64)",
          "width": 1
         },
         "lon": [
          -122.27173805236816,
          -122.25381016731262
         ],
         "mode": "lines",
         "opacity": 0.19983136593591905,
         "type": "scattergeo"
        },
        {
         "lat": [
          37.8524766,
          37.8467842
         ],
         "line": {
          "color": "rgb(6,78,64)",
          "width": 1
         },
         "lon": [
          -122.2702132,
          -122.2913761
         ],
         "mode": "lines",
         "opacity": 0.19688026981450252,
         "type": "scattergeo"
        },
        {
         "lat": [
          37.8090126,
          37.8113768
         ],
         "line": {
          "color": "rgb(6,78,64)",
          "width": 1
         },
         "lon": [
          -122.2682473,
          -122.2651925
         ],
         "mode": "lines",
         "opacity": 0.1960370994940978,
         "type": "scattergeo"
        },
        {
         "lat": [
          37.8113768,
          37.8088479
         ],
         "line": {
          "color": "rgb(6,78,64)",
          "width": 1
         },
         "lon": [
          -122.2651925,
          -122.2496799
         ],
         "mode": "lines",
         "opacity": 0.19561551433389546,
         "type": "scattergeo"
        },
        {
         "lat": [
          37.7976728,
          37.8002135669698
         ],
         "line": {
          "color": "rgb(6,78,64)",
          "width": 1
         },
         "lon": [
          -122.2629973,
          -122.25381016731262
         ],
         "mode": "lines",
         "opacity": 0.2381956155143339,
         "type": "scattergeo"
        },
        {
         "lat": [
          37.7973195,
          37.808847899999996
         ],
         "line": {
          "color": "rgb(6,78,64)",
          "width": 1
         },
         "lon": [
          -122.2653199,
          -122.2496799
         ],
         "mode": "lines",
         "opacity": 0.19477234401349072,
         "type": "scattergeo"
        },
        {
         "lat": [
          37.8110807,
          37.8090126
         ],
         "line": {
          "color": "rgb(6,78,64)",
          "width": 1
         },
         "lon": [
          -122.2432677,
          -122.26824730000001
         ],
         "mode": "lines",
         "opacity": 0.19477234401349072,
         "type": "scattergeo"
        },
        {
         "lat": [
          37.8123315,
          37.8053183
         ],
         "line": {
          "color": "rgb(6,78,64)",
          "width": 1
         },
         "lon": [
          -122.2851712,
          -122.29483650000002
         ],
         "mode": "lines",
         "opacity": 0.19224283305227655,
         "type": "scattergeo"
        },
        {
         "lat": [
          37.8703477,
          37.8688126
         ],
         "line": {
          "color": "rgb(6,78,64)",
          "width": 1
         },
         "lon": [
          -122.2677637,
          -122.258764
         ],
         "mode": "lines",
         "opacity": 0.19013490725126475,
         "type": "scattergeo"
        },
        {
         "lat": [
          37.8045623549303,
          37.8013189
         ],
         "line": {
          "color": "rgb(6,78,64)",
          "width": 1
         },
         "lon": [
          -122.27173805236816,
          -122.2626418
         ],
         "mode": "lines",
         "opacity": 0.18887015177065766,
         "type": "scattergeo"
        },
        {
         "lat": [
          37.82840997305853,
          37.8332935222321
         ],
         "line": {
          "color": "rgb(6,78,64)",
          "width": 1
         },
         "lon": [
          -122.26631462574004,
          -122.25622415542604
         ],
         "mode": "lines",
         "opacity": 0.1884485666104553,
         "type": "scattergeo"
        },
        {
         "lat": [
          37.7973195,
          37.7958125
         ],
         "line": {
          "color": "rgb(6,78,64)",
          "width": 1
         },
         "lon": [
          -122.2653199,
          -122.2555549
         ],
         "mode": "lines",
         "opacity": 0.18718381112984822,
         "type": "scattergeo"
        },
        {
         "lat": [
          37.7958125,
          37.7973195
         ],
         "line": {
          "color": "rgb(6,78,64)",
          "width": 1
         },
         "lon": [
          -122.25555490000002,
          -122.2653199
         ],
         "mode": "lines",
         "opacity": 0.18338954468802698,
         "type": "scattergeo"
        },
        {
         "lat": [
          37.85595579999999,
          37.8524766
         ],
         "line": {
          "color": "rgb(6,78,64)",
          "width": 1
         },
         "lon": [
          -122.2597949,
          -122.2702132
         ],
         "mode": "lines",
         "opacity": 0.18254637436762225,
         "type": "scattergeo"
        },
        {
         "lat": [
          37.8088479,
          37.7973195
         ],
         "line": {
          "color": "rgb(6,78,64)",
          "width": 1
         },
         "lon": [
          -122.24967989999999,
          -122.26531990000001
         ],
         "mode": "lines",
         "opacity": 0.1808600337268128,
         "type": "scattergeo"
        },
        {
         "lat": [
          37.8660431,
          37.8703477
         ],
         "line": {
          "color": "rgb(6,78,64)",
          "width": 1
         },
         "lon": [
          -122.25880439999999,
          -122.2677637
         ],
         "mode": "lines",
         "opacity": 0.178752107925801,
         "type": "scattergeo"
        },
        {
         "lat": [
          37.7976728,
          37.7958125
         ],
         "line": {
          "color": "rgb(6,78,64)",
          "width": 1
         },
         "lon": [
          -122.2629973,
          -122.2555549
         ],
         "mode": "lines",
         "opacity": 0.17706576728499157,
         "type": "scattergeo"
        },
        {
         "lat": [
          37.8013189,
          37.8013189
         ],
         "line": {
          "color": "rgb(6,78,64)",
          "width": 1
         },
         "lon": [
          -122.2626418,
          -122.2626418
         ],
         "mode": "lines",
         "opacity": 0.16989881956155142,
         "type": "scattergeo"
        },
        {
         "lat": [
          37.8090126,
          37.816073115011406
         ],
         "line": {
          "color": "rgb(6,78,64)",
          "width": 1
         },
         "lon": [
          -122.2682473,
          -122.26788640022278
         ],
         "mode": "lines",
         "opacity": 0.1627318718381113,
         "type": "scattergeo"
        },
        {
         "lat": [
          37.8688126,
          37.8677892
         ],
         "line": {
          "color": "rgb(6,78,64)",
          "width": 1
         },
         "lon": [
          -122.258764,
          -122.26589639999999
         ],
         "mode": "lines",
         "opacity": 0.16231028667790895,
         "type": "scattergeo"
        },
        {
         "lat": [
          37.8088479,
          37.8090126
         ],
         "line": {
          "color": "rgb(6,78,64)",
          "width": 1
         },
         "lon": [
          -122.2496799,
          -122.2682473
         ],
         "mode": "lines",
         "opacity": 0.16104553119730186,
         "type": "scattergeo"
        },
        {
         "lat": [
          37.8088479,
          37.8113768
         ],
         "line": {
          "color": "rgb(6,78,64)",
          "width": 1
         },
         "lon": [
          -122.2496799,
          -122.2651925
         ],
         "mode": "lines",
         "opacity": 0.16104553119730186,
         "type": "scattergeo"
        },
        {
         "lat": [
          37.8688126,
          37.8624644
         ],
         "line": {
          "color": "rgb(6,78,64)",
          "width": 1
         },
         "lon": [
          -122.258764,
          -122.26479109999998
         ],
         "mode": "lines",
         "opacity": 0.1606239460370995,
         "type": "scattergeo"
        },
        {
         "lat": [
          37.85022187449679,
          37.8524766
         ],
         "line": {
          "color": "rgb(6,78,64)",
          "width": 1
         },
         "lon": [
          -122.26017236709596,
          -122.27021320000001
         ],
         "mode": "lines",
         "opacity": 0.15598650927487354,
         "type": "scattergeo"
        },
        {
         "lat": [
          37.8087021,
          37.81231409135146
         ],
         "line": {
          "color": "rgb(6,78,64)",
          "width": 1
         },
         "lon": [
          -122.26992709999999,
          -122.26077854633331
         ],
         "mode": "lines",
         "opacity": 0.15050590219224283,
         "type": "scattergeo"
        },
        {
         "lat": [
          37.81231409135146,
          37.8087021
         ],
         "line": {
          "color": "rgb(6,78,64)",
          "width": 1
         },
         "lon": [
          -122.26077854633331,
          -122.2699271
         ],
         "mode": "lines",
         "opacity": 0.14839797639123103,
         "type": "scattergeo"
        },
        {
         "lat": [
          37.8013189,
          37.8002135669698
         ],
         "line": {
          "color": "rgb(6,78,64)",
          "width": 1
         },
         "lon": [
          -122.2626418,
          -122.25381016731262
         ],
         "mode": "lines",
         "opacity": 0.1467116357504216,
         "type": "scattergeo"
        },
        {
         "lat": [
          37.8088479,
          37.81231409135146
         ],
         "line": {
          "color": "rgb(6,78,64)",
          "width": 1
         },
         "lon": [
          -122.2496799,
          -122.26077854633331
         ],
         "mode": "lines",
         "opacity": 0.1462900505902192,
         "type": "scattergeo"
        },
        {
         "lat": [
          37.8426295,
          37.82840997305853
         ],
         "line": {
          "color": "rgb(6,78,64)",
          "width": 1
         },
         "lon": [
          -122.267738,
          -122.26631462574004
         ],
         "mode": "lines",
         "opacity": 0.1462900505902192,
         "type": "scattergeo"
        },
        {
         "lat": [
          37.8401858,
          37.8332786
         ],
         "line": {
          "color": "rgb(6,78,64)",
          "width": 1
         },
         "lon": [
          -122.26182250000001,
          -122.26349010000001
         ],
         "mode": "lines",
         "opacity": 0.14249578414839797,
         "type": "scattergeo"
        },
        {
         "lat": [
          37.80889393398715,
          37.80889393398715
         ],
         "line": {
          "color": "rgb(6,78,64)",
          "width": 1
         },
         "lon": [
          -122.25646018981931,
          -122.25646018981931
         ],
         "mode": "lines",
         "opacity": 0.14207419898819562,
         "type": "scattergeo"
        },
        {
         "lat": [
          37.8013189,
          37.8088479
         ],
         "line": {
          "color": "rgb(6,78,64)",
          "width": 1
         },
         "lon": [
          -122.26264180000001,
          -122.2496799
         ],
         "mode": "lines",
         "opacity": 0.1399662731871838,
         "type": "scattergeo"
        },
        {
         "lat": [
          37.82840997305853,
          37.8312769
         ],
         "line": {
          "color": "rgb(6,78,64)",
          "width": 1
         },
         "lon": [
          -122.26631462574002,
          -122.2782669
         ],
         "mode": "lines",
         "opacity": 0.13659359190556492,
         "type": "scattergeo"
        },
        {
         "lat": [
          37.8002135669698,
          37.8045623549303
         ],
         "line": {
          "color": "rgb(6,78,64)",
          "width": 1
         },
         "lon": [
          -122.25381016731262,
          -122.27173805236816
         ],
         "mode": "lines",
         "opacity": 0.1357504215851602,
         "type": "scattergeo"
        },
        {
         "lat": [
          37.82840997305853,
          37.8403643
         ],
         "line": {
          "color": "rgb(6,78,64)",
          "width": 1
         },
         "lon": [
          -122.26631462574002,
          -122.2644881
         ],
         "mode": "lines",
         "opacity": 0.13532883642495785,
         "type": "scattergeo"
        },
        {
         "lat": [
          37.8332786,
          37.82840997305853
         ],
         "line": {
          "color": "rgb(6,78,64)",
          "width": 1
         },
         "lon": [
          -122.2634901,
          -122.26631462574002
         ],
         "mode": "lines",
         "opacity": 0.13406408094435077,
         "type": "scattergeo"
        },
        {
         "lat": [
          37.81231409135146,
          37.8045623549303
         ],
         "line": {
          "color": "rgb(6,78,64)",
          "width": 1
         },
         "lon": [
          -122.26077854633331,
          -122.27173805236816
         ],
         "mode": "lines",
         "opacity": 0.13237774030354132,
         "type": "scattergeo"
        },
        {
         "lat": [
          37.8312769,
          37.82840997305853
         ],
         "line": {
          "color": "rgb(6,78,64)",
          "width": 1
         },
         "lon": [
          -122.2782669,
          -122.26631462574002
         ],
         "mode": "lines",
         "opacity": 0.13237774030354132,
         "type": "scattergeo"
        },
        {
         "lat": [
          37.80889393398715,
          37.8045623549303
         ],
         "line": {
          "color": "rgb(6,78,64)",
          "width": 1
         },
         "lon": [
          -122.25646018981931,
          -122.27173805236816
         ],
         "mode": "lines",
         "opacity": 0.1302698145025295,
         "type": "scattergeo"
        },
        {
         "lat": [
          37.8002135669698,
          37.8002135669698
         ],
         "line": {
          "color": "rgb(6,78,64)",
          "width": 1
         },
         "lon": [
          -122.25381016731262,
          -122.25381016731262
         ],
         "mode": "lines",
         "opacity": 0.1281618887015177,
         "type": "scattergeo"
        },
        {
         "lat": [
          37.8524766,
          37.8426295
         ],
         "line": {
          "color": "rgb(6,78,64)",
          "width": 1
         },
         "lon": [
          -122.27021319999999,
          -122.26773799999998
         ],
         "mode": "lines",
         "opacity": 0.12563237774030353,
         "type": "scattergeo"
        },
        {
         "lat": [
          37.81231409135146,
          37.8088479
         ],
         "line": {
          "color": "rgb(6,78,64)",
          "width": 1
         },
         "lon": [
          -122.26077854633331,
          -122.2496799
         ],
         "mode": "lines",
         "opacity": 0.12521079258010118,
         "type": "scattergeo"
        },
        {
         "lat": [
          37.8524766,
          37.8559558
         ],
         "line": {
          "color": "rgb(6,78,64)",
          "width": 1
         },
         "lon": [
          -122.2702132,
          -122.25979490000002
         ],
         "mode": "lines",
         "opacity": 0.12478920741989882,
         "type": "scattergeo"
        },
        {
         "lat": [
          37.80889393398715,
          37.8088479
         ],
         "line": {
          "color": "rgb(6,78,64)",
          "width": 1
         },
         "lon": [
          -122.25646018981931,
          -122.24967989999999
         ],
         "mode": "lines",
         "opacity": 0.12141652613827993,
         "type": "scattergeo"
        },
        {
         "lat": [
          37.8266962,
          37.82840997305853
         ],
         "line": {
          "color": "rgb(6,78,64)",
          "width": 1
         },
         "lon": [
          -122.27179549999998,
          -122.26631462574002
         ],
         "mode": "lines",
         "opacity": 0.12099494097807757,
         "type": "scattergeo"
        },
        {
         "lat": [
          37.8072393,
          37.8053183
         ],
         "line": {
          "color": "rgb(6,78,64)",
          "width": 1
         },
         "lon": [
          -122.2893702,
          -122.2948365
         ],
         "mode": "lines",
         "opacity": 0.12015177065767285,
         "type": "scattergeo"
        },
        {
         "lat": [
          37.8113768,
          37.8110807
         ],
         "line": {
          "color": "rgb(6,78,64)",
          "width": 1
         },
         "lon": [
          -122.2651925,
          -122.24326770000002
         ],
         "mode": "lines",
         "opacity": 0.11973018549747048,
         "type": "scattergeo"
        },
        {
         "lat": [
          37.8693603,
          37.8559558
         ],
         "line": {
          "color": "rgb(6,78,64)",
          "width": 1
         },
         "lon": [
          -122.25433740000001,
          -122.25979489999999
         ],
         "mode": "lines",
         "opacity": 0.11888701517706576,
         "type": "scattergeo"
        },
        {
         "lat": [
          37.8297046,
          37.8297046
         ],
         "line": {
          "color": "rgb(6,78,64)",
          "width": 1
         },
         "lon": [
          -122.28761020000002,
          -122.28761020000002
         ],
         "mode": "lines",
         "opacity": 0.11762225969645869,
         "type": "scattergeo"
        },
        {
         "lat": [
          37.82840997305853,
          37.8426295
         ],
         "line": {
          "color": "rgb(6,78,64)",
          "width": 1
         },
         "lon": [
          -122.26631462574002,
          -122.267738
         ],
         "mode": "lines",
         "opacity": 0.1163575042158516,
         "type": "scattergeo"
        },
        {
         "lat": [
          37.8426295,
          37.8524766
         ],
         "line": {
          "color": "rgb(6,78,64)",
          "width": 1
         },
         "lon": [
          -122.267738,
          -122.27021319999999
         ],
         "mode": "lines",
         "opacity": 0.1163575042158516,
         "type": "scattergeo"
        },
        {
         "lat": [
          37.82840997305853,
          37.8266962
         ],
         "line": {
          "color": "rgb(6,78,64)",
          "width": 1
         },
         "lon": [
          -122.26631462574002,
          -122.2717955
         ],
         "mode": "lines",
         "opacity": 0.11509274873524451,
         "type": "scattergeo"
        },
        {
         "lat": [
          37.8002135669698,
          37.8013189
         ],
         "line": {
          "color": "rgb(6,78,64)",
          "width": 1
         },
         "lon": [
          -122.25381016731262,
          -122.26264180000001
         ],
         "mode": "lines",
         "opacity": 0.11424957841483979,
         "type": "scattergeo"
        },
        {
         "lat": [
          37.8703477,
          37.8660431
         ],
         "line": {
          "color": "rgb(6,78,64)",
          "width": 1
         },
         "lon": [
          -122.26776369999999,
          -122.2588044
         ],
         "mode": "lines",
         "opacity": 0.11424957841483979,
         "type": "scattergeo"
        },
        {
         "lat": [
          37.8693603,
          37.8584732
         ],
         "line": {
          "color": "rgb(6,78,64)",
          "width": 1
         },
         "lon": [
          -122.2543374,
          -122.2532529
         ],
         "mode": "lines",
         "opacity": 0.11298482293423272,
         "type": "scattergeo"
        },
        {
         "hoverinfo": "text",
         "lat": [
          37.7976728,
          37.7958125,
          37.8090126,
          37.8002135669698,
          37.8238474,
          37.8266962,
          37.8332935222321,
          37.8359455,
          37.8401858,
          37.8312769,
          37.8524766,
          37.8693603,
          37.8688126,
          37.81231409135146,
          37.8193814,
          37.8277573,
          37.8123315,
          37.8426295,
          37.8703477,
          37.8088479,
          37.8045623549303,
          37.8396488,
          37.80889393398715,
          37.8127441,
          37.8113768,
          37.8660431,
          37.8297046,
          37.7973195,
          37.8110807,
          37.8013189,
          37.82840997305853,
          37.8233214,
          37.8249311,
          37.8403643,
          37.8332786,
          37.8087021,
          37.8126783,
          37.816073115011406,
          37.85022187449679,
          37.85595579999999,
          37.8072393,
          37.7958125,
          37.8090126,
          37.8266962,
          37.8332935222321,
          37.8359455,
          37.8467842,
          37.8693603,
          37.8426295,
          37.8677892,
          37.8396488,
          37.80889393398715,
          37.8127441,
          37.8660431,
          37.7973195,
          37.8013189,
          37.82840997305853,
          37.8233214,
          37.8624644,
          37.8584732,
          37.8332786,
          37.8087021,
          37.8126783,
          37.8559558,
          37.8053183
         ],
         "lon": [
          -122.2629973,
          -122.25555490000002,
          -122.26824729999998,
          -122.25381016731262,
          -122.2811926,
          -122.27179549999998,
          -122.25622415542605,
          -122.26236629999998,
          -122.26182250000001,
          -122.2782669,
          -122.2702132,
          -122.25433740000001,
          -122.258764,
          -122.26077854633331,
          -122.2619284,
          -122.2567156,
          -122.2851712,
          -122.267738,
          -122.2677637,
          -122.2496799,
          -122.27173805236816,
          -122.2717561,
          -122.25646018981931,
          -122.24721520000001,
          -122.2651925,
          -122.25880439999999,
          -122.28761020000002,
          -122.26531989999998,
          -122.2432677,
          -122.2626418,
          -122.26631462574002,
          -122.27573250000002,
          -122.2604787,
          -122.2644881,
          -122.2634901,
          -122.26992709999999,
          -122.2687726,
          -122.26788640022278,
          -122.26017236709596,
          -122.2597949,
          -122.2893702,
          -122.2555549,
          -122.26824730000001,
          -122.2717955,
          -122.25622415542604,
          -122.26236630000001,
          -122.2913761,
          -122.2543374,
          -122.26773799999998,
          -122.2658964,
          -122.27175610000002,
          -122.2564601898193,
          -122.2472152,
          -122.2588044,
          -122.2653199,
          -122.26264180000001,
          -122.26631462574004,
          -122.2757325,
          -122.26479109999998,
          -122.2532529,
          -122.26349010000001,
          -122.2699271,
          -122.26877259999999,
          -122.2597949,
          -122.29483650000002
         ],
         "marker": {
          "color": "rgb(53, 94, 59)",
          "line": {
           "color": "rgba(68, 68, 68, 0)",
           "width": 3
          },
          "opacity": 0.8,
          "size": 2
         },
         "mode": "markers",
         "text": [
          "10th St at Fallon St",
          "12th St at 4th Ave",
          "19th Street BART Station",
          "2nd Ave at E 18th St",
          "32nd St at Adeline St",
          "37th St at West St",
          "45th St at Manila",
          "49th St at Telegraph Ave",
          "55th St at Telegraph Ave",
          "Adeline St at 40th St",
          "Ashby BART Station",
          "Bancroft Way at College Ave",
          "Bancroft Way at Telegraph Ave",
          "Bay Pl at Vernon St",
          "Broadway at 30th St",
          "Broadway at 40th St",
          "DeFremery Park",
          "Dover St at 57th St",
          "Downtown Berkeley BART",
          "El Embarcadero at Grand Ave",
          "Frank H Ogawa Plaza",
          "Genoa St at 55th St",
          "Grand Ave at Perkins St",
          "Grand Ave at Santa Clara Ave",
          "Grand Ave at Webster St",
          "Haste St at Telegraph Ave",
          "Horton St at 40th St",
          "Lake Merritt BART Station",
          "Lakeshore Ave at Trestle Glen Rd",
          "Lakeside Dr at 14th St",
          "MacArthur BART Station",
          "Market St at Brockhurst St",
          "Mosswood Park",
          "Shattuck Ave at 55th Ave",
          "Shattuck Ave at Telegraph Ave",
          "Telegraph Ave at 19th St",
          "Telegraph Ave at 23rd St",
          "Telegraph Ave at 27th St",
          "Telegraph Ave at Alcatraz Ave",
          "Telegraph Ave at Ashby Ave",
          "Union St at 10th St",
          "12th St at 4th Ave",
          "19th Street BART Station",
          "37th St at West St",
          "45th St at Manila",
          "49th St at Telegraph Ave",
          "65th St at Hollis St",
          "Bancroft Way at College Ave",
          "Dover St at 57th St",
          "Fulton St at Bancroft Way",
          "Genoa St at 55th St",
          "Grand Ave at Perkins St",
          "Grand Ave at Santa Clara Ave",
          "Haste St at Telegraph Ave",
          "Lake Merritt BART Station",
          "Lakeside Dr at 14th St",
          "MacArthur BART Station",
          "Market St at Brockhurst St",
          "Parker St at Fulton St",
          "Russell St at College Ave",
          "Shattuck Ave at Telegraph Ave",
          "Telegraph Ave at 19th St",
          "Telegraph Ave at 23rd St",
          "Telegraph Ave at Ashby Ave",
          "West Oakland BART Station"
         ],
         "type": "scattergeo"
        }
       ],
       "layout": {
        "geo": {
         "coastlinewidth": 2,
         "countrycolor": "rgb(204, 204, 204)",
         "lakecolor": "rgb(255, 255, 255)",
         "landcolor": "rgb(204, 204, 204)",
         "lataxis": {
          "dtick": 10,
          "range": [
           37.7858125,
           37.8803477
          ],
          "showgrid": true
         },
         "lonaxis": {
          "dtick": 20,
          "range": [
           -122.30483650000002,
           -122.2332677
          ],
          "showgrid": true
         },
         "projection": {
          "type": "equirectangular"
         },
         "resolution": 50,
         "showlakes": true,
         "showland": true
        },
        "showlegend": false,
        "template": {
         "data": {
          "bar": [
           {
            "error_x": {
             "color": "#2a3f5f"
            },
            "error_y": {
             "color": "#2a3f5f"
            },
            "marker": {
             "line": {
              "color": "#E5ECF6",
              "width": 0.5
             },
             "pattern": {
              "fillmode": "overlay",
              "size": 10,
              "solidity": 0.2
             }
            },
            "type": "bar"
           }
          ],
          "barpolar": [
           {
            "marker": {
             "line": {
              "color": "#E5ECF6",
              "width": 0.5
             },
             "pattern": {
              "fillmode": "overlay",
              "size": 10,
              "solidity": 0.2
             }
            },
            "type": "barpolar"
           }
          ],
          "carpet": [
           {
            "aaxis": {
             "endlinecolor": "#2a3f5f",
             "gridcolor": "white",
             "linecolor": "white",
             "minorgridcolor": "white",
             "startlinecolor": "#2a3f5f"
            },
            "baxis": {
             "endlinecolor": "#2a3f5f",
             "gridcolor": "white",
             "linecolor": "white",
             "minorgridcolor": "white",
             "startlinecolor": "#2a3f5f"
            },
            "type": "carpet"
           }
          ],
          "choropleth": [
           {
            "colorbar": {
             "outlinewidth": 0,
             "ticks": ""
            },
            "type": "choropleth"
           }
          ],
          "contour": [
           {
            "colorbar": {
             "outlinewidth": 0,
             "ticks": ""
            },
            "colorscale": [
             [
              0,
              "#0d0887"
             ],
             [
              0.1111111111111111,
              "#46039f"
             ],
             [
              0.2222222222222222,
              "#7201a8"
             ],
             [
              0.3333333333333333,
              "#9c179e"
             ],
             [
              0.4444444444444444,
              "#bd3786"
             ],
             [
              0.5555555555555556,
              "#d8576b"
             ],
             [
              0.6666666666666666,
              "#ed7953"
             ],
             [
              0.7777777777777778,
              "#fb9f3a"
             ],
             [
              0.8888888888888888,
              "#fdca26"
             ],
             [
              1,
              "#f0f921"
             ]
            ],
            "type": "contour"
           }
          ],
          "contourcarpet": [
           {
            "colorbar": {
             "outlinewidth": 0,
             "ticks": ""
            },
            "type": "contourcarpet"
           }
          ],
          "heatmap": [
           {
            "colorbar": {
             "outlinewidth": 0,
             "ticks": ""
            },
            "colorscale": [
             [
              0,
              "#0d0887"
             ],
             [
              0.1111111111111111,
              "#46039f"
             ],
             [
              0.2222222222222222,
              "#7201a8"
             ],
             [
              0.3333333333333333,
              "#9c179e"
             ],
             [
              0.4444444444444444,
              "#bd3786"
             ],
             [
              0.5555555555555556,
              "#d8576b"
             ],
             [
              0.6666666666666666,
              "#ed7953"
             ],
             [
              0.7777777777777778,
              "#fb9f3a"
             ],
             [
              0.8888888888888888,
              "#fdca26"
             ],
             [
              1,
              "#f0f921"
             ]
            ],
            "type": "heatmap"
           }
          ],
          "heatmapgl": [
           {
            "colorbar": {
             "outlinewidth": 0,
             "ticks": ""
            },
            "colorscale": [
             [
              0,
              "#0d0887"
             ],
             [
              0.1111111111111111,
              "#46039f"
             ],
             [
              0.2222222222222222,
              "#7201a8"
             ],
             [
              0.3333333333333333,
              "#9c179e"
             ],
             [
              0.4444444444444444,
              "#bd3786"
             ],
             [
              0.5555555555555556,
              "#d8576b"
             ],
             [
              0.6666666666666666,
              "#ed7953"
             ],
             [
              0.7777777777777778,
              "#fb9f3a"
             ],
             [
              0.8888888888888888,
              "#fdca26"
             ],
             [
              1,
              "#f0f921"
             ]
            ],
            "type": "heatmapgl"
           }
          ],
          "histogram": [
           {
            "marker": {
             "pattern": {
              "fillmode": "overlay",
              "size": 10,
              "solidity": 0.2
             }
            },
            "type": "histogram"
           }
          ],
          "histogram2d": [
           {
            "colorbar": {
             "outlinewidth": 0,
             "ticks": ""
            },
            "colorscale": [
             [
              0,
              "#0d0887"
             ],
             [
              0.1111111111111111,
              "#46039f"
             ],
             [
              0.2222222222222222,
              "#7201a8"
             ],
             [
              0.3333333333333333,
              "#9c179e"
             ],
             [
              0.4444444444444444,
              "#bd3786"
             ],
             [
              0.5555555555555556,
              "#d8576b"
             ],
             [
              0.6666666666666666,
              "#ed7953"
             ],
             [
              0.7777777777777778,
              "#fb9f3a"
             ],
             [
              0.8888888888888888,
              "#fdca26"
             ],
             [
              1,
              "#f0f921"
             ]
            ],
            "type": "histogram2d"
           }
          ],
          "histogram2dcontour": [
           {
            "colorbar": {
             "outlinewidth": 0,
             "ticks": ""
            },
            "colorscale": [
             [
              0,
              "#0d0887"
             ],
             [
              0.1111111111111111,
              "#46039f"
             ],
             [
              0.2222222222222222,
              "#7201a8"
             ],
             [
              0.3333333333333333,
              "#9c179e"
             ],
             [
              0.4444444444444444,
              "#bd3786"
             ],
             [
              0.5555555555555556,
              "#d8576b"
             ],
             [
              0.6666666666666666,
              "#ed7953"
             ],
             [
              0.7777777777777778,
              "#fb9f3a"
             ],
             [
              0.8888888888888888,
              "#fdca26"
             ],
             [
              1,
              "#f0f921"
             ]
            ],
            "type": "histogram2dcontour"
           }
          ],
          "mesh3d": [
           {
            "colorbar": {
             "outlinewidth": 0,
             "ticks": ""
            },
            "type": "mesh3d"
           }
          ],
          "parcoords": [
           {
            "line": {
             "colorbar": {
              "outlinewidth": 0,
              "ticks": ""
             }
            },
            "type": "parcoords"
           }
          ],
          "pie": [
           {
            "automargin": true,
            "type": "pie"
           }
          ],
          "scatter": [
           {
            "marker": {
             "colorbar": {
              "outlinewidth": 0,
              "ticks": ""
             }
            },
            "type": "scatter"
           }
          ],
          "scatter3d": [
           {
            "line": {
             "colorbar": {
              "outlinewidth": 0,
              "ticks": ""
             }
            },
            "marker": {
             "colorbar": {
              "outlinewidth": 0,
              "ticks": ""
             }
            },
            "type": "scatter3d"
           }
          ],
          "scattercarpet": [
           {
            "marker": {
             "colorbar": {
              "outlinewidth": 0,
              "ticks": ""
             }
            },
            "type": "scattercarpet"
           }
          ],
          "scattergeo": [
           {
            "marker": {
             "colorbar": {
              "outlinewidth": 0,
              "ticks": ""
             }
            },
            "type": "scattergeo"
           }
          ],
          "scattergl": [
           {
            "marker": {
             "colorbar": {
              "outlinewidth": 0,
              "ticks": ""
             }
            },
            "type": "scattergl"
           }
          ],
          "scattermapbox": [
           {
            "marker": {
             "colorbar": {
              "outlinewidth": 0,
              "ticks": ""
             }
            },
            "type": "scattermapbox"
           }
          ],
          "scatterpolar": [
           {
            "marker": {
             "colorbar": {
              "outlinewidth": 0,
              "ticks": ""
             }
            },
            "type": "scatterpolar"
           }
          ],
          "scatterpolargl": [
           {
            "marker": {
             "colorbar": {
              "outlinewidth": 0,
              "ticks": ""
             }
            },
            "type": "scatterpolargl"
           }
          ],
          "scatterternary": [
           {
            "marker": {
             "colorbar": {
              "outlinewidth": 0,
              "ticks": ""
             }
            },
            "type": "scatterternary"
           }
          ],
          "surface": [
           {
            "colorbar": {
             "outlinewidth": 0,
             "ticks": ""
            },
            "colorscale": [
             [
              0,
              "#0d0887"
             ],
             [
              0.1111111111111111,
              "#46039f"
             ],
             [
              0.2222222222222222,
              "#7201a8"
             ],
             [
              0.3333333333333333,
              "#9c179e"
             ],
             [
              0.4444444444444444,
              "#bd3786"
             ],
             [
              0.5555555555555556,
              "#d8576b"
             ],
             [
              0.6666666666666666,
              "#ed7953"
             ],
             [
              0.7777777777777778,
              "#fb9f3a"
             ],
             [
              0.8888888888888888,
              "#fdca26"
             ],
             [
              1,
              "#f0f921"
             ]
            ],
            "type": "surface"
           }
          ],
          "table": [
           {
            "cells": {
             "fill": {
              "color": "#EBF0F8"
             },
             "line": {
              "color": "white"
             }
            },
            "header": {
             "fill": {
              "color": "#C8D4E3"
             },
             "line": {
              "color": "white"
             }
            },
            "type": "table"
           }
          ]
         },
         "layout": {
          "annotationdefaults": {
           "arrowcolor": "#2a3f5f",
           "arrowhead": 0,
           "arrowwidth": 1
          },
          "autotypenumbers": "strict",
          "coloraxis": {
           "colorbar": {
            "outlinewidth": 0,
            "ticks": ""
           }
          },
          "colorscale": {
           "diverging": [
            [
             0,
             "#8e0152"
            ],
            [
             0.1,
             "#c51b7d"
            ],
            [
             0.2,
             "#de77ae"
            ],
            [
             0.3,
             "#f1b6da"
            ],
            [
             0.4,
             "#fde0ef"
            ],
            [
             0.5,
             "#f7f7f7"
            ],
            [
             0.6,
             "#e6f5d0"
            ],
            [
             0.7,
             "#b8e186"
            ],
            [
             0.8,
             "#7fbc41"
            ],
            [
             0.9,
             "#4d9221"
            ],
            [
             1,
             "#276419"
            ]
           ],
           "sequential": [
            [
             0,
             "#0d0887"
            ],
            [
             0.1111111111111111,
             "#46039f"
            ],
            [
             0.2222222222222222,
             "#7201a8"
            ],
            [
             0.3333333333333333,
             "#9c179e"
            ],
            [
             0.4444444444444444,
             "#bd3786"
            ],
            [
             0.5555555555555556,
             "#d8576b"
            ],
            [
             0.6666666666666666,
             "#ed7953"
            ],
            [
             0.7777777777777778,
             "#fb9f3a"
            ],
            [
             0.8888888888888888,
             "#fdca26"
            ],
            [
             1,
             "#f0f921"
            ]
           ],
           "sequentialminus": [
            [
             0,
             "#0d0887"
            ],
            [
             0.1111111111111111,
             "#46039f"
            ],
            [
             0.2222222222222222,
             "#7201a8"
            ],
            [
             0.3333333333333333,
             "#9c179e"
            ],
            [
             0.4444444444444444,
             "#bd3786"
            ],
            [
             0.5555555555555556,
             "#d8576b"
            ],
            [
             0.6666666666666666,
             "#ed7953"
            ],
            [
             0.7777777777777778,
             "#fb9f3a"
            ],
            [
             0.8888888888888888,
             "#fdca26"
            ],
            [
             1,
             "#f0f921"
            ]
           ]
          },
          "colorway": [
           "#636efa",
           "#EF553B",
           "#00cc96",
           "#ab63fa",
           "#FFA15A",
           "#19d3f3",
           "#FF6692",
           "#B6E880",
           "#FF97FF",
           "#FECB52"
          ],
          "font": {
           "color": "#2a3f5f"
          },
          "geo": {
           "bgcolor": "white",
           "lakecolor": "white",
           "landcolor": "#E5ECF6",
           "showlakes": true,
           "showland": true,
           "subunitcolor": "white"
          },
          "hoverlabel": {
           "align": "left"
          },
          "hovermode": "closest",
          "mapbox": {
           "style": "light"
          },
          "paper_bgcolor": "white",
          "plot_bgcolor": "#E5ECF6",
          "polar": {
           "angularaxis": {
            "gridcolor": "white",
            "linecolor": "white",
            "ticks": ""
           },
           "bgcolor": "#E5ECF6",
           "radialaxis": {
            "gridcolor": "white",
            "linecolor": "white",
            "ticks": ""
           }
          },
          "scene": {
           "xaxis": {
            "backgroundcolor": "#E5ECF6",
            "gridcolor": "white",
            "gridwidth": 2,
            "linecolor": "white",
            "showbackground": true,
            "ticks": "",
            "zerolinecolor": "white"
           },
           "yaxis": {
            "backgroundcolor": "#E5ECF6",
            "gridcolor": "white",
            "gridwidth": 2,
            "linecolor": "white",
            "showbackground": true,
            "ticks": "",
            "zerolinecolor": "white"
           },
           "zaxis": {
            "backgroundcolor": "#E5ECF6",
            "gridcolor": "white",
            "gridwidth": 2,
            "linecolor": "white",
            "showbackground": true,
            "ticks": "",
            "zerolinecolor": "white"
           }
          },
          "shapedefaults": {
           "line": {
            "color": "#2a3f5f"
           }
          },
          "ternary": {
           "aaxis": {
            "gridcolor": "white",
            "linecolor": "white",
            "ticks": ""
           },
           "baxis": {
            "gridcolor": "white",
            "linecolor": "white",
            "ticks": ""
           },
           "bgcolor": "#E5ECF6",
           "caxis": {
            "gridcolor": "white",
            "linecolor": "white",
            "ticks": ""
           }
          },
          "title": {
           "x": 0.05
          },
          "xaxis": {
           "automargin": true,
           "gridcolor": "white",
           "linecolor": "white",
           "ticks": "",
           "title": {
            "standoff": 15
           },
           "zerolinecolor": "white",
           "zerolinewidth": 2
          },
          "yaxis": {
           "automargin": true,
           "gridcolor": "white",
           "linecolor": "white",
           "ticks": "",
           "title": {
            "standoff": 15
           },
           "zerolinecolor": "white",
           "zerolinewidth": 2
          }
         }
        },
        "title": {
         "text": "Top 100 trips done in Oakland during 2016 May - 2018 Apr (Hover to see station names)"
        }
       }
      }
     },
     "metadata": {},
     "output_type": "display_data"
    }
   ],
   "source": [
    "visualise_trip(oakland, oakland_stations, 'Oakland')\n"
   ]
  },
  {
   "cell_type": "code",
   "execution_count": 24,
   "metadata": {},
   "outputs": [
    {
     "name": "stderr",
     "output_type": "stream",
     "text": [
      "c:\\Users\\WingyanYip\\anaconda3\\lib\\site-packages\\modin\\error_message.py:64: UserWarning:\n",
      "\n",
      "sort_values defaulting to pandas implementation.\n",
      "\n"
     ]
    }
   ],
   "source": [
    "# San Francisco\n",
    "\n",
    "sf= find_pts(37.78,37.74,-122.44,-122.39)\n",
    "\n",
    "sf = sf.sort_values('cnt_trip', ascending=False).head(100)\n",
    "\n",
    "sf_stations = unique_station(sf)"
   ]
  },
  {
   "cell_type": "code",
   "execution_count": 25,
   "metadata": {},
   "outputs": [
    {
     "data": {
      "application/vnd.plotly.v1+json": {
       "config": {
        "linkText": "Export to plot.ly",
        "plotlyServerURL": "https://plot.ly",
        "showLink": false
       },
       "data": [
        {
         "lat": [
          37.77588,
          37.795392
         ],
         "line": {
          "color": "rgb(6,78,64)",
          "width": 1
         },
         "lon": [
          -122.39317,
          -122.394203
         ],
         "mode": "lines",
         "opacity": 1,
         "type": "scattergeo"
        },
        {
         "lat": [
          37.776619,
          37.7766392
         ],
         "line": {
          "color": "rgb(6,78,64)",
          "width": 1
         },
         "lon": [
          -122.417385,
          -122.3955263
         ],
         "mode": "lines",
         "opacity": 0.6654581410678971,
         "type": "scattergeo"
        },
        {
         "lat": [
          37.771058,
          37.7766392
         ],
         "line": {
          "color": "rgb(6,78,64)",
          "width": 1
         },
         "lon": [
          -122.402717,
          -122.39552629999999
         ],
         "mode": "lines",
         "opacity": 0.545484508899143,
         "type": "scattergeo"
        },
        {
         "lat": [
          37.776619,
          37.78637526861584
         ],
         "line": {
          "color": "rgb(6,78,64)",
          "width": 1
         },
         "lon": [
          -122.41738499999998,
          -122.40490436553954
         ],
         "mode": "lines",
         "opacity": 0.5075807514831905,
         "type": "scattergeo"
        },
        {
         "lat": [
          37.77874161153677,
          37.795392
         ],
         "line": {
          "color": "rgb(6,78,64)",
          "width": 1
         },
         "lon": [
          -122.39274082710834,
          -122.394203
         ],
         "mode": "lines",
         "opacity": 0.5,
         "type": "scattergeo"
        },
        {
         "lat": [
          37.776598,
          37.795392
         ],
         "line": {
          "color": "rgb(6,78,64)",
          "width": 1
         },
         "lon": [
          -122.395282,
          -122.394203
         ],
         "mode": "lines",
         "opacity": 0.4090309822017139,
         "type": "scattergeo"
        },
        {
         "lat": [
          37.776619,
          37.7896254
         ],
         "line": {
          "color": "rgb(6,78,64)",
          "width": 1
         },
         "lon": [
          -122.417385,
          -122.40081100000002
         ],
         "mode": "lines",
         "opacity": 0.4077125906394199,
         "type": "scattergeo"
        },
        {
         "lat": [
          37.7766392,
          37.781752
         ],
         "line": {
          "color": "rgb(6,78,64)",
          "width": 1
         },
         "lon": [
          -122.3955263,
          -122.405127
         ],
         "mode": "lines",
         "opacity": 0.35497692814765985,
         "type": "scattergeo"
        },
        {
         "lat": [
          37.77588,
          37.79413
         ],
         "line": {
          "color": "rgb(6,78,64)",
          "width": 1
         },
         "lon": [
          -122.39317,
          -122.39443
         ],
         "mode": "lines",
         "opacity": 0.35135135135135137,
         "type": "scattergeo"
        },
        {
         "lat": [
          37.7766392,
          37.771058
         ],
         "line": {
          "color": "rgb(6,78,64)",
          "width": 1
         },
         "lon": [
          -122.3955263,
          -122.402717
         ],
         "mode": "lines",
         "opacity": 0.34970336189848383,
         "type": "scattergeo"
        },
        {
         "lat": [
          37.776598,
          37.787521780456245
         ],
         "line": {
          "color": "rgb(6,78,64)",
          "width": 1
         },
         "lon": [
          -122.395282,
          -122.39740490913393
         ],
         "mode": "lines",
         "opacity": 0.34904416611733685,
         "type": "scattergeo"
        },
        {
         "lat": [
          37.776619,
          37.78389935708493
         ],
         "line": {
          "color": "rgb(6,78,64)",
          "width": 1
         },
         "lon": [
          -122.417385,
          -122.4084448814392
         ],
         "mode": "lines",
         "opacity": 0.34014502307185235,
         "type": "scattergeo"
        },
        {
         "lat": [
          37.77588,
          37.791464
         ],
         "line": {
          "color": "rgb(6,78,64)",
          "width": 1
         },
         "lon": [
          -122.39317,
          -122.391034
         ],
         "mode": "lines",
         "opacity": 0.33421226104152935,
         "type": "scattergeo"
        },
        {
         "lat": [
          37.77874161153677,
          37.7896254
         ],
         "line": {
          "color": "rgb(6,78,64)",
          "width": 1
         },
         "lon": [
          -122.39274082710836,
          -122.400811
         ],
         "mode": "lines",
         "opacity": 0.3216875411997363,
         "type": "scattergeo"
        },
        {
         "lat": [
          37.7766392,
          37.776619
         ],
         "line": {
          "color": "rgb(6,78,64)",
          "width": 1
         },
         "lon": [
          -122.3955263,
          -122.417385
         ],
         "mode": "lines",
         "opacity": 0.32135794330916284,
         "type": "scattergeo"
        },
        {
         "lat": [
          37.776598,
          37.791464
         ],
         "line": {
          "color": "rgb(6,78,64)",
          "width": 1
         },
         "lon": [
          -122.395282,
          -122.391034
         ],
         "mode": "lines",
         "opacity": 0.3197099538562953,
         "type": "scattergeo"
        },
        {
         "lat": [
          37.7704074,
          37.795392
         ],
         "line": {
          "color": "rgb(6,78,64)",
          "width": 1
         },
         "lon": [
          -122.3911984,
          -122.394203
         ],
         "mode": "lines",
         "opacity": 0.3190507580751483,
         "type": "scattergeo"
        },
        {
         "lat": [
          37.771058,
          37.7810737
         ],
         "line": {
          "color": "rgb(6,78,64)",
          "width": 1
         },
         "lon": [
          -122.402717,
          -122.4117382
         ],
         "mode": "lines",
         "opacity": 0.31839156229400134,
         "type": "scattergeo"
        },
        {
         "lat": [
          37.776598,
          37.789756
         ],
         "line": {
          "color": "rgb(6,78,64)",
          "width": 1
         },
         "lon": [
          -122.395282,
          -122.394643
         ],
         "mode": "lines",
         "opacity": 0.31344759393539884,
         "type": "scattergeo"
        },
        {
         "lat": [
          37.776639200000005,
          37.795392
         ],
         "line": {
          "color": "rgb(6,78,64)",
          "width": 1
         },
         "lon": [
          -122.3955263,
          -122.394203
         ],
         "mode": "lines",
         "opacity": 0.3131179960448253,
         "type": "scattergeo"
        },
        {
         "lat": [
          37.7766392,
          37.7896254
         ],
         "line": {
          "color": "rgb(6,78,64)",
          "width": 1
         },
         "lon": [
          -122.3955263,
          -122.400811
         ],
         "mode": "lines",
         "opacity": 0.3048780487804878,
         "type": "scattergeo"
        },
        {
         "lat": [
          37.778767699999996,
          37.771058
         ],
         "line": {
          "color": "rgb(6,78,64)",
          "width": 1
         },
         "lon": [
          -122.4159292,
          -122.402717
         ],
         "mode": "lines",
         "opacity": 0.2913645352669743,
         "type": "scattergeo"
        },
        {
         "lat": [
          37.7704074,
          37.77588
         ],
         "line": {
          "color": "rgb(6,78,64)",
          "width": 1
         },
         "lon": [
          -122.3911984,
          -122.39317
         ],
         "mode": "lines",
         "opacity": 0.2880685563612393,
         "type": "scattergeo"
        },
        {
         "lat": [
          37.77588,
          37.80477
         ],
         "line": {
          "color": "rgb(6,78,64)",
          "width": 1
         },
         "lon": [
          -122.39317,
          -122.403234
         ],
         "mode": "lines",
         "opacity": 0.2857613711272248,
         "type": "scattergeo"
        },
        {
         "lat": [
          37.77588,
          37.7704074
         ],
         "line": {
          "color": "rgb(6,78,64)",
          "width": 1
         },
         "lon": [
          -122.39317,
          -122.3911984
         ],
         "mode": "lines",
         "opacity": 0.2831245880026368,
         "type": "scattergeo"
        },
        {
         "lat": [
          37.776598,
          37.7896254
         ],
         "line": {
          "color": "rgb(6,78,64)",
          "width": 1
         },
         "lon": [
          -122.39528200000001,
          -122.400811
         ],
         "mode": "lines",
         "opacity": 0.27653263019116675,
         "type": "scattergeo"
        },
        {
         "lat": [
          37.7734919,
          37.7810737
         ],
         "line": {
          "color": "rgb(6,78,64)",
          "width": 1
         },
         "lon": [
          -122.4036725,
          -122.4117382
         ],
         "mode": "lines",
         "opacity": 0.27191825972313777,
         "type": "scattergeo"
        },
        {
         "lat": [
          37.77588,
          37.789756
         ],
         "line": {
          "color": "rgb(6,78,64)",
          "width": 1
         },
         "lon": [
          -122.39317,
          -122.394643
         ],
         "mode": "lines",
         "opacity": 0.2584047462096243,
         "type": "scattergeo"
        },
        {
         "lat": [
          37.774814,
          37.7766392
         ],
         "line": {
          "color": "rgb(6,78,64)",
          "width": 1
         },
         "lon": [
          -122.41895400000001,
          -122.39552629999999
         ],
         "mode": "lines",
         "opacity": 0.25807514831905076,
         "type": "scattergeo"
        },
        {
         "lat": [
          37.776598,
          37.792251
         ],
         "line": {
          "color": "rgb(6,78,64)",
          "width": 1
         },
         "lon": [
          -122.39528200000001,
          -122.39708599999999
         ],
         "mode": "lines",
         "opacity": 0.25379037574159524,
         "type": "scattergeo"
        },
        {
         "lat": [
          37.77588,
          37.7896254
         ],
         "line": {
          "color": "rgb(6,78,64)",
          "width": 1
         },
         "lon": [
          -122.39317,
          -122.400811
         ],
         "mode": "lines",
         "opacity": 0.24719841793012526,
         "type": "scattergeo"
        },
        {
         "lat": [
          37.776598,
          37.795001
         ],
         "line": {
          "color": "rgb(6,78,64)",
          "width": 1
         },
         "lon": [
          -122.395282,
          -122.39997
         ],
         "mode": "lines",
         "opacity": 0.24291364535266974,
         "type": "scattergeo"
        },
        {
         "lat": [
          37.7766392,
          37.791464
         ],
         "line": {
          "color": "rgb(6,78,64)",
          "width": 1
         },
         "lon": [
          -122.3955263,
          -122.391034
         ],
         "mode": "lines",
         "opacity": 0.24027686222808173,
         "type": "scattergeo"
        },
        {
         "lat": [
          37.776598,
          37.79728
         ],
         "line": {
          "color": "rgb(6,78,64)",
          "width": 1
         },
         "lon": [
          -122.395282,
          -122.39843599999999
         ],
         "mode": "lines",
         "opacity": 0.23862887277521425,
         "type": "scattergeo"
        },
        {
         "lat": [
          37.7766392,
          37.789756
         ],
         "line": {
          "color": "rgb(6,78,64)",
          "width": 1
         },
         "lon": [
          -122.3955263,
          -122.394643
         ],
         "mode": "lines",
         "opacity": 0.23829927488464073,
         "type": "scattergeo"
        },
        {
         "lat": [
          37.7735069,
          37.7766392
         ],
         "line": {
          "color": "rgb(6,78,64)",
          "width": 1
         },
         "lon": [
          -122.4160402,
          -122.3955263
         ],
         "mode": "lines",
         "opacity": 0.23236651285431772,
         "type": "scattergeo"
        },
        {
         "lat": [
          37.771058,
          37.795392
         ],
         "line": {
          "color": "rgb(6,78,64)",
          "width": 1
         },
         "lon": [
          -122.40271699999998,
          -122.394203
         ],
         "mode": "lines",
         "opacity": 0.23137771918259722,
         "type": "scattergeo"
        },
        {
         "lat": [
          37.776598,
          37.80477
         ],
         "line": {
          "color": "rgb(6,78,64)",
          "width": 1
         },
         "lon": [
          -122.395282,
          -122.40323399999998
         ],
         "mode": "lines",
         "opacity": 0.22972972972972974,
         "type": "scattergeo"
        },
        {
         "lat": [
          37.776598,
          37.771058
         ],
         "line": {
          "color": "rgb(6,78,64)",
          "width": 1
         },
         "lon": [
          -122.395282,
          -122.402717
         ],
         "mode": "lines",
         "opacity": 0.22116018457481873,
         "type": "scattergeo"
        },
        {
         "lat": [
          37.776598,
          37.781752
         ],
         "line": {
          "color": "rgb(6,78,64)",
          "width": 1
         },
         "lon": [
          -122.395282,
          -122.405127
         ],
         "mode": "lines",
         "opacity": 0.21951219512195122,
         "type": "scattergeo"
        },
        {
         "lat": [
          37.7766392,
          37.787521780456245
         ],
         "line": {
          "color": "rgb(6,78,64)",
          "width": 1
         },
         "lon": [
          -122.39552629999999,
          -122.39740490913394
         ],
         "mode": "lines",
         "opacity": 0.21357943309162822,
         "type": "scattergeo"
        },
        {
         "lat": [
          37.7693053,
          37.776619
         ],
         "line": {
          "color": "rgb(6,78,64)",
          "width": 1
         },
         "lon": [
          -122.4268256,
          -122.417385
         ],
         "mode": "lines",
         "opacity": 0.2109426499670402,
         "type": "scattergeo"
        },
        {
         "lat": [
          37.776598,
          37.7880593
         ],
         "line": {
          "color": "rgb(6,78,64)",
          "width": 1
         },
         "lon": [
          -122.395282,
          -122.39186479999998
         ],
         "mode": "lines",
         "opacity": 0.20962425840474622,
         "type": "scattergeo"
        },
        {
         "lat": [
          37.776598,
          37.788975
         ],
         "line": {
          "color": "rgb(6,78,64)",
          "width": 1
         },
         "lon": [
          -122.39528200000001,
          -122.403452
         ],
         "mode": "lines",
         "opacity": 0.2063282794990112,
         "type": "scattergeo"
        },
        {
         "lat": [
          37.7704074,
          37.79413
         ],
         "line": {
          "color": "rgb(6,78,64)",
          "width": 1
         },
         "lon": [
          -122.3911984,
          -122.39443
         ],
         "mode": "lines",
         "opacity": 0.20369149637442321,
         "type": "scattergeo"
        },
        {
         "lat": [
          37.7766392,
          37.78637526861584
         ],
         "line": {
          "color": "rgb(6,78,64)",
          "width": 1
         },
         "lon": [
          -122.3955263,
          -122.40490436553952
         ],
         "mode": "lines",
         "opacity": 0.2033618984838497,
         "type": "scattergeo"
        },
        {
         "lat": [
          37.77588,
          37.7896767
         ],
         "line": {
          "color": "rgb(6,78,64)",
          "width": 1
         },
         "lon": [
          -122.39317,
          -122.3904285
         ],
         "mode": "lines",
         "opacity": 0.1954515491100857,
         "type": "scattergeo"
        },
        {
         "lat": [
          37.7436839,
          37.7524278
         ],
         "line": {
          "color": "rgb(6,78,64)",
          "width": 1
         },
         "lon": [
          -122.4268059,
          -122.4206278
         ],
         "mode": "lines",
         "opacity": 0.1934739617666447,
         "type": "scattergeo"
        },
        {
         "lat": [
          37.77452040113685,
          37.7766392
         ],
         "line": {
          "color": "rgb(6,78,64)",
          "width": 1
         },
         "lon": [
          -122.40944936871531,
          -122.3955263
         ],
         "mode": "lines",
         "opacity": 0.1931443638760712,
         "type": "scattergeo"
        },
        {
         "lat": [
          37.7767539,
          37.78389935708493
         ],
         "line": {
          "color": "rgb(6,78,64)",
          "width": 1
         },
         "lon": [
          -122.3990176,
          -122.40844488143918
         ],
         "mode": "lines",
         "opacity": 0.1931443638760712,
         "type": "scattergeo"
        },
        {
         "lat": [
          37.77588,
          37.7880593
         ],
         "line": {
          "color": "rgb(6,78,64)",
          "width": 1
         },
         "lon": [
          -122.39317,
          -122.3918648
         ],
         "mode": "lines",
         "opacity": 0.1921555702043507,
         "type": "scattergeo"
        },
        {
         "lat": [
          37.776619,
          37.7810737
         ],
         "line": {
          "color": "rgb(6,78,64)",
          "width": 1
         },
         "lon": [
          -122.417385,
          -122.4117382
         ],
         "mode": "lines",
         "opacity": 0.1911667765326302,
         "type": "scattergeo"
        },
        {
         "lat": [
          37.77874161153677,
          37.77874161153677
         ],
         "line": {
          "color": "rgb(6,78,64)",
          "width": 1
         },
         "lon": [
          -122.39274082710836,
          -122.39274082710836
         ],
         "mode": "lines",
         "opacity": 0.1901779828609097,
         "type": "scattergeo"
        },
        {
         "lat": [
          37.776598,
          37.7896767
         ],
         "line": {
          "color": "rgb(6,78,64)",
          "width": 1
         },
         "lon": [
          -122.39528199999998,
          -122.39042850000001
         ],
         "mode": "lines",
         "opacity": 0.1852340145023072,
         "type": "scattergeo"
        },
        {
         "lat": [
          37.7766392,
          37.79728
         ],
         "line": {
          "color": "rgb(6,78,64)",
          "width": 1
         },
         "lon": [
          -122.39552630000001,
          -122.39843599999999
         ],
         "mode": "lines",
         "opacity": 0.1835860250494397,
         "type": "scattergeo"
        },
        {
         "lat": [
          37.7524278,
          37.7436839
         ],
         "line": {
          "color": "rgb(6,78,64)",
          "width": 1
         },
         "lon": [
          -122.42062779999999,
          -122.4268059
         ],
         "mode": "lines",
         "opacity": 0.18127883981542517,
         "type": "scattergeo"
        },
        {
         "lat": [
          37.77874161153677,
          37.789756
         ],
         "line": {
          "color": "rgb(6,78,64)",
          "width": 1
         },
         "lon": [
          -122.39274082710836,
          -122.39464299999999
         ],
         "mode": "lines",
         "opacity": 0.1796308503625577,
         "type": "scattergeo"
        },
        {
         "lat": [
          37.77874161153677,
          37.79413
         ],
         "line": {
          "color": "rgb(6,78,64)",
          "width": 1
         },
         "lon": [
          -122.39274082710836,
          -122.39442999999999
         ],
         "mode": "lines",
         "opacity": 0.17897165458141068,
         "type": "scattergeo"
        },
        {
         "lat": [
          37.776598,
          37.79857210846256
         ],
         "line": {
          "color": "rgb(6,78,64)",
          "width": 1
         },
         "lon": [
          -122.39528199999998,
          -122.40086898207667
         ],
         "mode": "lines",
         "opacity": 0.17897165458141068,
         "type": "scattergeo"
        },
        {
         "lat": [
          37.7440667,
          37.7524278
         ],
         "line": {
          "color": "rgb(6,78,64)",
          "width": 1
         },
         "lon": [
          -122.4214722,
          -122.4206278
         ],
         "mode": "lines",
         "opacity": 0.16908371786420567,
         "type": "scattergeo"
        },
        {
         "lat": [
          37.776598,
          37.79413
         ],
         "line": {
          "color": "rgb(6,78,64)",
          "width": 1
         },
         "lon": [
          -122.395282,
          -122.39443
         ],
         "mode": "lines",
         "opacity": 0.16809492419248517,
         "type": "scattergeo"
        },
        {
         "lat": [
          37.77588,
          37.79728
         ],
         "line": {
          "color": "rgb(6,78,64)",
          "width": 1
         },
         "lon": [
          -122.39317,
          -122.398436
         ],
         "mode": "lines",
         "opacity": 0.16677653263019115,
         "type": "scattergeo"
        },
        {
         "lat": [
          37.771058,
          37.774814
         ],
         "line": {
          "color": "rgb(6,78,64)",
          "width": 1
         },
         "lon": [
          -122.402717,
          -122.418954
         ],
         "mode": "lines",
         "opacity": 0.16677653263019115,
         "type": "scattergeo"
        },
        {
         "lat": [
          37.776598,
          37.794231
         ],
         "line": {
          "color": "rgb(6,78,64)",
          "width": 1
         },
         "lon": [
          -122.395282,
          -122.402923
         ],
         "mode": "lines",
         "opacity": 0.16644693473961766,
         "type": "scattergeo"
        },
        {
         "lat": [
          37.76921786152374,
          37.7766392
         ],
         "line": {
          "color": "rgb(6,78,64)",
          "width": 1
         },
         "lon": [
          -122.40764558315276,
          -122.3955263
         ],
         "mode": "lines",
         "opacity": 0.16479894528675015,
         "type": "scattergeo"
        },
        {
         "lat": [
          37.7734919,
          37.7766392
         ],
         "line": {
          "color": "rgb(6,78,64)",
          "width": 1
         },
         "lon": [
          -122.4036725,
          -122.3955263
         ],
         "mode": "lines",
         "opacity": 0.16446934739617666,
         "type": "scattergeo"
        },
        {
         "lat": [
          37.765052,
          37.77166246221617
         ],
         "line": {
          "color": "rgb(6,78,64)",
          "width": 1
         },
         "lon": [
          -122.4218661,
          -122.42242321372034
         ],
         "mode": "lines",
         "opacity": 0.16413974950560317,
         "type": "scattergeo"
        },
        {
         "lat": [
          37.776619,
          37.771058
         ],
         "line": {
          "color": "rgb(6,78,64)",
          "width": 1
         },
         "lon": [
          -122.417385,
          -122.402717
         ],
         "mode": "lines",
         "opacity": 0.16051417270929466,
         "type": "scattergeo"
        },
        {
         "lat": [
          37.7704074,
          37.7880593
         ],
         "line": {
          "color": "rgb(6,78,64)",
          "width": 1
         },
         "lon": [
          -122.3911984,
          -122.3918648
         ],
         "mode": "lines",
         "opacity": 0.15820698747528017,
         "type": "scattergeo"
        },
        {
         "lat": [
          37.774814,
          37.771058
         ],
         "line": {
          "color": "rgb(6,78,64)",
          "width": 1
         },
         "lon": [
          -122.418954,
          -122.402717
         ],
         "mode": "lines",
         "opacity": 0.15721819380355967,
         "type": "scattergeo"
        },
        {
         "lat": [
          37.776639200000005,
          37.795001
         ],
         "line": {
          "color": "rgb(6,78,64)",
          "width": 1
         },
         "lon": [
          -122.3955263,
          -122.39997
         ],
         "mode": "lines",
         "opacity": 0.15458141067897166,
         "type": "scattergeo"
        },
        {
         "lat": [
          37.750506,
          37.75242779999999
         ],
         "line": {
          "color": "rgb(6,78,64)",
          "width": 1
         },
         "lon": [
          -122.4339496,
          -122.4206278
         ],
         "mode": "lines",
         "opacity": 0.15392221489782465,
         "type": "scattergeo"
        },
        {
         "lat": [
          37.7616343,
          37.77588
         ],
         "line": {
          "color": "rgb(6,78,64)",
          "width": 1
         },
         "lon": [
          -122.3906477,
          -122.39317
         ],
         "mode": "lines",
         "opacity": 0.15392221489782465,
         "type": "scattergeo"
        },
        {
         "lat": [
          37.7753058,
          37.771058
         ],
         "line": {
          "color": "rgb(6,78,64)",
          "width": 1
         },
         "lon": [
          -122.39738000000001,
          -122.402717
         ],
         "mode": "lines",
         "opacity": 0.14930784442979564,
         "type": "scattergeo"
        },
        {
         "lat": [
          37.765052,
          37.776619
         ],
         "line": {
          "color": "rgb(6,78,64)",
          "width": 1
         },
         "lon": [
          -122.42186610000002,
          -122.417385
         ],
         "mode": "lines",
         "opacity": 0.14831905075807514,
         "type": "scattergeo"
        },
        {
         "lat": [
          37.771058,
          37.776619
         ],
         "line": {
          "color": "rgb(6,78,64)",
          "width": 1
         },
         "lon": [
          -122.402717,
          -122.417385
         ],
         "mode": "lines",
         "opacity": 0.14798945286750165,
         "type": "scattergeo"
        },
        {
         "lat": [
          37.776619,
          37.795392
         ],
         "line": {
          "color": "rgb(6,78,64)",
          "width": 1
         },
         "lon": [
          -122.417385,
          -122.394203
         ],
         "mode": "lines",
         "opacity": 0.14634146341463414,
         "type": "scattergeo"
        },
        {
         "lat": [
          37.7524278,
          37.7567083
         ],
         "line": {
          "color": "rgb(6,78,64)",
          "width": 1
         },
         "lon": [
          -122.4206278,
          -122.421025
         ],
         "mode": "lines",
         "opacity": 0.14469347396176666,
         "type": "scattergeo"
        },
        {
         "lat": [
          37.77588,
          37.799953
         ],
         "line": {
          "color": "rgb(6,78,64)",
          "width": 1
         },
         "lon": [
          -122.39317,
          -122.398525
         ],
         "mode": "lines",
         "opacity": 0.14271588661832565,
         "type": "scattergeo"
        },
        {
         "lat": [
          37.7518194,
          37.7524278
         ],
         "line": {
          "color": "rgb(6,78,64)",
          "width": 1
         },
         "lon": [
          -122.4266139,
          -122.42062780000002
         ],
         "mode": "lines",
         "opacity": 0.14238628872775214,
         "type": "scattergeo"
        },
        {
         "lat": [
          37.7633158,
          37.776619
         ],
         "line": {
          "color": "rgb(6,78,64)",
          "width": 1
         },
         "lon": [
          -122.4219039,
          -122.417385
         ],
         "mode": "lines",
         "opacity": 0.14172709294660515,
         "type": "scattergeo"
        },
        {
         "lat": [
          37.7700298,
          37.7766392
         ],
         "line": {
          "color": "rgb(6,78,64)",
          "width": 1
         },
         "lon": [
          -122.41172580000001,
          -122.3955263
         ],
         "mode": "lines",
         "opacity": 0.14106789716545814,
         "type": "scattergeo"
        },
        {
         "lat": [
          37.7765126,
          37.7766392
         ],
         "line": {
          "color": "rgb(6,78,64)",
          "width": 1
         },
         "lon": [
          -122.4113061,
          -122.3955263
         ],
         "mode": "lines",
         "opacity": 0.14040870138431114,
         "type": "scattergeo"
        },
        {
         "lat": [
          37.77166246221617,
          37.78389935708493
         ],
         "line": {
          "color": "rgb(6,78,64)",
          "width": 1
         },
         "lon": [
          -122.42242321372034,
          -122.4084448814392
         ],
         "mode": "lines",
         "opacity": 0.14007910349373764,
         "type": "scattergeo"
        },
        {
         "lat": [
          37.77588,
          37.78389935708493
         ],
         "line": {
          "color": "rgb(6,78,64)",
          "width": 1
         },
         "lon": [
          -122.39317,
          -122.4084448814392
         ],
         "mode": "lines",
         "opacity": 0.13941990771259063,
         "type": "scattergeo"
        },
        {
         "lat": [
          37.776619,
          37.788975
         ],
         "line": {
          "color": "rgb(6,78,64)",
          "width": 1
         },
         "lon": [
          -122.417385,
          -122.403452
         ],
         "mode": "lines",
         "opacity": 0.13810151615029664,
         "type": "scattergeo"
        },
        {
         "lat": [
          37.77166246221617,
          37.765052
         ],
         "line": {
          "color": "rgb(6,78,64)",
          "width": 1
         },
         "lon": [
          -122.42242321372034,
          -122.42186609999999
         ],
         "mode": "lines",
         "opacity": 0.13678312458800262,
         "type": "scattergeo"
        },
        {
         "lat": [
          37.77166246221617,
          37.776619
         ],
         "line": {
          "color": "rgb(6,78,64)",
          "width": 1
         },
         "lon": [
          -122.42242321372034,
          -122.417385
         ],
         "mode": "lines",
         "opacity": 0.13612392880685564,
         "type": "scattergeo"
        },
        {
         "lat": [
          37.776598,
          37.78389935708493
         ],
         "line": {
          "color": "rgb(6,78,64)",
          "width": 1
         },
         "lon": [
          -122.395282,
          -122.4084448814392
         ],
         "mode": "lines",
         "opacity": 0.13546473302570863,
         "type": "scattergeo"
        },
        {
         "lat": [
          37.77588,
          37.7616343
         ],
         "line": {
          "color": "rgb(6,78,64)",
          "width": 1
         },
         "lon": [
          -122.39317,
          -122.3906477
         ],
         "mode": "lines",
         "opacity": 0.13513513513513514,
         "type": "scattergeo"
        },
        {
         "lat": [
          37.776434819204745,
          37.7787677
         ],
         "line": {
          "color": "rgb(6,78,64)",
          "width": 1
         },
         "lon": [
          -122.42624402046204,
          -122.4159292
         ],
         "mode": "lines",
         "opacity": 0.13447593935398813,
         "type": "scattergeo"
        },
        {
         "lat": [
          37.7766392,
          37.7734919
         ],
         "line": {
          "color": "rgb(6,78,64)",
          "width": 1
         },
         "lon": [
          -122.39552630000001,
          -122.4036725
         ],
         "mode": "lines",
         "opacity": 0.13414634146341464,
         "type": "scattergeo"
        },
        {
         "lat": [
          37.7787677,
          37.776434819204745
         ],
         "line": {
          "color": "rgb(6,78,64)",
          "width": 1
         },
         "lon": [
          -122.4159292,
          -122.42624402046204
         ],
         "mode": "lines",
         "opacity": 0.13414634146341464,
         "type": "scattergeo"
        },
        {
         "lat": [
          37.7766392,
          37.788975
         ],
         "line": {
          "color": "rgb(6,78,64)",
          "width": 1
         },
         "lon": [
          -122.3955263,
          -122.403452
         ],
         "mode": "lines",
         "opacity": 0.13117996044825314,
         "type": "scattergeo"
        },
        {
         "lat": [
          37.771058,
          37.776598
         ],
         "line": {
          "color": "rgb(6,78,64)",
          "width": 1
         },
         "lon": [
          -122.402717,
          -122.395282
         ],
         "mode": "lines",
         "opacity": 0.13117996044825314,
         "type": "scattergeo"
        },
        {
         "lat": [
          37.776619,
          37.78383
         ],
         "line": {
          "color": "rgb(6,78,64)",
          "width": 1
         },
         "lon": [
          -122.41738499999998,
          -122.39887
         ],
         "mode": "lines",
         "opacity": 0.13052076466710613,
         "type": "scattergeo"
        },
        {
         "lat": [
          37.7766392,
          37.78499972833808
         ],
         "line": {
          "color": "rgb(6,78,64)",
          "width": 1
         },
         "lon": [
          -122.39552629999999,
          -122.39593561749642
         ],
         "mode": "lines",
         "opacity": 0.12755438365194463,
         "type": "scattergeo"
        },
        {
         "lat": [
          37.77588,
          37.795001
         ],
         "line": {
          "color": "rgb(6,78,64)",
          "width": 1
         },
         "lon": [
          -122.39316999999998,
          -122.39997
         ],
         "mode": "lines",
         "opacity": 0.12623599208965064,
         "type": "scattergeo"
        },
        {
         "lat": [
          37.77779057034257,
          37.7766392
         ],
         "line": {
          "color": "rgb(6,78,64)",
          "width": 1
         },
         "lon": [
          -122.40643188357352,
          -122.39552630000001
         ],
         "mode": "lines",
         "opacity": 0.12557679630850363,
         "type": "scattergeo"
        },
        {
         "lat": [
          37.77588,
          37.77588
         ],
         "line": {
          "color": "rgb(6,78,64)",
          "width": 1
         },
         "lon": [
          -122.39317,
          -122.39317
         ],
         "mode": "lines",
         "opacity": 0.12557679630850363,
         "type": "scattergeo"
        },
        {
         "hoverinfo": "text",
         "lat": [
          37.7700298,
          37.7735069,
          37.7633158,
          37.7518194,
          37.7436839,
          37.7440667,
          37.77874161153677,
          37.7704074,
          37.7767539,
          37.7734919,
          37.77452040113685,
          37.77588,
          37.76921786152374,
          37.7616343,
          37.7765126,
          37.750506,
          37.776434819204745,
          37.776619,
          37.7693053,
          37.77166246221617,
          37.774814,
          37.776598,
          37.7766392,
          37.7787677,
          37.7753058,
          37.771058,
          37.765052,
          37.7524278,
          37.77779057034257,
          37.78499972833808,
          37.781752,
          37.7880593,
          37.79857210846256,
          37.7810737,
          37.795001,
          37.794231,
          37.79728,
          37.792251,
          37.78383,
          37.787521780456245,
          37.789756,
          37.776619,
          37.7896254,
          37.788975,
          37.78637526861584,
          37.78389935708493,
          37.774814,
          37.776598,
          37.795392,
          37.7896767,
          37.79413,
          37.80477,
          37.791464,
          37.799953,
          37.765052,
          37.7567083
         ],
         "lon": [
          -122.41172580000001,
          -122.4160402,
          -122.4219039,
          -122.4266139,
          -122.4268059,
          -122.4214722,
          -122.39274082710836,
          -122.3911984,
          -122.3990176,
          -122.4036725,
          -122.40944936871531,
          -122.39317,
          -122.40764558315276,
          -122.3906477,
          -122.4113061,
          -122.4339496,
          -122.42624402046204,
          -122.417385,
          -122.4268256,
          -122.42242321372034,
          -122.41895400000001,
          -122.39528200000001,
          -122.3955263,
          -122.4159292,
          -122.39738000000001,
          -122.402717,
          -122.42186610000002,
          -122.4206278,
          -122.40643188357352,
          -122.39593561749642,
          -122.405127,
          -122.3918648,
          -122.40086898207667,
          -122.4117382,
          -122.39997,
          -122.402923,
          -122.39843599999999,
          -122.39708599999999,
          -122.39887,
          -122.39740490913394,
          -122.394643,
          -122.41738500000001,
          -122.400811,
          -122.403452,
          -122.40490436553952,
          -122.40844488143918,
          -122.418954,
          -122.395282,
          -122.39420299999999,
          -122.39042850000001,
          -122.39443,
          -122.403234,
          -122.391034,
          -122.398525,
          -122.42186609999999,
          -122.421025
         ],
         "marker": {
          "color": "rgb(53, 94, 59)",
          "line": {
           "color": "rgba(68, 68, 68, 0)",
           "width": 3
          },
          "opacity": 0.8,
          "size": 2
         },
         "mode": "markers",
         "text": [
          "11th St at Bryant St",
          "11th St at Natoma St",
          "17th St at Valencia St",
          "24th St at Chattanooga St",
          "29th St at Church St",
          "29th St at Tiffany Ave",
          "3rd St at Townsend St",
          "4th St at Mission Bay Blvd S",
          "5th St at Brannan St",
          "7th St at Brannan St",
          "8th St at Ringold St",
          "Berry St at 4th St",
          "Division St at Potrero Ave",
          "Esprit Park",
          "Howard St at 8th St",
          "Jersey St at Castro St",
          "Laguna St at Hayes St",
          "Market St at 10th St",
          "Market St at Dolores St",
          "McCoppin St at Valencia St",
          "S Van Ness Ave at Market St",
          "San Francisco Caltrain (Townsend St at 4th St)",
          "San Francisco Caltrain Station 2  (Townsend St at 4th St)",
          "San Francisco Public Library (Grove St at Hyde St)",
          "Townsend St at 5th St",
          "Townsend St at 7th St",
          "Valencia St at 16th St",
          "Valencia St at 24th St",
          "Victoria Manalo Draves Park",
          "2nd St at Folsom St",
          "5th St at Howard St",
          "Beale St at Harrison St",
          "Broadway at Battery St",
          "Civic Center/UN Plaza BART Station (Market St at McAllister St)",
          "Clay St at Battery St",
          "Commercial St at Montgomery St",
          "Davis St at Jackson St",
          "Embarcadero BART Station (Beale St at Market St)",
          "Folsom St at 3rd St",
          "Howard St at 2nd St",
          "Howard St at Beale St",
          "Market St at 10th St",
          "Montgomery St BART Station (Market St at 2nd St)",
          "Post St at Kearny St",
          "Powell St BART Station (Market St at 4th St)",
          "Powell St BART Station (Market St at 5th St)",
          "S Van Ness Ave at Market St",
          "San Francisco Caltrain (Townsend St at 4th St)",
          "San Francisco Ferry Building (Harry Bridges Plaza)",
          "Spear St at Folsom St",
          "Steuart St at Market St",
          "The Embarcadero at Sansome St",
          "The Embarcadero at Steuart St",
          "The Embarcadero at Vallejo St",
          "Valencia St at 16th St",
          "Valencia St at 21st St"
         ],
         "type": "scattergeo"
        }
       ],
       "layout": {
        "geo": {
         "coastlinewidth": 2,
         "countrycolor": "rgb(204, 204, 204)",
         "lakecolor": "rgb(255, 255, 255)",
         "landcolor": "rgb(204, 204, 204)",
         "lataxis": {
          "dtick": 10,
          "range": [
           37.7336839,
           37.814769999999996
          ],
          "showgrid": true
         },
         "lonaxis": {
          "dtick": 20,
          "range": [
           -122.44394960000001,
           -122.38042850000001
          ],
          "showgrid": true
         },
         "projection": {
          "type": "equirectangular"
         },
         "resolution": 50,
         "showlakes": true,
         "showland": true
        },
        "showlegend": false,
        "template": {
         "data": {
          "bar": [
           {
            "error_x": {
             "color": "#2a3f5f"
            },
            "error_y": {
             "color": "#2a3f5f"
            },
            "marker": {
             "line": {
              "color": "#E5ECF6",
              "width": 0.5
             },
             "pattern": {
              "fillmode": "overlay",
              "size": 10,
              "solidity": 0.2
             }
            },
            "type": "bar"
           }
          ],
          "barpolar": [
           {
            "marker": {
             "line": {
              "color": "#E5ECF6",
              "width": 0.5
             },
             "pattern": {
              "fillmode": "overlay",
              "size": 10,
              "solidity": 0.2
             }
            },
            "type": "barpolar"
           }
          ],
          "carpet": [
           {
            "aaxis": {
             "endlinecolor": "#2a3f5f",
             "gridcolor": "white",
             "linecolor": "white",
             "minorgridcolor": "white",
             "startlinecolor": "#2a3f5f"
            },
            "baxis": {
             "endlinecolor": "#2a3f5f",
             "gridcolor": "white",
             "linecolor": "white",
             "minorgridcolor": "white",
             "startlinecolor": "#2a3f5f"
            },
            "type": "carpet"
           }
          ],
          "choropleth": [
           {
            "colorbar": {
             "outlinewidth": 0,
             "ticks": ""
            },
            "type": "choropleth"
           }
          ],
          "contour": [
           {
            "colorbar": {
             "outlinewidth": 0,
             "ticks": ""
            },
            "colorscale": [
             [
              0,
              "#0d0887"
             ],
             [
              0.1111111111111111,
              "#46039f"
             ],
             [
              0.2222222222222222,
              "#7201a8"
             ],
             [
              0.3333333333333333,
              "#9c179e"
             ],
             [
              0.4444444444444444,
              "#bd3786"
             ],
             [
              0.5555555555555556,
              "#d8576b"
             ],
             [
              0.6666666666666666,
              "#ed7953"
             ],
             [
              0.7777777777777778,
              "#fb9f3a"
             ],
             [
              0.8888888888888888,
              "#fdca26"
             ],
             [
              1,
              "#f0f921"
             ]
            ],
            "type": "contour"
           }
          ],
          "contourcarpet": [
           {
            "colorbar": {
             "outlinewidth": 0,
             "ticks": ""
            },
            "type": "contourcarpet"
           }
          ],
          "heatmap": [
           {
            "colorbar": {
             "outlinewidth": 0,
             "ticks": ""
            },
            "colorscale": [
             [
              0,
              "#0d0887"
             ],
             [
              0.1111111111111111,
              "#46039f"
             ],
             [
              0.2222222222222222,
              "#7201a8"
             ],
             [
              0.3333333333333333,
              "#9c179e"
             ],
             [
              0.4444444444444444,
              "#bd3786"
             ],
             [
              0.5555555555555556,
              "#d8576b"
             ],
             [
              0.6666666666666666,
              "#ed7953"
             ],
             [
              0.7777777777777778,
              "#fb9f3a"
             ],
             [
              0.8888888888888888,
              "#fdca26"
             ],
             [
              1,
              "#f0f921"
             ]
            ],
            "type": "heatmap"
           }
          ],
          "heatmapgl": [
           {
            "colorbar": {
             "outlinewidth": 0,
             "ticks": ""
            },
            "colorscale": [
             [
              0,
              "#0d0887"
             ],
             [
              0.1111111111111111,
              "#46039f"
             ],
             [
              0.2222222222222222,
              "#7201a8"
             ],
             [
              0.3333333333333333,
              "#9c179e"
             ],
             [
              0.4444444444444444,
              "#bd3786"
             ],
             [
              0.5555555555555556,
              "#d8576b"
             ],
             [
              0.6666666666666666,
              "#ed7953"
             ],
             [
              0.7777777777777778,
              "#fb9f3a"
             ],
             [
              0.8888888888888888,
              "#fdca26"
             ],
             [
              1,
              "#f0f921"
             ]
            ],
            "type": "heatmapgl"
           }
          ],
          "histogram": [
           {
            "marker": {
             "pattern": {
              "fillmode": "overlay",
              "size": 10,
              "solidity": 0.2
             }
            },
            "type": "histogram"
           }
          ],
          "histogram2d": [
           {
            "colorbar": {
             "outlinewidth": 0,
             "ticks": ""
            },
            "colorscale": [
             [
              0,
              "#0d0887"
             ],
             [
              0.1111111111111111,
              "#46039f"
             ],
             [
              0.2222222222222222,
              "#7201a8"
             ],
             [
              0.3333333333333333,
              "#9c179e"
             ],
             [
              0.4444444444444444,
              "#bd3786"
             ],
             [
              0.5555555555555556,
              "#d8576b"
             ],
             [
              0.6666666666666666,
              "#ed7953"
             ],
             [
              0.7777777777777778,
              "#fb9f3a"
             ],
             [
              0.8888888888888888,
              "#fdca26"
             ],
             [
              1,
              "#f0f921"
             ]
            ],
            "type": "histogram2d"
           }
          ],
          "histogram2dcontour": [
           {
            "colorbar": {
             "outlinewidth": 0,
             "ticks": ""
            },
            "colorscale": [
             [
              0,
              "#0d0887"
             ],
             [
              0.1111111111111111,
              "#46039f"
             ],
             [
              0.2222222222222222,
              "#7201a8"
             ],
             [
              0.3333333333333333,
              "#9c179e"
             ],
             [
              0.4444444444444444,
              "#bd3786"
             ],
             [
              0.5555555555555556,
              "#d8576b"
             ],
             [
              0.6666666666666666,
              "#ed7953"
             ],
             [
              0.7777777777777778,
              "#fb9f3a"
             ],
             [
              0.8888888888888888,
              "#fdca26"
             ],
             [
              1,
              "#f0f921"
             ]
            ],
            "type": "histogram2dcontour"
           }
          ],
          "mesh3d": [
           {
            "colorbar": {
             "outlinewidth": 0,
             "ticks": ""
            },
            "type": "mesh3d"
           }
          ],
          "parcoords": [
           {
            "line": {
             "colorbar": {
              "outlinewidth": 0,
              "ticks": ""
             }
            },
            "type": "parcoords"
           }
          ],
          "pie": [
           {
            "automargin": true,
            "type": "pie"
           }
          ],
          "scatter": [
           {
            "marker": {
             "colorbar": {
              "outlinewidth": 0,
              "ticks": ""
             }
            },
            "type": "scatter"
           }
          ],
          "scatter3d": [
           {
            "line": {
             "colorbar": {
              "outlinewidth": 0,
              "ticks": ""
             }
            },
            "marker": {
             "colorbar": {
              "outlinewidth": 0,
              "ticks": ""
             }
            },
            "type": "scatter3d"
           }
          ],
          "scattercarpet": [
           {
            "marker": {
             "colorbar": {
              "outlinewidth": 0,
              "ticks": ""
             }
            },
            "type": "scattercarpet"
           }
          ],
          "scattergeo": [
           {
            "marker": {
             "colorbar": {
              "outlinewidth": 0,
              "ticks": ""
             }
            },
            "type": "scattergeo"
           }
          ],
          "scattergl": [
           {
            "marker": {
             "colorbar": {
              "outlinewidth": 0,
              "ticks": ""
             }
            },
            "type": "scattergl"
           }
          ],
          "scattermapbox": [
           {
            "marker": {
             "colorbar": {
              "outlinewidth": 0,
              "ticks": ""
             }
            },
            "type": "scattermapbox"
           }
          ],
          "scatterpolar": [
           {
            "marker": {
             "colorbar": {
              "outlinewidth": 0,
              "ticks": ""
             }
            },
            "type": "scatterpolar"
           }
          ],
          "scatterpolargl": [
           {
            "marker": {
             "colorbar": {
              "outlinewidth": 0,
              "ticks": ""
             }
            },
            "type": "scatterpolargl"
           }
          ],
          "scatterternary": [
           {
            "marker": {
             "colorbar": {
              "outlinewidth": 0,
              "ticks": ""
             }
            },
            "type": "scatterternary"
           }
          ],
          "surface": [
           {
            "colorbar": {
             "outlinewidth": 0,
             "ticks": ""
            },
            "colorscale": [
             [
              0,
              "#0d0887"
             ],
             [
              0.1111111111111111,
              "#46039f"
             ],
             [
              0.2222222222222222,
              "#7201a8"
             ],
             [
              0.3333333333333333,
              "#9c179e"
             ],
             [
              0.4444444444444444,
              "#bd3786"
             ],
             [
              0.5555555555555556,
              "#d8576b"
             ],
             [
              0.6666666666666666,
              "#ed7953"
             ],
             [
              0.7777777777777778,
              "#fb9f3a"
             ],
             [
              0.8888888888888888,
              "#fdca26"
             ],
             [
              1,
              "#f0f921"
             ]
            ],
            "type": "surface"
           }
          ],
          "table": [
           {
            "cells": {
             "fill": {
              "color": "#EBF0F8"
             },
             "line": {
              "color": "white"
             }
            },
            "header": {
             "fill": {
              "color": "#C8D4E3"
             },
             "line": {
              "color": "white"
             }
            },
            "type": "table"
           }
          ]
         },
         "layout": {
          "annotationdefaults": {
           "arrowcolor": "#2a3f5f",
           "arrowhead": 0,
           "arrowwidth": 1
          },
          "autotypenumbers": "strict",
          "coloraxis": {
           "colorbar": {
            "outlinewidth": 0,
            "ticks": ""
           }
          },
          "colorscale": {
           "diverging": [
            [
             0,
             "#8e0152"
            ],
            [
             0.1,
             "#c51b7d"
            ],
            [
             0.2,
             "#de77ae"
            ],
            [
             0.3,
             "#f1b6da"
            ],
            [
             0.4,
             "#fde0ef"
            ],
            [
             0.5,
             "#f7f7f7"
            ],
            [
             0.6,
             "#e6f5d0"
            ],
            [
             0.7,
             "#b8e186"
            ],
            [
             0.8,
             "#7fbc41"
            ],
            [
             0.9,
             "#4d9221"
            ],
            [
             1,
             "#276419"
            ]
           ],
           "sequential": [
            [
             0,
             "#0d0887"
            ],
            [
             0.1111111111111111,
             "#46039f"
            ],
            [
             0.2222222222222222,
             "#7201a8"
            ],
            [
             0.3333333333333333,
             "#9c179e"
            ],
            [
             0.4444444444444444,
             "#bd3786"
            ],
            [
             0.5555555555555556,
             "#d8576b"
            ],
            [
             0.6666666666666666,
             "#ed7953"
            ],
            [
             0.7777777777777778,
             "#fb9f3a"
            ],
            [
             0.8888888888888888,
             "#fdca26"
            ],
            [
             1,
             "#f0f921"
            ]
           ],
           "sequentialminus": [
            [
             0,
             "#0d0887"
            ],
            [
             0.1111111111111111,
             "#46039f"
            ],
            [
             0.2222222222222222,
             "#7201a8"
            ],
            [
             0.3333333333333333,
             "#9c179e"
            ],
            [
             0.4444444444444444,
             "#bd3786"
            ],
            [
             0.5555555555555556,
             "#d8576b"
            ],
            [
             0.6666666666666666,
             "#ed7953"
            ],
            [
             0.7777777777777778,
             "#fb9f3a"
            ],
            [
             0.8888888888888888,
             "#fdca26"
            ],
            [
             1,
             "#f0f921"
            ]
           ]
          },
          "colorway": [
           "#636efa",
           "#EF553B",
           "#00cc96",
           "#ab63fa",
           "#FFA15A",
           "#19d3f3",
           "#FF6692",
           "#B6E880",
           "#FF97FF",
           "#FECB52"
          ],
          "font": {
           "color": "#2a3f5f"
          },
          "geo": {
           "bgcolor": "white",
           "lakecolor": "white",
           "landcolor": "#E5ECF6",
           "showlakes": true,
           "showland": true,
           "subunitcolor": "white"
          },
          "hoverlabel": {
           "align": "left"
          },
          "hovermode": "closest",
          "mapbox": {
           "style": "light"
          },
          "paper_bgcolor": "white",
          "plot_bgcolor": "#E5ECF6",
          "polar": {
           "angularaxis": {
            "gridcolor": "white",
            "linecolor": "white",
            "ticks": ""
           },
           "bgcolor": "#E5ECF6",
           "radialaxis": {
            "gridcolor": "white",
            "linecolor": "white",
            "ticks": ""
           }
          },
          "scene": {
           "xaxis": {
            "backgroundcolor": "#E5ECF6",
            "gridcolor": "white",
            "gridwidth": 2,
            "linecolor": "white",
            "showbackground": true,
            "ticks": "",
            "zerolinecolor": "white"
           },
           "yaxis": {
            "backgroundcolor": "#E5ECF6",
            "gridcolor": "white",
            "gridwidth": 2,
            "linecolor": "white",
            "showbackground": true,
            "ticks": "",
            "zerolinecolor": "white"
           },
           "zaxis": {
            "backgroundcolor": "#E5ECF6",
            "gridcolor": "white",
            "gridwidth": 2,
            "linecolor": "white",
            "showbackground": true,
            "ticks": "",
            "zerolinecolor": "white"
           }
          },
          "shapedefaults": {
           "line": {
            "color": "#2a3f5f"
           }
          },
          "ternary": {
           "aaxis": {
            "gridcolor": "white",
            "linecolor": "white",
            "ticks": ""
           },
           "baxis": {
            "gridcolor": "white",
            "linecolor": "white",
            "ticks": ""
           },
           "bgcolor": "#E5ECF6",
           "caxis": {
            "gridcolor": "white",
            "linecolor": "white",
            "ticks": ""
           }
          },
          "title": {
           "x": 0.05
          },
          "xaxis": {
           "automargin": true,
           "gridcolor": "white",
           "linecolor": "white",
           "ticks": "",
           "title": {
            "standoff": 15
           },
           "zerolinecolor": "white",
           "zerolinewidth": 2
          },
          "yaxis": {
           "automargin": true,
           "gridcolor": "white",
           "linecolor": "white",
           "ticks": "",
           "title": {
            "standoff": 15
           },
           "zerolinecolor": "white",
           "zerolinewidth": 2
          }
         }
        },
        "title": {
         "text": "Top 100 trips done in San Francisco during 2016 May - 2018 Apr (Hover to see station names)"
        }
       }
      }
     },
     "metadata": {},
     "output_type": "display_data"
    }
   ],
   "source": [
    "visualise_trip(sf, sf_stations, 'San Francisco')"
   ]
  },
  {
   "cell_type": "code",
   "execution_count": 26,
   "metadata": {},
   "outputs": [
    {
     "name": "stderr",
     "output_type": "stream",
     "text": [
      "c:\\Users\\WingyanYip\\anaconda3\\lib\\site-packages\\modin\\error_message.py:64: UserWarning:\n",
      "\n",
      "sort_values defaulting to pandas implementation.\n",
      "\n"
     ]
    }
   ],
   "source": [
    "# San Jose\n",
    "\n",
    "sj= find_pts(37.36,37.31,-121.91,-121.87)\n",
    "\n",
    "sj = sj.sort_values('cnt_trip', ascending=False).head(100)\n",
    "\n",
    "sj_stations = unique_station(sj)"
   ]
  },
  {
   "cell_type": "code",
   "execution_count": 27,
   "metadata": {},
   "outputs": [
    {
     "data": {
      "application/vnd.plotly.v1+json": {
       "config": {
        "linkText": "Export to plot.ly",
        "plotlyServerURL": "https://plot.ly",
        "showLink": false
       },
       "data": [
        {
         "lat": [
          37.325998399999996,
          37.33724599999999
         ],
         "line": {
          "color": "rgb(6,78,64)",
          "width": 1
         },
         "lon": [
          -121.87712,
          -121.8830739
         ],
         "mode": "lines",
         "opacity": 1,
         "type": "scattergeo"
        },
        {
         "lat": [
          37.337246,
          37.3259984
         ],
         "line": {
          "color": "rgb(6,78,64)",
          "width": 1
         },
         "lon": [
          -121.8830739,
          -121.87712
         ],
         "mode": "lines",
         "opacity": 0.7126696832579186,
         "type": "scattergeo"
        },
        {
         "lat": [
          37.329732,
          37.335885
         ],
         "line": {
          "color": "rgb(6,78,64)",
          "width": 1
         },
         "lon": [
          -121.901782,
          -121.88566
         ],
         "mode": "lines",
         "opacity": 0.5395927601809954,
         "type": "scattergeo"
        },
        {
         "lat": [
          37.335885,
          37.342725
         ],
         "line": {
          "color": "rgb(6,78,64)",
          "width": 1
         },
         "lon": [
          -121.88566,
          -121.895617
         ],
         "mode": "lines",
         "opacity": 0.503393665158371,
         "type": "scattergeo"
        },
        {
         "lat": [
          37.342725,
          37.335885
         ],
         "line": {
          "color": "rgb(6,78,64)",
          "width": 1
         },
         "lon": [
          -121.895617,
          -121.88566
         ],
         "mode": "lines",
         "opacity": 0.4751131221719457,
         "type": "scattergeo"
        },
        {
         "lat": [
          37.333798,
          37.329732
         ],
         "line": {
          "color": "rgb(6,78,64)",
          "width": 1
         },
         "lon": [
          -121.88694300000002,
          -121.901782
         ],
         "mode": "lines",
         "opacity": 0.45248868778280543,
         "type": "scattergeo"
        },
        {
         "lat": [
          37.342725,
          37.337246
         ],
         "line": {
          "color": "rgb(6,78,64)",
          "width": 1
         },
         "lon": [
          -121.895617,
          -121.8830739
         ],
         "mode": "lines",
         "opacity": 0.44004524886877827,
         "type": "scattergeo"
        },
        {
         "lat": [
          37.329732,
          37.333988
         ],
         "line": {
          "color": "rgb(6,78,64)",
          "width": 1
         },
         "lon": [
          -121.901782,
          -121.894902
         ],
         "mode": "lines",
         "opacity": 0.4298642533936652,
         "type": "scattergeo"
        },
        {
         "lat": [
          37.337391,
          37.329732
         ],
         "line": {
          "color": "rgb(6,78,64)",
          "width": 1
         },
         "lon": [
          -121.88699500000001,
          -121.901782
         ],
         "mode": "lines",
         "opacity": 0.41968325791855204,
         "type": "scattergeo"
        },
        {
         "lat": [
          37.329732,
          37.333798
         ],
         "line": {
          "color": "rgb(6,78,64)",
          "width": 1
         },
         "lon": [
          -121.901782,
          -121.886943
         ],
         "mode": "lines",
         "opacity": 0.4083710407239819,
         "type": "scattergeo"
        },
        {
         "lat": [
          37.333988,
          37.329732
         ],
         "line": {
          "color": "rgb(6,78,64)",
          "width": 1
         },
         "lon": [
          -121.894902,
          -121.90178199999998
         ],
         "mode": "lines",
         "opacity": 0.39592760180995473,
         "type": "scattergeo"
        },
        {
         "lat": [
          37.3259984,
          37.333955
         ],
         "line": {
          "color": "rgb(6,78,64)",
          "width": 1
         },
         "lon": [
          -121.87712,
          -121.877349
         ],
         "mode": "lines",
         "opacity": 0.36538461538461536,
         "type": "scattergeo"
        },
        {
         "lat": [
          37.331415,
          37.329732
         ],
         "line": {
          "color": "rgb(6,78,64)",
          "width": 1
         },
         "lon": [
          -121.89320000000001,
          -121.90178199999998
         ],
         "mode": "lines",
         "opacity": 0.3563348416289593,
         "type": "scattergeo"
        },
        {
         "lat": [
          37.329732,
          37.331415
         ],
         "line": {
          "color": "rgb(6,78,64)",
          "width": 1
         },
         "lon": [
          -121.90178200000001,
          -121.89320000000001
         ],
         "mode": "lines",
         "opacity": 0.3438914027149321,
         "type": "scattergeo"
        },
        {
         "lat": [
          37.337246,
          37.342725
         ],
         "line": {
          "color": "rgb(6,78,64)",
          "width": 1
         },
         "lon": [
          -121.88307389999999,
          -121.89561700000002
         ],
         "mode": "lines",
         "opacity": 0.3269230769230769,
         "type": "scattergeo"
        },
        {
         "lat": [
          37.3259984,
          37.335885
         ],
         "line": {
          "color": "rgb(6,78,64)",
          "width": 1
         },
         "lon": [
          -121.87712,
          -121.88566
         ],
         "mode": "lines",
         "opacity": 0.3031674208144796,
         "type": "scattergeo"
        },
        {
         "lat": [
          37.335885,
          37.3259984
         ],
         "line": {
          "color": "rgb(6,78,64)",
          "width": 1
         },
         "lon": [
          -121.88566,
          -121.87712
         ],
         "mode": "lines",
         "opacity": 0.2839366515837104,
         "type": "scattergeo"
        },
        {
         "lat": [
          37.342725,
          37.329732
         ],
         "line": {
          "color": "rgb(6,78,64)",
          "width": 1
         },
         "lon": [
          -121.89561699999999,
          -121.901782
         ],
         "mode": "lines",
         "opacity": 0.2737556561085973,
         "type": "scattergeo"
        },
        {
         "lat": [
          37.333955,
          37.3259984
         ],
         "line": {
          "color": "rgb(6,78,64)",
          "width": 1
         },
         "lon": [
          -121.87734899999998,
          -121.87712
         ],
         "mode": "lines",
         "opacity": 0.252262443438914,
         "type": "scattergeo"
        },
        {
         "lat": [
          37.336802,
          37.329732
         ],
         "line": {
          "color": "rgb(6,78,64)",
          "width": 1
         },
         "lon": [
          -121.8940901,
          -121.90178200000001
         ],
         "mode": "lines",
         "opacity": 0.2420814479638009,
         "type": "scattergeo"
        },
        {
         "lat": [
          37.3413348,
          37.3413348
         ],
         "line": {
          "color": "rgb(6,78,64)",
          "width": 1
         },
         "lon": [
          -121.9031829,
          -121.9031829
         ],
         "mode": "lines",
         "opacity": 0.23868778280542988,
         "type": "scattergeo"
        },
        {
         "lat": [
          37.3319323,
          37.3322326
         ],
         "line": {
          "color": "rgb(6,78,64)",
          "width": 1
         },
         "lon": [
          -121.9048882,
          -121.9125165
         ],
         "mode": "lines",
         "opacity": 0.2341628959276018,
         "type": "scattergeo"
        },
        {
         "lat": [
          37.33283577967246,
          37.337391
         ],
         "line": {
          "color": "rgb(6,78,64)",
          "width": 1
         },
         "lon": [
          -121.88391208648682,
          -121.886995
         ],
         "mode": "lines",
         "opacity": 0.22850678733031674,
         "type": "scattergeo"
        },
        {
         "lat": [
          37.333955,
          37.342725
         ],
         "line": {
          "color": "rgb(6,78,64)",
          "width": 1
         },
         "lon": [
          -121.877349,
          -121.895617
         ],
         "mode": "lines",
         "opacity": 0.22624434389140272,
         "type": "scattergeo"
        },
        {
         "lat": [
          37.335885,
          37.333955
         ],
         "line": {
          "color": "rgb(6,78,64)",
          "width": 1
         },
         "lon": [
          -121.88566,
          -121.877349
         ],
         "mode": "lines",
         "opacity": 0.2251131221719457,
         "type": "scattergeo"
        },
        {
         "lat": [
          37.342725,
          37.333955
         ],
         "line": {
          "color": "rgb(6,78,64)",
          "width": 1
         },
         "lon": [
          -121.895617,
          -121.877349
         ],
         "mode": "lines",
         "opacity": 0.21832579185520362,
         "type": "scattergeo"
        },
        {
         "lat": [
          37.337391,
          37.33283577967246
         ],
         "line": {
          "color": "rgb(6,78,64)",
          "width": 1
         },
         "lon": [
          -121.886995,
          -121.88391208648682
         ],
         "mode": "lines",
         "opacity": 0.21832579185520362,
         "type": "scattergeo"
        },
        {
         "lat": [
          37.335885,
          37.329732
         ],
         "line": {
          "color": "rgb(6,78,64)",
          "width": 1
         },
         "lon": [
          -121.88566000000002,
          -121.901782
         ],
         "mode": "lines",
         "opacity": 0.21832579185520362,
         "type": "scattergeo"
        },
        {
         "lat": [
          37.335885,
          37.335885
         ],
         "line": {
          "color": "rgb(6,78,64)",
          "width": 1
         },
         "lon": [
          -121.88565999999999,
          -121.88565999999999
         ],
         "mode": "lines",
         "opacity": 0.2171945701357466,
         "type": "scattergeo"
        },
        {
         "lat": [
          37.329732,
          37.342725
         ],
         "line": {
          "color": "rgb(6,78,64)",
          "width": 1
         },
         "lon": [
          -121.901782,
          -121.895617
         ],
         "mode": "lines",
         "opacity": 0.2149321266968326,
         "type": "scattergeo"
        },
        {
         "lat": [
          37.3259984,
          37.33203868095132
         ],
         "line": {
          "color": "rgb(6,78,64)",
          "width": 1
         },
         "lon": [
          -121.87712000000002,
          -121.8817663192749
         ],
         "mode": "lines",
         "opacity": 0.20588235294117646,
         "type": "scattergeo"
        },
        {
         "lat": [
          37.337246,
          37.329732
         ],
         "line": {
          "color": "rgb(6,78,64)",
          "width": 1
         },
         "lon": [
          -121.8830739,
          -121.901782
         ],
         "mode": "lines",
         "opacity": 0.20588235294117646,
         "type": "scattergeo"
        },
        {
         "lat": [
          37.333955,
          37.333798
         ],
         "line": {
          "color": "rgb(6,78,64)",
          "width": 1
         },
         "lon": [
          -121.877349,
          -121.886943
         ],
         "mode": "lines",
         "opacity": 0.20361990950226244,
         "type": "scattergeo"
        },
        {
         "lat": [
          37.329732,
          37.32673
         ],
         "line": {
          "color": "rgb(6,78,64)",
          "width": 1
         },
         "lon": [
          -121.901782,
          -121.8892731
         ],
         "mode": "lines",
         "opacity": 0.19570135746606335,
         "type": "scattergeo"
        },
        {
         "lat": [
          37.32911866814779,
          37.3322326
         ],
         "line": {
          "color": "rgb(6,78,64)",
          "width": 1
         },
         "lon": [
          -121.90457582473756,
          -121.91251649999998
         ],
         "mode": "lines",
         "opacity": 0.19570135746606335,
         "type": "scattergeo"
        },
        {
         "lat": [
          37.333955,
          37.335885
         ],
         "line": {
          "color": "rgb(6,78,64)",
          "width": 1
         },
         "lon": [
          -121.87734900000001,
          -121.88566
         ],
         "mode": "lines",
         "opacity": 0.19457013574660634,
         "type": "scattergeo"
        },
        {
         "lat": [
          37.329732,
          37.336802
         ],
         "line": {
          "color": "rgb(6,78,64)",
          "width": 1
         },
         "lon": [
          -121.901782,
          -121.89409009999999
         ],
         "mode": "lines",
         "opacity": 0.19117647058823528,
         "type": "scattergeo"
        },
        {
         "lat": [
          37.333798,
          37.3259984
         ],
         "line": {
          "color": "rgb(6,78,64)",
          "width": 1
         },
         "lon": [
          -121.886943,
          -121.87712
         ],
         "mode": "lines",
         "opacity": 0.19117647058823528,
         "type": "scattergeo"
        },
        {
         "lat": [
          37.32673,
          37.329732
         ],
         "line": {
          "color": "rgb(6,78,64)",
          "width": 1
         },
         "lon": [
          -121.8892731,
          -121.90178200000001
         ],
         "mode": "lines",
         "opacity": 0.18665158371040724,
         "type": "scattergeo"
        },
        {
         "lat": [
          37.329732,
          37.3487586867448
         ],
         "line": {
          "color": "rgb(6,78,64)",
          "width": 1
         },
         "lon": [
          -121.90178200000001,
          -121.89479783177376
         ],
         "mode": "lines",
         "opacity": 0.18665158371040724,
         "type": "scattergeo"
        },
        {
         "lat": [
          37.32911866814779,
          37.32911866814779
         ],
         "line": {
          "color": "rgb(6,78,64)",
          "width": 1
         },
         "lon": [
          -121.90457582473758,
          -121.90457582473758
         ],
         "mode": "lines",
         "opacity": 0.18099547511312217,
         "type": "scattergeo"
        },
        {
         "lat": [
          37.336802,
          null
         ],
         "line": {
          "color": "rgb(6,78,64)",
          "width": 1
         },
         "lon": [
          -121.8940901,
          null
         ],
         "mode": "lines",
         "opacity": 0.17986425339366516,
         "type": "scattergeo"
        },
        {
         "lat": [
          37.329732,
          37.3364659
         ],
         "line": {
          "color": "rgb(6,78,64)",
          "width": 1
         },
         "lon": [
          -121.901782,
          -121.87661319999998
         ],
         "mode": "lines",
         "opacity": 0.17986425339366516,
         "type": "scattergeo"
        },
        {
         "lat": [
          37.335885,
          37.337246
         ],
         "line": {
          "color": "rgb(6,78,64)",
          "width": 1
         },
         "lon": [
          -121.88566,
          -121.8830739
         ],
         "mode": "lines",
         "opacity": 0.17873303167420815,
         "type": "scattergeo"
        },
        {
         "lat": [
          37.337391,
          37.337391
         ],
         "line": {
          "color": "rgb(6,78,64)",
          "width": 1
         },
         "lon": [
          -121.886995,
          -121.886995
         ],
         "mode": "lines",
         "opacity": 0.1753393665158371,
         "type": "scattergeo"
        },
        {
         "lat": [
          37.337246,
          37.335885
         ],
         "line": {
          "color": "rgb(6,78,64)",
          "width": 1
         },
         "lon": [
          -121.8830739,
          -121.88566000000002
         ],
         "mode": "lines",
         "opacity": 0.17307692307692307,
         "type": "scattergeo"
        },
        {
         "lat": [
          37.3487586867448,
          37.329732
         ],
         "line": {
          "color": "rgb(6,78,64)",
          "width": 1
         },
         "lon": [
          -121.89479783177376,
          -121.90178200000001
         ],
         "mode": "lines",
         "opacity": 0.17194570135746606,
         "type": "scattergeo"
        },
        {
         "lat": [
          37.33283577967246,
          37.333955
         ],
         "line": {
          "color": "rgb(6,78,64)",
          "width": 1
         },
         "lon": [
          -121.88391208648682,
          -121.87734900000001
         ],
         "mode": "lines",
         "opacity": 0.167420814479638,
         "type": "scattergeo"
        },
        {
         "lat": [
          37.329732,
          37.327581
         ],
         "line": {
          "color": "rgb(6,78,64)",
          "width": 1
         },
         "lon": [
          -121.90178200000001,
          -121.884559
         ],
         "mode": "lines",
         "opacity": 0.166289592760181,
         "type": "scattergeo"
        },
        {
         "lat": [
          37.329732,
          37.337246
         ],
         "line": {
          "color": "rgb(6,78,64)",
          "width": 1
         },
         "lon": [
          -121.90178200000001,
          -121.88307390000001
         ],
         "mode": "lines",
         "opacity": 0.166289592760181,
         "type": "scattergeo"
        },
        {
         "lat": [
          37.342725,
          null
         ],
         "line": {
          "color": "rgb(6,78,64)",
          "width": 1
         },
         "lon": [
          -121.895617,
          null
         ],
         "mode": "lines",
         "opacity": 0.16515837104072398,
         "type": "scattergeo"
        },
        {
         "lat": [
          37.342725,
          37.3509643
         ],
         "line": {
          "color": "rgb(6,78,64)",
          "width": 1
         },
         "lon": [
          -121.89561699999999,
          -121.9020161
         ],
         "mode": "lines",
         "opacity": 0.16176470588235295,
         "type": "scattergeo"
        },
        {
         "lat": [
          37.330165,
          37.329732
         ],
         "line": {
          "color": "rgb(6,78,64)",
          "width": 1
         },
         "lon": [
          -121.88583100000001,
          -121.90178200000001
         ],
         "mode": "lines",
         "opacity": 0.16176470588235295,
         "type": "scattergeo"
        },
        {
         "lat": [
          37.32911866814779,
          37.3336577
         ],
         "line": {
          "color": "rgb(6,78,64)",
          "width": 1
         },
         "lon": [
          -121.90457582473758,
          -121.90858589999999
         ],
         "mode": "lines",
         "opacity": 0.1595022624434389,
         "type": "scattergeo"
        },
        {
         "lat": [
          37.342725,
          37.342725
         ],
         "line": {
          "color": "rgb(6,78,64)",
          "width": 1
         },
         "lon": [
          -121.89561700000002,
          -121.89561700000002
         ],
         "mode": "lines",
         "opacity": 0.15723981900452488,
         "type": "scattergeo"
        },
        {
         "lat": [
          37.333988,
          37.33203868095132
         ],
         "line": {
          "color": "rgb(6,78,64)",
          "width": 1
         },
         "lon": [
          -121.894902,
          -121.8817663192749
         ],
         "mode": "lines",
         "opacity": 0.15610859728506787,
         "type": "scattergeo"
        },
        {
         "lat": [
          37.3259984,
          37.3259984
         ],
         "line": {
          "color": "rgb(6,78,64)",
          "width": 1
         },
         "lon": [
          -121.87712,
          -121.87712
         ],
         "mode": "lines",
         "opacity": 0.15497737556561086,
         "type": "scattergeo"
        },
        {
         "lat": [
          37.327581,
          37.329732
         ],
         "line": {
          "color": "rgb(6,78,64)",
          "width": 1
         },
         "lon": [
          -121.88455899999998,
          -121.901782
         ],
         "mode": "lines",
         "opacity": 0.15497737556561086,
         "type": "scattergeo"
        },
        {
         "lat": [
          37.3509643,
          37.342725
         ],
         "line": {
          "color": "rgb(6,78,64)",
          "width": 1
         },
         "lon": [
          -121.90201609999998,
          -121.895617
         ],
         "mode": "lines",
         "opacity": 0.15384615384615385,
         "type": "scattergeo"
        },
        {
         "lat": [
          37.33203868095132,
          37.3259984
         ],
         "line": {
          "color": "rgb(6,78,64)",
          "width": 1
         },
         "lon": [
          -121.8817663192749,
          -121.87711999999999
         ],
         "mode": "lines",
         "opacity": 0.15384615384615385,
         "type": "scattergeo"
        },
        {
         "lat": [
          37.332426301252056,
          37.329732
         ],
         "line": {
          "color": "rgb(6,78,64)",
          "width": 1
         },
         "lon": [
          -121.89034938812256,
          -121.90178199999998
         ],
         "mode": "lines",
         "opacity": 0.15271493212669685,
         "type": "scattergeo"
        },
        {
         "lat": [
          37.335885,
          37.3322326
         ],
         "line": {
          "color": "rgb(6,78,64)",
          "width": 1
         },
         "lon": [
          -121.88566,
          -121.91251650000001
         ],
         "mode": "lines",
         "opacity": 0.15271493212669685,
         "type": "scattergeo"
        },
        {
         "lat": [
          37.333988,
          37.3319323
         ],
         "line": {
          "color": "rgb(6,78,64)",
          "width": 1
         },
         "lon": [
          -121.894902,
          -121.9048882
         ],
         "mode": "lines",
         "opacity": 0.1493212669683258,
         "type": "scattergeo"
        },
        {
         "lat": [
          37.330698,
          37.330698
         ],
         "line": {
          "color": "rgb(6,78,64)",
          "width": 1
         },
         "lon": [
          -121.888979,
          -121.888979
         ],
         "mode": "lines",
         "opacity": 0.14592760180995476,
         "type": "scattergeo"
        },
        {
         "lat": [
          37.3327938,
          37.329732
         ],
         "line": {
          "color": "rgb(6,78,64)",
          "width": 1
         },
         "lon": [
          -121.8759263,
          -121.901782
         ],
         "mode": "lines",
         "opacity": 0.1425339366515837,
         "type": "scattergeo"
        },
        {
         "lat": [
          37.329732,
          37.332426301252056
         ],
         "line": {
          "color": "rgb(6,78,64)",
          "width": 1
         },
         "lon": [
          -121.901782,
          -121.89034938812256
         ],
         "mode": "lines",
         "opacity": 0.14027149321266968,
         "type": "scattergeo"
        },
        {
         "lat": [
          37.335885,
          37.3319323
         ],
         "line": {
          "color": "rgb(6,78,64)",
          "width": 1
         },
         "lon": [
          -121.88566,
          -121.9048882
         ],
         "mode": "lines",
         "opacity": 0.14027149321266968,
         "type": "scattergeo"
        },
        {
         "lat": [
          37.333798,
          37.333955
         ],
         "line": {
          "color": "rgb(6,78,64)",
          "width": 1
         },
         "lon": [
          -121.886943,
          -121.877349
         ],
         "mode": "lines",
         "opacity": 0.13914027149321267,
         "type": "scattergeo"
        },
        {
         "lat": [
          37.333798,
          37.342725
         ],
         "line": {
          "color": "rgb(6,78,64)",
          "width": 1
         },
         "lon": [
          -121.886943,
          -121.895617
         ],
         "mode": "lines",
         "opacity": 0.13914027149321267,
         "type": "scattergeo"
        },
        {
         "lat": [
          37.3383952,
          37.335885
         ],
         "line": {
          "color": "rgb(6,78,64)",
          "width": 1
         },
         "lon": [
          -121.8807965,
          -121.88566
         ],
         "mode": "lines",
         "opacity": 0.13687782805429866,
         "type": "scattergeo"
        },
        {
         "lat": [
          37.335885,
          37.3383952
         ],
         "line": {
          "color": "rgb(6,78,64)",
          "width": 1
         },
         "lon": [
          -121.88566,
          -121.8807965
         ],
         "mode": "lines",
         "opacity": 0.13687782805429866,
         "type": "scattergeo"
        },
        {
         "lat": [
          37.3259984,
          37.333798
         ],
         "line": {
          "color": "rgb(6,78,64)",
          "width": 1
         },
         "lon": [
          -121.87712,
          -121.886943
         ],
         "mode": "lines",
         "opacity": 0.1346153846153846,
         "type": "scattergeo"
        },
        {
         "lat": [
          37.330698,
          37.329732
         ],
         "line": {
          "color": "rgb(6,78,64)",
          "width": 1
         },
         "lon": [
          -121.888979,
          -121.90178200000001
         ],
         "mode": "lines",
         "opacity": 0.1334841628959276,
         "type": "scattergeo"
        },
        {
         "lat": [
          37.329732,
          37.3327938
         ],
         "line": {
          "color": "rgb(6,78,64)",
          "width": 1
         },
         "lon": [
          -121.901782,
          -121.8759263
         ],
         "mode": "lines",
         "opacity": 0.13009049773755657,
         "type": "scattergeo"
        },
        {
         "lat": [
          37.3229796,
          37.336802
         ],
         "line": {
          "color": "rgb(6,78,64)",
          "width": 1
         },
         "lon": [
          -121.8879312,
          -121.8940901
         ],
         "mode": "lines",
         "opacity": 0.12895927601809956,
         "type": "scattergeo"
        },
        {
         "lat": [
          37.332426301252056,
          37.332426301252056
         ],
         "line": {
          "color": "rgb(6,78,64)",
          "width": 1
         },
         "lon": [
          -121.89034938812256,
          -121.89034938812256
         ],
         "mode": "lines",
         "opacity": 0.12782805429864252,
         "type": "scattergeo"
        },
        {
         "lat": [
          37.329732,
          37.330698
         ],
         "line": {
          "color": "rgb(6,78,64)",
          "width": 1
         },
         "lon": [
          -121.901782,
          -121.88897899999999
         ],
         "mode": "lines",
         "opacity": 0.12669683257918551,
         "type": "scattergeo"
        },
        {
         "lat": [
          37.3259984,
          37.329732
         ],
         "line": {
          "color": "rgb(6,78,64)",
          "width": 1
         },
         "lon": [
          -121.87712000000002,
          -121.901782
         ],
         "mode": "lines",
         "opacity": 0.12330316742081449,
         "type": "scattergeo"
        },
        {
         "lat": [
          37.329732,
          37.337391
         ],
         "line": {
          "color": "rgb(6,78,64)",
          "width": 1
         },
         "lon": [
          -121.901782,
          -121.886995
         ],
         "mode": "lines",
         "opacity": 0.12217194570135746,
         "type": "scattergeo"
        },
        {
         "lat": [
          37.33203868095132,
          37.333988
         ],
         "line": {
          "color": "rgb(6,78,64)",
          "width": 1
         },
         "lon": [
          -121.8817663192749,
          -121.894902
         ],
         "mode": "lines",
         "opacity": 0.12104072398190045,
         "type": "scattergeo"
        },
        {
         "lat": [
          37.3429973,
          37.33283577967246
         ],
         "line": {
          "color": "rgb(6,78,64)",
          "width": 1
         },
         "lon": [
          -121.8888891,
          -121.88391208648682
         ],
         "mode": "lines",
         "opacity": 0.12104072398190045,
         "type": "scattergeo"
        },
        {
         "lat": [
          37.337246,
          37.337246
         ],
         "line": {
          "color": "rgb(6,78,64)",
          "width": 1
         },
         "lon": [
          -121.8830739,
          -121.8830739
         ],
         "mode": "lines",
         "opacity": 0.12104072398190045,
         "type": "scattergeo"
        },
        {
         "lat": [
          37.3391456,
          37.333955
         ],
         "line": {
          "color": "rgb(6,78,64)",
          "width": 1
         },
         "lon": [
          -121.8841054,
          -121.877349
         ],
         "mode": "lines",
         "opacity": 0.11990950226244344,
         "type": "scattergeo"
        },
        {
         "lat": [
          37.3487586867448,
          37.337391
         ],
         "line": {
          "color": "rgb(6,78,64)",
          "width": 1
         },
         "lon": [
          -121.89479783177376,
          -121.88699500000001
         ],
         "mode": "lines",
         "opacity": 0.11877828054298642,
         "type": "scattergeo"
        },
        {
         "lat": [
          37.3319323,
          37.333988
         ],
         "line": {
          "color": "rgb(6,78,64)",
          "width": 1
         },
         "lon": [
          -121.9048882,
          -121.894902
         ],
         "mode": "lines",
         "opacity": 0.11877828054298642,
         "type": "scattergeo"
        },
        {
         "lat": [
          37.335885,
          37.3364659
         ],
         "line": {
          "color": "rgb(6,78,64)",
          "width": 1
         },
         "lon": [
          -121.88566,
          -121.8766132
         ],
         "mode": "lines",
         "opacity": 0.11877828054298642,
         "type": "scattergeo"
        },
        {
         "lat": [
          37.333955,
          37.333955
         ],
         "line": {
          "color": "rgb(6,78,64)",
          "width": 1
         },
         "lon": [
          -121.877349,
          -121.877349
         ],
         "mode": "lines",
         "opacity": 0.11764705882352941,
         "type": "scattergeo"
        },
        {
         "lat": [
          37.3487586867448,
          37.3487586867448
         ],
         "line": {
          "color": "rgb(6,78,64)",
          "width": 1
         },
         "lon": [
          -121.89479783177376,
          -121.89479783177376
         ],
         "mode": "lines",
         "opacity": 0.1165158371040724,
         "type": "scattergeo"
        },
        {
         "lat": [
          37.3336577,
          37.329732
         ],
         "line": {
          "color": "rgb(6,78,64)",
          "width": 1
         },
         "lon": [
          -121.9085859,
          -121.901782
         ],
         "mode": "lines",
         "opacity": 0.1165158371040724,
         "type": "scattergeo"
        },
        {
         "lat": [
          37.337246,
          37.333798
         ],
         "line": {
          "color": "rgb(6,78,64)",
          "width": 1
         },
         "lon": [
          -121.8830739,
          -121.88694300000002
         ],
         "mode": "lines",
         "opacity": 0.11312217194570136,
         "type": "scattergeo"
        },
        {
         "lat": [
          37.333798,
          37.335885
         ],
         "line": {
          "color": "rgb(6,78,64)",
          "width": 1
         },
         "lon": [
          -121.886943,
          -121.88566
         ],
         "mode": "lines",
         "opacity": 0.11199095022624435,
         "type": "scattergeo"
        },
        {
         "lat": [
          37.329732,
          37.333955
         ],
         "line": {
          "color": "rgb(6,78,64)",
          "width": 1
         },
         "lon": [
          -121.901782,
          -121.877349
         ],
         "mode": "lines",
         "opacity": 0.11199095022624435,
         "type": "scattergeo"
        },
        {
         "lat": [
          37.3364659,
          37.335885
         ],
         "line": {
          "color": "rgb(6,78,64)",
          "width": 1
         },
         "lon": [
          -121.8766132,
          -121.88566
         ],
         "mode": "lines",
         "opacity": 0.11199095022624435,
         "type": "scattergeo"
        },
        {
         "lat": [
          37.336802,
          37.3229796
         ],
         "line": {
          "color": "rgb(6,78,64)",
          "width": 1
         },
         "lon": [
          -121.8940901,
          -121.8879312
         ],
         "mode": "lines",
         "opacity": 0.10972850678733032,
         "type": "scattergeo"
        },
        {
         "lat": [
          37.335885,
          37.33283577967246
         ],
         "line": {
          "color": "rgb(6,78,64)",
          "width": 1
         },
         "lon": [
          -121.88566000000002,
          -121.88391208648682
         ],
         "mode": "lines",
         "opacity": 0.10972850678733032,
         "type": "scattergeo"
        },
        {
         "lat": [
          37.333955,
          37.3391456
         ],
         "line": {
          "color": "rgb(6,78,64)",
          "width": 1
         },
         "lon": [
          -121.877349,
          -121.8841054
         ],
         "mode": "lines",
         "opacity": 0.1085972850678733,
         "type": "scattergeo"
        },
        {
         "lat": [
          37.3383952,
          37.329732
         ],
         "line": {
          "color": "rgb(6,78,64)",
          "width": 1
         },
         "lon": [
          -121.88079650000002,
          -121.90178199999998
         ],
         "mode": "lines",
         "opacity": 0.1085972850678733,
         "type": "scattergeo"
        },
        {
         "lat": [
          37.336802,
          37.336802
         ],
         "line": {
          "color": "rgb(6,78,64)",
          "width": 1
         },
         "lon": [
          -121.89409010000001,
          -121.89409010000001
         ],
         "mode": "lines",
         "opacity": 0.1085972850678733,
         "type": "scattergeo"
        },
        {
         "lat": [
          37.33618830029063,
          37.3322326
         ],
         "line": {
          "color": "rgb(6,78,64)",
          "width": 1
         },
         "lon": [
          -121.8892765045166,
          -121.9125165
         ],
         "mode": "lines",
         "opacity": 0.1074660633484163,
         "type": "scattergeo"
        },
        {
         "lat": [
          37.337246,
          37.3322326
         ],
         "line": {
          "color": "rgb(6,78,64)",
          "width": 1
         },
         "lon": [
          -121.88307389999999,
          -121.9125165
         ],
         "mode": "lines",
         "opacity": 0.10633484162895927,
         "type": "scattergeo"
        },
        {
         "hoverinfo": "text",
         "lat": [
          37.33203868095132,
          37.3259984,
          37.3383952,
          37.32673,
          37.331415,
          37.3413348,
          37.32911866814779,
          37.33618830029063,
          37.3487586867448,
          37.3429973,
          37.3229796,
          37.332426301252056,
          37.3509643,
          37.3336577,
          37.333798,
          37.327581,
          37.34272500000001,
          37.33283577967246,
          37.3364659,
          37.330698,
          37.335885,
          37.337246,
          37.337391,
          37.329732,
          37.336802,
          37.330165,
          37.333955,
          37.3391456,
          37.333988,
          37.3319323,
          37.3327938,
          37.32911866814779,
          37.3322326,
          37.3509643,
          37.3336577,
          37.327581,
          37.3364659,
          37.335885,
          37.329732,
          37.336802
         ],
         "lon": [
          -121.8817663192749,
          -121.87712,
          -121.8807965,
          -121.8892731,
          -121.89320000000001,
          -121.9031829,
          -121.90457582473756,
          -121.8892765045166,
          -121.89479783177376,
          -121.8888891,
          -121.8879312,
          -121.89034938812256,
          -121.90201609999998,
          -121.9085859,
          -121.886943,
          -121.88455899999998,
          -121.895617,
          -121.88391208648682,
          -121.8766132,
          -121.888979,
          -121.88566,
          -121.8830739,
          -121.886995,
          -121.901782,
          -121.8940901,
          -121.88583100000001,
          -121.877349,
          -121.8841054,
          -121.894902,
          -121.9048882,
          -121.8759263,
          -121.90457582473758,
          -121.9125165,
          -121.9020161,
          -121.90858589999999,
          -121.884559,
          -121.87661319999998,
          -121.88565999999999,
          -121.90178199999998,
          -121.89409010000001
         ],
         "marker": {
          "color": "rgb(53, 94, 59)",
          "line": {
           "color": "rgba(68, 68, 68, 0)",
           "width": 3
          },
          "opacity": 0.8,
          "size": 2
         },
         "mode": "markers",
         "text": [
          "5th St at San Salvador St",
          "5th St at Virginia St",
          "9th St at San Fernando",
          "Almaden Blvd at Balbach St",
          "Almaden Blvd at San Fernando St",
          "Autumn Parkway at Coleman Ave",
          "Cahill Park",
          "Fountain Alley at S 2nd St",
          "Jackson St at 5th St",
          "Julian St at 6th St",
          "Locust St at Grant St",
          "Market St at Park St",
          "Mission St at 1st St",
          "Morrison Ave at Julian St",
          "Paseo De San Antonio at 2nd St",
          "Pierce Ave at Market St",
          "Ryland Park",
          "S. 4th St at San Carlos St",
          "San Carlos St at 11th St",
          "San Carlos St at Market St",
          "San Fernando St at 4th St",
          "San Fernando at 7th St",
          "San Jose City Hall",
          "San Jose Diridon Station",
          "San Pedro Square",
          "San Salvador St at 1st St",
          "San Salvador St at 9th St",
          "Santa Clara St at 7th St",
          "Santa Clara St at Almaden Blvd",
          "The Alameda at Bush St",
          "William St at 10th St",
          "Cahill Park",
          "Julian St at The Alameda",
          "Mission St at 1st St",
          "Morrison Ave at Julian St",
          "Pierce Ave at Market St",
          "San Carlos St at 11th St",
          "San Fernando St at 4th St",
          "San Jose Diridon Station",
          "San Pedro Square"
         ],
         "type": "scattergeo"
        }
       ],
       "layout": {
        "geo": {
         "coastlinewidth": 2,
         "countrycolor": "rgb(204, 204, 204)",
         "lakecolor": "rgb(255, 255, 255)",
         "landcolor": "rgb(204, 204, 204)",
         "lataxis": {
          "dtick": 10,
          "range": [
           37.3129796,
           37.3609643
          ],
          "showgrid": true
         },
         "lonaxis": {
          "dtick": 20,
          "range": [
           -121.9225165,
           -121.8659263
          ],
          "showgrid": true
         },
         "projection": {
          "type": "equirectangular"
         },
         "resolution": 50,
         "showlakes": true,
         "showland": true
        },
        "showlegend": false,
        "template": {
         "data": {
          "bar": [
           {
            "error_x": {
             "color": "#2a3f5f"
            },
            "error_y": {
             "color": "#2a3f5f"
            },
            "marker": {
             "line": {
              "color": "#E5ECF6",
              "width": 0.5
             },
             "pattern": {
              "fillmode": "overlay",
              "size": 10,
              "solidity": 0.2
             }
            },
            "type": "bar"
           }
          ],
          "barpolar": [
           {
            "marker": {
             "line": {
              "color": "#E5ECF6",
              "width": 0.5
             },
             "pattern": {
              "fillmode": "overlay",
              "size": 10,
              "solidity": 0.2
             }
            },
            "type": "barpolar"
           }
          ],
          "carpet": [
           {
            "aaxis": {
             "endlinecolor": "#2a3f5f",
             "gridcolor": "white",
             "linecolor": "white",
             "minorgridcolor": "white",
             "startlinecolor": "#2a3f5f"
            },
            "baxis": {
             "endlinecolor": "#2a3f5f",
             "gridcolor": "white",
             "linecolor": "white",
             "minorgridcolor": "white",
             "startlinecolor": "#2a3f5f"
            },
            "type": "carpet"
           }
          ],
          "choropleth": [
           {
            "colorbar": {
             "outlinewidth": 0,
             "ticks": ""
            },
            "type": "choropleth"
           }
          ],
          "contour": [
           {
            "colorbar": {
             "outlinewidth": 0,
             "ticks": ""
            },
            "colorscale": [
             [
              0,
              "#0d0887"
             ],
             [
              0.1111111111111111,
              "#46039f"
             ],
             [
              0.2222222222222222,
              "#7201a8"
             ],
             [
              0.3333333333333333,
              "#9c179e"
             ],
             [
              0.4444444444444444,
              "#bd3786"
             ],
             [
              0.5555555555555556,
              "#d8576b"
             ],
             [
              0.6666666666666666,
              "#ed7953"
             ],
             [
              0.7777777777777778,
              "#fb9f3a"
             ],
             [
              0.8888888888888888,
              "#fdca26"
             ],
             [
              1,
              "#f0f921"
             ]
            ],
            "type": "contour"
           }
          ],
          "contourcarpet": [
           {
            "colorbar": {
             "outlinewidth": 0,
             "ticks": ""
            },
            "type": "contourcarpet"
           }
          ],
          "heatmap": [
           {
            "colorbar": {
             "outlinewidth": 0,
             "ticks": ""
            },
            "colorscale": [
             [
              0,
              "#0d0887"
             ],
             [
              0.1111111111111111,
              "#46039f"
             ],
             [
              0.2222222222222222,
              "#7201a8"
             ],
             [
              0.3333333333333333,
              "#9c179e"
             ],
             [
              0.4444444444444444,
              "#bd3786"
             ],
             [
              0.5555555555555556,
              "#d8576b"
             ],
             [
              0.6666666666666666,
              "#ed7953"
             ],
             [
              0.7777777777777778,
              "#fb9f3a"
             ],
             [
              0.8888888888888888,
              "#fdca26"
             ],
             [
              1,
              "#f0f921"
             ]
            ],
            "type": "heatmap"
           }
          ],
          "heatmapgl": [
           {
            "colorbar": {
             "outlinewidth": 0,
             "ticks": ""
            },
            "colorscale": [
             [
              0,
              "#0d0887"
             ],
             [
              0.1111111111111111,
              "#46039f"
             ],
             [
              0.2222222222222222,
              "#7201a8"
             ],
             [
              0.3333333333333333,
              "#9c179e"
             ],
             [
              0.4444444444444444,
              "#bd3786"
             ],
             [
              0.5555555555555556,
              "#d8576b"
             ],
             [
              0.6666666666666666,
              "#ed7953"
             ],
             [
              0.7777777777777778,
              "#fb9f3a"
             ],
             [
              0.8888888888888888,
              "#fdca26"
             ],
             [
              1,
              "#f0f921"
             ]
            ],
            "type": "heatmapgl"
           }
          ],
          "histogram": [
           {
            "marker": {
             "pattern": {
              "fillmode": "overlay",
              "size": 10,
              "solidity": 0.2
             }
            },
            "type": "histogram"
           }
          ],
          "histogram2d": [
           {
            "colorbar": {
             "outlinewidth": 0,
             "ticks": ""
            },
            "colorscale": [
             [
              0,
              "#0d0887"
             ],
             [
              0.1111111111111111,
              "#46039f"
             ],
             [
              0.2222222222222222,
              "#7201a8"
             ],
             [
              0.3333333333333333,
              "#9c179e"
             ],
             [
              0.4444444444444444,
              "#bd3786"
             ],
             [
              0.5555555555555556,
              "#d8576b"
             ],
             [
              0.6666666666666666,
              "#ed7953"
             ],
             [
              0.7777777777777778,
              "#fb9f3a"
             ],
             [
              0.8888888888888888,
              "#fdca26"
             ],
             [
              1,
              "#f0f921"
             ]
            ],
            "type": "histogram2d"
           }
          ],
          "histogram2dcontour": [
           {
            "colorbar": {
             "outlinewidth": 0,
             "ticks": ""
            },
            "colorscale": [
             [
              0,
              "#0d0887"
             ],
             [
              0.1111111111111111,
              "#46039f"
             ],
             [
              0.2222222222222222,
              "#7201a8"
             ],
             [
              0.3333333333333333,
              "#9c179e"
             ],
             [
              0.4444444444444444,
              "#bd3786"
             ],
             [
              0.5555555555555556,
              "#d8576b"
             ],
             [
              0.6666666666666666,
              "#ed7953"
             ],
             [
              0.7777777777777778,
              "#fb9f3a"
             ],
             [
              0.8888888888888888,
              "#fdca26"
             ],
             [
              1,
              "#f0f921"
             ]
            ],
            "type": "histogram2dcontour"
           }
          ],
          "mesh3d": [
           {
            "colorbar": {
             "outlinewidth": 0,
             "ticks": ""
            },
            "type": "mesh3d"
           }
          ],
          "parcoords": [
           {
            "line": {
             "colorbar": {
              "outlinewidth": 0,
              "ticks": ""
             }
            },
            "type": "parcoords"
           }
          ],
          "pie": [
           {
            "automargin": true,
            "type": "pie"
           }
          ],
          "scatter": [
           {
            "marker": {
             "colorbar": {
              "outlinewidth": 0,
              "ticks": ""
             }
            },
            "type": "scatter"
           }
          ],
          "scatter3d": [
           {
            "line": {
             "colorbar": {
              "outlinewidth": 0,
              "ticks": ""
             }
            },
            "marker": {
             "colorbar": {
              "outlinewidth": 0,
              "ticks": ""
             }
            },
            "type": "scatter3d"
           }
          ],
          "scattercarpet": [
           {
            "marker": {
             "colorbar": {
              "outlinewidth": 0,
              "ticks": ""
             }
            },
            "type": "scattercarpet"
           }
          ],
          "scattergeo": [
           {
            "marker": {
             "colorbar": {
              "outlinewidth": 0,
              "ticks": ""
             }
            },
            "type": "scattergeo"
           }
          ],
          "scattergl": [
           {
            "marker": {
             "colorbar": {
              "outlinewidth": 0,
              "ticks": ""
             }
            },
            "type": "scattergl"
           }
          ],
          "scattermapbox": [
           {
            "marker": {
             "colorbar": {
              "outlinewidth": 0,
              "ticks": ""
             }
            },
            "type": "scattermapbox"
           }
          ],
          "scatterpolar": [
           {
            "marker": {
             "colorbar": {
              "outlinewidth": 0,
              "ticks": ""
             }
            },
            "type": "scatterpolar"
           }
          ],
          "scatterpolargl": [
           {
            "marker": {
             "colorbar": {
              "outlinewidth": 0,
              "ticks": ""
             }
            },
            "type": "scatterpolargl"
           }
          ],
          "scatterternary": [
           {
            "marker": {
             "colorbar": {
              "outlinewidth": 0,
              "ticks": ""
             }
            },
            "type": "scatterternary"
           }
          ],
          "surface": [
           {
            "colorbar": {
             "outlinewidth": 0,
             "ticks": ""
            },
            "colorscale": [
             [
              0,
              "#0d0887"
             ],
             [
              0.1111111111111111,
              "#46039f"
             ],
             [
              0.2222222222222222,
              "#7201a8"
             ],
             [
              0.3333333333333333,
              "#9c179e"
             ],
             [
              0.4444444444444444,
              "#bd3786"
             ],
             [
              0.5555555555555556,
              "#d8576b"
             ],
             [
              0.6666666666666666,
              "#ed7953"
             ],
             [
              0.7777777777777778,
              "#fb9f3a"
             ],
             [
              0.8888888888888888,
              "#fdca26"
             ],
             [
              1,
              "#f0f921"
             ]
            ],
            "type": "surface"
           }
          ],
          "table": [
           {
            "cells": {
             "fill": {
              "color": "#EBF0F8"
             },
             "line": {
              "color": "white"
             }
            },
            "header": {
             "fill": {
              "color": "#C8D4E3"
             },
             "line": {
              "color": "white"
             }
            },
            "type": "table"
           }
          ]
         },
         "layout": {
          "annotationdefaults": {
           "arrowcolor": "#2a3f5f",
           "arrowhead": 0,
           "arrowwidth": 1
          },
          "autotypenumbers": "strict",
          "coloraxis": {
           "colorbar": {
            "outlinewidth": 0,
            "ticks": ""
           }
          },
          "colorscale": {
           "diverging": [
            [
             0,
             "#8e0152"
            ],
            [
             0.1,
             "#c51b7d"
            ],
            [
             0.2,
             "#de77ae"
            ],
            [
             0.3,
             "#f1b6da"
            ],
            [
             0.4,
             "#fde0ef"
            ],
            [
             0.5,
             "#f7f7f7"
            ],
            [
             0.6,
             "#e6f5d0"
            ],
            [
             0.7,
             "#b8e186"
            ],
            [
             0.8,
             "#7fbc41"
            ],
            [
             0.9,
             "#4d9221"
            ],
            [
             1,
             "#276419"
            ]
           ],
           "sequential": [
            [
             0,
             "#0d0887"
            ],
            [
             0.1111111111111111,
             "#46039f"
            ],
            [
             0.2222222222222222,
             "#7201a8"
            ],
            [
             0.3333333333333333,
             "#9c179e"
            ],
            [
             0.4444444444444444,
             "#bd3786"
            ],
            [
             0.5555555555555556,
             "#d8576b"
            ],
            [
             0.6666666666666666,
             "#ed7953"
            ],
            [
             0.7777777777777778,
             "#fb9f3a"
            ],
            [
             0.8888888888888888,
             "#fdca26"
            ],
            [
             1,
             "#f0f921"
            ]
           ],
           "sequentialminus": [
            [
             0,
             "#0d0887"
            ],
            [
             0.1111111111111111,
             "#46039f"
            ],
            [
             0.2222222222222222,
             "#7201a8"
            ],
            [
             0.3333333333333333,
             "#9c179e"
            ],
            [
             0.4444444444444444,
             "#bd3786"
            ],
            [
             0.5555555555555556,
             "#d8576b"
            ],
            [
             0.6666666666666666,
             "#ed7953"
            ],
            [
             0.7777777777777778,
             "#fb9f3a"
            ],
            [
             0.8888888888888888,
             "#fdca26"
            ],
            [
             1,
             "#f0f921"
            ]
           ]
          },
          "colorway": [
           "#636efa",
           "#EF553B",
           "#00cc96",
           "#ab63fa",
           "#FFA15A",
           "#19d3f3",
           "#FF6692",
           "#B6E880",
           "#FF97FF",
           "#FECB52"
          ],
          "font": {
           "color": "#2a3f5f"
          },
          "geo": {
           "bgcolor": "white",
           "lakecolor": "white",
           "landcolor": "#E5ECF6",
           "showlakes": true,
           "showland": true,
           "subunitcolor": "white"
          },
          "hoverlabel": {
           "align": "left"
          },
          "hovermode": "closest",
          "mapbox": {
           "style": "light"
          },
          "paper_bgcolor": "white",
          "plot_bgcolor": "#E5ECF6",
          "polar": {
           "angularaxis": {
            "gridcolor": "white",
            "linecolor": "white",
            "ticks": ""
           },
           "bgcolor": "#E5ECF6",
           "radialaxis": {
            "gridcolor": "white",
            "linecolor": "white",
            "ticks": ""
           }
          },
          "scene": {
           "xaxis": {
            "backgroundcolor": "#E5ECF6",
            "gridcolor": "white",
            "gridwidth": 2,
            "linecolor": "white",
            "showbackground": true,
            "ticks": "",
            "zerolinecolor": "white"
           },
           "yaxis": {
            "backgroundcolor": "#E5ECF6",
            "gridcolor": "white",
            "gridwidth": 2,
            "linecolor": "white",
            "showbackground": true,
            "ticks": "",
            "zerolinecolor": "white"
           },
           "zaxis": {
            "backgroundcolor": "#E5ECF6",
            "gridcolor": "white",
            "gridwidth": 2,
            "linecolor": "white",
            "showbackground": true,
            "ticks": "",
            "zerolinecolor": "white"
           }
          },
          "shapedefaults": {
           "line": {
            "color": "#2a3f5f"
           }
          },
          "ternary": {
           "aaxis": {
            "gridcolor": "white",
            "linecolor": "white",
            "ticks": ""
           },
           "baxis": {
            "gridcolor": "white",
            "linecolor": "white",
            "ticks": ""
           },
           "bgcolor": "#E5ECF6",
           "caxis": {
            "gridcolor": "white",
            "linecolor": "white",
            "ticks": ""
           }
          },
          "title": {
           "x": 0.05
          },
          "xaxis": {
           "automargin": true,
           "gridcolor": "white",
           "linecolor": "white",
           "ticks": "",
           "title": {
            "standoff": 15
           },
           "zerolinecolor": "white",
           "zerolinewidth": 2
          },
          "yaxis": {
           "automargin": true,
           "gridcolor": "white",
           "linecolor": "white",
           "ticks": "",
           "title": {
            "standoff": 15
           },
           "zerolinecolor": "white",
           "zerolinewidth": 2
          }
         }
        },
        "title": {
         "text": "Top 100 trips done in San Jose during 2016 May - 2018 Apr (Hover to see station names)"
        }
       }
      }
     },
     "metadata": {},
     "output_type": "display_data"
    }
   ],
   "source": [
    "visualise_trip(sj, sj_stations, 'San Jose')"
   ]
  },
  {
   "cell_type": "code",
   "execution_count": 208,
   "metadata": {},
   "outputs": [],
   "source": [
    "# No. of trips by subscriber type\n",
    "\n",
    "subscriber = trips_df.groupby(['clean_subscriber']).agg(trip_cnt = ('trip_id', 'nunique'))"
   ]
  },
  {
   "cell_type": "code",
   "execution_count": 123,
   "metadata": {},
   "outputs": [
    {
     "data": {
      "text/html": [
       "<div>\n",
       "<style scoped>\n",
       "    .dataframe tbody tr th:only-of-type {\n",
       "        vertical-align: middle;\n",
       "    }\n",
       "\n",
       "    .dataframe tbody tr th {\n",
       "        vertical-align: top;\n",
       "    }\n",
       "\n",
       "    .dataframe thead th {\n",
       "        text-align: right;\n",
       "    }\n",
       "</style>\n",
       "<table border=\"1\" class=\"dataframe\">\n",
       "  <thead>\n",
       "    <tr style=\"text-align: right;\">\n",
       "      <th></th>\n",
       "      <th>trip_cnt</th>\n",
       "    </tr>\n",
       "    <tr>\n",
       "      <th>clean_subscriber</th>\n",
       "      <th></th>\n",
       "    </tr>\n",
       "  </thead>\n",
       "  <tbody>\n",
       "    <tr>\n",
       "      <th>Customer</th>\n",
       "      <td>185679</td>\n",
       "    </tr>\n",
       "    <tr>\n",
       "      <th>Subscriber</th>\n",
       "      <td>864014</td>\n",
       "    </tr>\n",
       "  </tbody>\n",
       "</table>\n",
       "</div>"
      ],
      "text/plain": [
       "                  trip_cnt\n",
       "clean_subscriber          \n",
       "Customer            185679\n",
       "Subscriber          864014"
      ]
     },
     "execution_count": 123,
     "metadata": {},
     "output_type": "execute_result"
    }
   ],
   "source": [
    "trips_df.groupby(['clean_subscriber']).agg(trip_cnt = ('trip_id', 'nunique'))"
   ]
  },
  {
   "cell_type": "code",
   "execution_count": 209,
   "metadata": {},
   "outputs": [
    {
     "data": {
      "image/png": "[encoded data removed]",
      "text/plain": [
       "<Figure size 432x288 with 1 Axes>"
      ]
     },
     "metadata": {
      "needs_background": "light"
     },
     "output_type": "display_data"
    }
   ],
   "source": [
    "ax = subscriber.plot(kind='bar', rot=45)\n",
    "ax.get_yaxis().set_major_formatter(\n",
    "    FuncFormatter(lambda x, p: format(int(x), ',')))\n",
    "\n",
    "plt.title('No. of trips by subscriber type')\n",
    "plt.xlabel('Subscriber type')\n",
    "plt.ylabel('No. of trips')\n",
    "plt.legend([])\n",
    "\n",
    "plt.show()"
   ]
  },
  {
   "cell_type": "code",
   "execution_count": 210,
   "metadata": {},
   "outputs": [],
   "source": [
    "# most popular day of the week\n",
    "\n",
    "day_of_the_week = trips_df['start_date'].dt.day_name()\n",
    "\n",
    "day_trips = trips_df.groupby(day_of_the_week).agg(cnt_trip=('trip_id', 'nunique'))\n"
   ]
  },
  {
   "cell_type": "code",
   "execution_count": 211,
   "metadata": {},
   "outputs": [
    {
     "data": {
      "image/png": "[encoded data removed]",
      "text/plain": [
       "<Figure size 432x288 with 1 Axes>"
      ]
     },
     "metadata": {
      "needs_background": "light"
     },
     "output_type": "display_data"
    }
   ],
   "source": [
    "ax = day_trips.loc[['Monday', 'Tuesday', 'Wednesday', 'Thursday', 'Friday', 'Saturday', 'Sunday']].plot(kind='bar', rot=45)\n",
    "ax.get_yaxis().set_major_formatter(\n",
    "    FuncFormatter(lambda x, p: format(int(x), ',')))\n",
    "\n",
    "plt.title('No. of trips by day of the week')\n",
    "plt.xlabel('Day of the week')\n",
    "plt.ylabel('No. of trips')\n",
    "plt.legend([])\n",
    "\n",
    "plt.show()"
   ]
  },
  {
   "cell_type": "code",
   "execution_count": 213,
   "metadata": {},
   "outputs": [],
   "source": [
    "months= trips_df['start_date'].dt.month_name()\n",
    "\n",
    "month_trips = trips_df.groupby(months).agg(cnt_trip=('trip_id', 'nunique'))"
   ]
  },
  {
   "cell_type": "code",
   "execution_count": 214,
   "metadata": {},
   "outputs": [],
   "source": [
    "# arrange the chart in right order\n",
    "\n",
    "mnth_order = ['January', 'February', 'March', 'April', 'May', 'June', 'July', 'August', 'September', 'October', 'November', 'December']"
   ]
  },
  {
   "cell_type": "code",
   "execution_count": 215,
   "metadata": {},
   "outputs": [
    {
     "data": {
      "image/png": "[encoded data removed]",
      "text/plain": [
       "<Figure size 432x288 with 1 Axes>"
      ]
     },
     "metadata": {
      "needs_background": "light"
     },
     "output_type": "display_data"
    }
   ],
   "source": [
    "ax = month_trips.loc[mnth_order].plot(kind='bar', rot=45)\n",
    "ax.get_yaxis().set_major_formatter(\n",
    "    FuncFormatter(lambda x, p: format(int(x), ',')))\n",
    "\n",
    "plt.title('No. of trips by month of the year')\n",
    "plt.xlabel('Month')\n",
    "plt.ylabel('No. of trips')\n",
    "plt.legend([])\n",
    "\n",
    "plt.show()"
   ]
  },
  {
   "cell_type": "markdown",
   "metadata": {},
   "source": [
    "## Analysis\n",
    "\n",
    "Based on the graphs visualised above, I have five main recommendations:\n",
    "\n",
    "1. Beachhead targets should be office workers and students\n",
    "- Based on the no. of trips by day of the week, I hypothesize that the scheme users are office workers/ students. Usage during the weekend is almost half of that during the week. \n",
    "- Office workers:\n",
    "    - Profile: don't want to own/ maintain a bike, health-conscious, young, budget conscious, work from the office (not wrh)\n",
    "    - Outbound strategies: \n",
    "        - Discounts for co-working space users\n",
    "        - Initiatives with big companies to offer employee discounts\n",
    "    - Inbound strategies:\n",
    "        - Brand presence in commercial districts (the most popular bike stops)\n",
    "            - Billboards\n",
    "            - Screens in office buildings\n",
    "        - Linkedin, people who searched for bikes, even office wear\n",
    "        - Google map ads\n",
    "- Students:\n",
    "    - Profile: Undergrads, postgrads, active, budget conscious\n",
    "    - Outbound strategies:\n",
    "        - Discounts for students (student discount apps/ sites)\n",
    "        - Initiatives with big colleges to offer discounts\n",
    "    - Inbound strategies:\n",
    "        - Brand presence in college areas\n",
    "            - Billboards\n",
    "            - Student brand ambassadors\n",
    "            - Sponsorship for college events\n",
    "        - Students who searched for sports-related terms (indicate active lifestyle)\n",
    "<br>\n",
    "\n",
    "2. Brand presence at public transport <br>\n",
    "The bike route visualisation shows that public transport stations (e.g. Diridon station, SF caltrain station, BART stations in Oatkland) are all popular hubs on the bike network. One possible explanation is that users might have biked to the station to get out of town, or train commuters arriving in town might be using bikes for in-town commute. Brand presence at these stations is important to boost visibility and show other transport users a commute alternative.\n",
    "\n",
    "3. Expand along train stations <br>\n",
    "Since train stations are major hubs, more bike stops near train stations would meet the demand of users travelling from the stations/ users travelling to the stations looking for a spot to park. \n",
    "\n",
    "4. Expand 2km away from the furthest nodes <br>\n",
    "The distribution of distance travelled by bikers shows that most journeys are between 1-2km. This means when the scheme is expanding, it should consider neighbourhoods that are less than 2km away from the furthest bike stops currently on the map. This is likely to connect neighbourhoods outside the network effectively. \n",
    "\n",
    "5. Pricing: free time window for subscribers should be shorter <br>\n",
    "The distribution of duration travelled by users shown was cut off at the 95th percentile. 95% of the trips done by the scheme users were less than 30 minutes in duration. The scheme during the period (2016-2018), however, only charges $3 for each additional 15 minutes when the trip is over _45_ minutes. The free time window should be reduced to 30 minutes, as this can differentiate around 5% of current trips which can then be charged at a higher price point.\n",
    "\n",
    "## Limitations\n",
    "\n",
    "The graphs visualised above only just scratched the surface. More insights can be drawn from, say, station availability to see which bike stops are always empty/ full, so as to add more stops near them. \n",
    "\n",
    "However, the data is beset with two main challenges:\n",
    "- No user ID:\n",
    "    - There is little information about the user. Much information about user age and gender is missing, while the ZIP code is unreliable, as cautioned by the dataset provider. What is more, there is no user ID which is necessary for user behaviour analysis. This makes it hard to identify, say, traits of users with high bike usage. \n",
    "- Trips and station availability exist in different time periods:\n",
    "    - This means further analysis on station availability e.g. which time of the day it is emptiest/ fullest, is not possible. \n",
    "\n",
    "A deck for this can be accessed [here](https://github.com/wy-yip/portfolio/blob/main/gobike_analysis_deck.pdf)."
   ]
  }
 ],
 "metadata": {
  "kernelspec": {
   "display_name": "Python 3.8.12 ('base')",
   "language": "python",
   "name": "python3"
  },
  "language_info": {
   "codemirror_mode": {
    "name": "ipython",
    "version": 3
   },
   "file_extension": ".py",
   "mimetype": "text/x-python",
   "name": "python",
   "nbconvert_exporter": "python",
   "pygments_lexer": "ipython3",
   "version": "3.8.12"
  },
  "orig_nbformat": 4,
  "vscode": {
   "interpreter": {
    "hash": "885f35d611c00eed9cd5a15e75b021e99549f5487fdf844650724fb4793b2583"
   }
  }
 },
 "nbformat": 4,
 "nbformat_minor": 2
}
